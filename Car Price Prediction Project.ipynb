{
 "cells": [
  {
   "cell_type": "markdown",
   "id": "1509e357-b920-45a0-b589-f350d4a90dc0",
   "metadata": {},
   "source": [
    "# Import the Libraries"
   ]
  },
  {
   "cell_type": "code",
   "execution_count": 1,
   "id": "d325ac6e-5605-465a-b5c2-b959e33d9b93",
   "metadata": {},
   "outputs": [],
   "source": [
    "import pandas as pd\n",
    "import numpy as np\n",
    "import matplotlib.pyplot as plt\n",
    "import seaborn as sns"
   ]
  },
  {
   "cell_type": "code",
   "execution_count": 2,
   "id": "8c97a1be-f851-4cb4-ba8f-88d8c6dcfc60",
   "metadata": {},
   "outputs": [],
   "source": [
    "df=pd.read_csv(\"car data.csv\")\n"
   ]
  },
  {
   "cell_type": "markdown",
   "id": "927bb374-3982-40c1-9b13-dead5537b971",
   "metadata": {},
   "source": [
    "# Display the Dataset"
   ]
  },
  {
   "cell_type": "code",
   "execution_count": 3,
   "id": "833a86d8-bdcc-4964-93ae-cac0c019d669",
   "metadata": {},
   "outputs": [
    {
     "data": {
      "text/html": [
       "<div>\n",
       "<style scoped>\n",
       "    .dataframe tbody tr th:only-of-type {\n",
       "        vertical-align: middle;\n",
       "    }\n",
       "\n",
       "    .dataframe tbody tr th {\n",
       "        vertical-align: top;\n",
       "    }\n",
       "\n",
       "    .dataframe thead th {\n",
       "        text-align: right;\n",
       "    }\n",
       "</style>\n",
       "<table border=\"1\" class=\"dataframe\">\n",
       "  <thead>\n",
       "    <tr style=\"text-align: right;\">\n",
       "      <th></th>\n",
       "      <th>Car_Name</th>\n",
       "      <th>Year</th>\n",
       "      <th>Selling_Price</th>\n",
       "      <th>Present_Price</th>\n",
       "      <th>Kms_Driven</th>\n",
       "      <th>Fuel_Type</th>\n",
       "      <th>Seller_Type</th>\n",
       "      <th>Transmission</th>\n",
       "      <th>Owner</th>\n",
       "    </tr>\n",
       "  </thead>\n",
       "  <tbody>\n",
       "    <tr>\n",
       "      <th>0</th>\n",
       "      <td>ritz</td>\n",
       "      <td>2014</td>\n",
       "      <td>3.35</td>\n",
       "      <td>5.59</td>\n",
       "      <td>27000</td>\n",
       "      <td>Petrol</td>\n",
       "      <td>Dealer</td>\n",
       "      <td>Manual</td>\n",
       "      <td>0</td>\n",
       "    </tr>\n",
       "    <tr>\n",
       "      <th>1</th>\n",
       "      <td>sx4</td>\n",
       "      <td>2013</td>\n",
       "      <td>4.75</td>\n",
       "      <td>9.54</td>\n",
       "      <td>43000</td>\n",
       "      <td>Diesel</td>\n",
       "      <td>Dealer</td>\n",
       "      <td>Manual</td>\n",
       "      <td>0</td>\n",
       "    </tr>\n",
       "    <tr>\n",
       "      <th>2</th>\n",
       "      <td>ciaz</td>\n",
       "      <td>2017</td>\n",
       "      <td>7.25</td>\n",
       "      <td>9.85</td>\n",
       "      <td>6900</td>\n",
       "      <td>Petrol</td>\n",
       "      <td>Dealer</td>\n",
       "      <td>Manual</td>\n",
       "      <td>0</td>\n",
       "    </tr>\n",
       "    <tr>\n",
       "      <th>3</th>\n",
       "      <td>wagon r</td>\n",
       "      <td>2011</td>\n",
       "      <td>2.85</td>\n",
       "      <td>4.15</td>\n",
       "      <td>5200</td>\n",
       "      <td>Petrol</td>\n",
       "      <td>Dealer</td>\n",
       "      <td>Manual</td>\n",
       "      <td>0</td>\n",
       "    </tr>\n",
       "    <tr>\n",
       "      <th>4</th>\n",
       "      <td>swift</td>\n",
       "      <td>2014</td>\n",
       "      <td>4.60</td>\n",
       "      <td>6.87</td>\n",
       "      <td>42450</td>\n",
       "      <td>Diesel</td>\n",
       "      <td>Dealer</td>\n",
       "      <td>Manual</td>\n",
       "      <td>0</td>\n",
       "    </tr>\n",
       "    <tr>\n",
       "      <th>...</th>\n",
       "      <td>...</td>\n",
       "      <td>...</td>\n",
       "      <td>...</td>\n",
       "      <td>...</td>\n",
       "      <td>...</td>\n",
       "      <td>...</td>\n",
       "      <td>...</td>\n",
       "      <td>...</td>\n",
       "      <td>...</td>\n",
       "    </tr>\n",
       "    <tr>\n",
       "      <th>296</th>\n",
       "      <td>city</td>\n",
       "      <td>2016</td>\n",
       "      <td>9.50</td>\n",
       "      <td>11.60</td>\n",
       "      <td>33988</td>\n",
       "      <td>Diesel</td>\n",
       "      <td>Dealer</td>\n",
       "      <td>Manual</td>\n",
       "      <td>0</td>\n",
       "    </tr>\n",
       "    <tr>\n",
       "      <th>297</th>\n",
       "      <td>brio</td>\n",
       "      <td>2015</td>\n",
       "      <td>4.00</td>\n",
       "      <td>5.90</td>\n",
       "      <td>60000</td>\n",
       "      <td>Petrol</td>\n",
       "      <td>Dealer</td>\n",
       "      <td>Manual</td>\n",
       "      <td>0</td>\n",
       "    </tr>\n",
       "    <tr>\n",
       "      <th>298</th>\n",
       "      <td>city</td>\n",
       "      <td>2009</td>\n",
       "      <td>3.35</td>\n",
       "      <td>11.00</td>\n",
       "      <td>87934</td>\n",
       "      <td>Petrol</td>\n",
       "      <td>Dealer</td>\n",
       "      <td>Manual</td>\n",
       "      <td>0</td>\n",
       "    </tr>\n",
       "    <tr>\n",
       "      <th>299</th>\n",
       "      <td>city</td>\n",
       "      <td>2017</td>\n",
       "      <td>11.50</td>\n",
       "      <td>12.50</td>\n",
       "      <td>9000</td>\n",
       "      <td>Diesel</td>\n",
       "      <td>Dealer</td>\n",
       "      <td>Manual</td>\n",
       "      <td>0</td>\n",
       "    </tr>\n",
       "    <tr>\n",
       "      <th>300</th>\n",
       "      <td>brio</td>\n",
       "      <td>2016</td>\n",
       "      <td>5.30</td>\n",
       "      <td>5.90</td>\n",
       "      <td>5464</td>\n",
       "      <td>Petrol</td>\n",
       "      <td>Dealer</td>\n",
       "      <td>Manual</td>\n",
       "      <td>0</td>\n",
       "    </tr>\n",
       "  </tbody>\n",
       "</table>\n",
       "<p>301 rows × 9 columns</p>\n",
       "</div>"
      ],
      "text/plain": [
       "    Car_Name  Year  Selling_Price  Present_Price  Kms_Driven Fuel_Type  \\\n",
       "0       ritz  2014           3.35           5.59       27000    Petrol   \n",
       "1        sx4  2013           4.75           9.54       43000    Diesel   \n",
       "2       ciaz  2017           7.25           9.85        6900    Petrol   \n",
       "3    wagon r  2011           2.85           4.15        5200    Petrol   \n",
       "4      swift  2014           4.60           6.87       42450    Diesel   \n",
       "..       ...   ...            ...            ...         ...       ...   \n",
       "296     city  2016           9.50          11.60       33988    Diesel   \n",
       "297     brio  2015           4.00           5.90       60000    Petrol   \n",
       "298     city  2009           3.35          11.00       87934    Petrol   \n",
       "299     city  2017          11.50          12.50        9000    Diesel   \n",
       "300     brio  2016           5.30           5.90        5464    Petrol   \n",
       "\n",
       "    Seller_Type Transmission  Owner  \n",
       "0        Dealer       Manual      0  \n",
       "1        Dealer       Manual      0  \n",
       "2        Dealer       Manual      0  \n",
       "3        Dealer       Manual      0  \n",
       "4        Dealer       Manual      0  \n",
       "..          ...          ...    ...  \n",
       "296      Dealer       Manual      0  \n",
       "297      Dealer       Manual      0  \n",
       "298      Dealer       Manual      0  \n",
       "299      Dealer       Manual      0  \n",
       "300      Dealer       Manual      0  \n",
       "\n",
       "[301 rows x 9 columns]"
      ]
     },
     "execution_count": 3,
     "metadata": {},
     "output_type": "execute_result"
    }
   ],
   "source": [
    "df"
   ]
  },
  {
   "cell_type": "markdown",
   "id": "3aa05fc1-61c0-466e-94a1-9a885cf70cc3",
   "metadata": {},
   "source": [
    "# Check Last 5 Rows of The Dataset\n"
   ]
  },
  {
   "cell_type": "code",
   "execution_count": 4,
   "id": "0bb638c4-a321-42f4-87c7-99096c5f0e95",
   "metadata": {},
   "outputs": [
    {
     "data": {
      "text/html": [
       "<div>\n",
       "<style scoped>\n",
       "    .dataframe tbody tr th:only-of-type {\n",
       "        vertical-align: middle;\n",
       "    }\n",
       "\n",
       "    .dataframe tbody tr th {\n",
       "        vertical-align: top;\n",
       "    }\n",
       "\n",
       "    .dataframe thead th {\n",
       "        text-align: right;\n",
       "    }\n",
       "</style>\n",
       "<table border=\"1\" class=\"dataframe\">\n",
       "  <thead>\n",
       "    <tr style=\"text-align: right;\">\n",
       "      <th></th>\n",
       "      <th>Car_Name</th>\n",
       "      <th>Year</th>\n",
       "      <th>Selling_Price</th>\n",
       "      <th>Present_Price</th>\n",
       "      <th>Kms_Driven</th>\n",
       "      <th>Fuel_Type</th>\n",
       "      <th>Seller_Type</th>\n",
       "      <th>Transmission</th>\n",
       "      <th>Owner</th>\n",
       "    </tr>\n",
       "  </thead>\n",
       "  <tbody>\n",
       "    <tr>\n",
       "      <th>296</th>\n",
       "      <td>city</td>\n",
       "      <td>2016</td>\n",
       "      <td>9.50</td>\n",
       "      <td>11.6</td>\n",
       "      <td>33988</td>\n",
       "      <td>Diesel</td>\n",
       "      <td>Dealer</td>\n",
       "      <td>Manual</td>\n",
       "      <td>0</td>\n",
       "    </tr>\n",
       "    <tr>\n",
       "      <th>297</th>\n",
       "      <td>brio</td>\n",
       "      <td>2015</td>\n",
       "      <td>4.00</td>\n",
       "      <td>5.9</td>\n",
       "      <td>60000</td>\n",
       "      <td>Petrol</td>\n",
       "      <td>Dealer</td>\n",
       "      <td>Manual</td>\n",
       "      <td>0</td>\n",
       "    </tr>\n",
       "    <tr>\n",
       "      <th>298</th>\n",
       "      <td>city</td>\n",
       "      <td>2009</td>\n",
       "      <td>3.35</td>\n",
       "      <td>11.0</td>\n",
       "      <td>87934</td>\n",
       "      <td>Petrol</td>\n",
       "      <td>Dealer</td>\n",
       "      <td>Manual</td>\n",
       "      <td>0</td>\n",
       "    </tr>\n",
       "    <tr>\n",
       "      <th>299</th>\n",
       "      <td>city</td>\n",
       "      <td>2017</td>\n",
       "      <td>11.50</td>\n",
       "      <td>12.5</td>\n",
       "      <td>9000</td>\n",
       "      <td>Diesel</td>\n",
       "      <td>Dealer</td>\n",
       "      <td>Manual</td>\n",
       "      <td>0</td>\n",
       "    </tr>\n",
       "    <tr>\n",
       "      <th>300</th>\n",
       "      <td>brio</td>\n",
       "      <td>2016</td>\n",
       "      <td>5.30</td>\n",
       "      <td>5.9</td>\n",
       "      <td>5464</td>\n",
       "      <td>Petrol</td>\n",
       "      <td>Dealer</td>\n",
       "      <td>Manual</td>\n",
       "      <td>0</td>\n",
       "    </tr>\n",
       "  </tbody>\n",
       "</table>\n",
       "</div>"
      ],
      "text/plain": [
       "    Car_Name  Year  Selling_Price  Present_Price  Kms_Driven Fuel_Type  \\\n",
       "296     city  2016           9.50           11.6       33988    Diesel   \n",
       "297     brio  2015           4.00            5.9       60000    Petrol   \n",
       "298     city  2009           3.35           11.0       87934    Petrol   \n",
       "299     city  2017          11.50           12.5        9000    Diesel   \n",
       "300     brio  2016           5.30            5.9        5464    Petrol   \n",
       "\n",
       "    Seller_Type Transmission  Owner  \n",
       "296      Dealer       Manual      0  \n",
       "297      Dealer       Manual      0  \n",
       "298      Dealer       Manual      0  \n",
       "299      Dealer       Manual      0  \n",
       "300      Dealer       Manual      0  "
      ]
     },
     "execution_count": 4,
     "metadata": {},
     "output_type": "execute_result"
    }
   ],
   "source": [
    "df.tail()"
   ]
  },
  {
   "cell_type": "markdown",
   "id": "92424379-82c6-47f2-ad41-3cb253f8f139",
   "metadata": {},
   "source": [
    "# Find Shape of Our Dataset (Number of Rows And Number of Columns)"
   ]
  },
  {
   "cell_type": "code",
   "execution_count": 5,
   "id": "f5b964cc-38a0-490e-b7a4-da91d83f39aa",
   "metadata": {},
   "outputs": [
    {
     "data": {
      "text/plain": [
       "(301, 9)"
      ]
     },
     "execution_count": 5,
     "metadata": {},
     "output_type": "execute_result"
    }
   ],
   "source": [
    "df.shape"
   ]
  },
  {
   "cell_type": "code",
   "execution_count": 6,
   "id": "98cfe811-b393-4b38-b522-6fe0421ab18b",
   "metadata": {},
   "outputs": [
    {
     "name": "stdout",
     "output_type": "stream",
     "text": [
      "Number of Rows 301\n",
      "Number of Columns 9\n"
     ]
    }
   ],
   "source": [
    "print(\"Number of Rows\",df.shape[0])\n",
    "print(\"Number of Columns\",df.shape[1])"
   ]
  },
  {
   "cell_type": "markdown",
   "id": "d0e66b52-3aa7-4eab-a4a4-29dc05187465",
   "metadata": {},
   "source": [
    "#  Get Information About Our Dataset Like the Total Number of Rows, Total Number of Columns, Datatypes of Each Column And Memory Requirement¶"
   ]
  },
  {
   "cell_type": "code",
   "execution_count": 7,
   "id": "523f94e8-15d5-4424-a172-bb7259825ca5",
   "metadata": {},
   "outputs": [
    {
     "name": "stdout",
     "output_type": "stream",
     "text": [
      "<class 'pandas.core.frame.DataFrame'>\n",
      "RangeIndex: 301 entries, 0 to 300\n",
      "Data columns (total 9 columns):\n",
      " #   Column         Non-Null Count  Dtype  \n",
      "---  ------         --------------  -----  \n",
      " 0   Car_Name       301 non-null    object \n",
      " 1   Year           301 non-null    int64  \n",
      " 2   Selling_Price  301 non-null    float64\n",
      " 3   Present_Price  301 non-null    float64\n",
      " 4   Kms_Driven     301 non-null    int64  \n",
      " 5   Fuel_Type      301 non-null    object \n",
      " 6   Seller_Type    301 non-null    object \n",
      " 7   Transmission   301 non-null    object \n",
      " 8   Owner          301 non-null    int64  \n",
      "dtypes: float64(2), int64(3), object(4)\n",
      "memory usage: 21.3+ KB\n"
     ]
    }
   ],
   "source": [
    "df.info()\n"
   ]
  },
  {
   "cell_type": "markdown",
   "id": "576420be-c2f7-473d-a31c-69e2b432115d",
   "metadata": {},
   "source": [
    "# Check Null Values In The Dataset\n"
   ]
  },
  {
   "cell_type": "code",
   "execution_count": 8,
   "id": "205c3896-6536-4347-8d00-f6acaa6d8c33",
   "metadata": {},
   "outputs": [
    {
     "data": {
      "text/plain": [
       "Car_Name         0\n",
       "Year             0\n",
       "Selling_Price    0\n",
       "Present_Price    0\n",
       "Kms_Driven       0\n",
       "Fuel_Type        0\n",
       "Seller_Type      0\n",
       "Transmission     0\n",
       "Owner            0\n",
       "dtype: int64"
      ]
     },
     "execution_count": 8,
     "metadata": {},
     "output_type": "execute_result"
    }
   ],
   "source": [
    "df.isnull().sum()"
   ]
  },
  {
   "cell_type": "markdown",
   "id": "6fe00737-3180-4a81-bf11-c97c844af5c6",
   "metadata": {},
   "source": [
    "# Get Overall Statistics About The Dataset\n"
   ]
  },
  {
   "cell_type": "code",
   "execution_count": 9,
   "id": "30eca73d-379b-488d-8b95-f3a7a8f6d884",
   "metadata": {},
   "outputs": [
    {
     "data": {
      "text/html": [
       "<div>\n",
       "<style scoped>\n",
       "    .dataframe tbody tr th:only-of-type {\n",
       "        vertical-align: middle;\n",
       "    }\n",
       "\n",
       "    .dataframe tbody tr th {\n",
       "        vertical-align: top;\n",
       "    }\n",
       "\n",
       "    .dataframe thead th {\n",
       "        text-align: right;\n",
       "    }\n",
       "</style>\n",
       "<table border=\"1\" class=\"dataframe\">\n",
       "  <thead>\n",
       "    <tr style=\"text-align: right;\">\n",
       "      <th></th>\n",
       "      <th>Year</th>\n",
       "      <th>Selling_Price</th>\n",
       "      <th>Present_Price</th>\n",
       "      <th>Kms_Driven</th>\n",
       "      <th>Owner</th>\n",
       "    </tr>\n",
       "  </thead>\n",
       "  <tbody>\n",
       "    <tr>\n",
       "      <th>count</th>\n",
       "      <td>301.000000</td>\n",
       "      <td>301.000000</td>\n",
       "      <td>301.000000</td>\n",
       "      <td>301.000000</td>\n",
       "      <td>301.000000</td>\n",
       "    </tr>\n",
       "    <tr>\n",
       "      <th>mean</th>\n",
       "      <td>2013.627907</td>\n",
       "      <td>4.661296</td>\n",
       "      <td>7.628472</td>\n",
       "      <td>36947.205980</td>\n",
       "      <td>0.043189</td>\n",
       "    </tr>\n",
       "    <tr>\n",
       "      <th>std</th>\n",
       "      <td>2.891554</td>\n",
       "      <td>5.082812</td>\n",
       "      <td>8.644115</td>\n",
       "      <td>38886.883882</td>\n",
       "      <td>0.247915</td>\n",
       "    </tr>\n",
       "    <tr>\n",
       "      <th>min</th>\n",
       "      <td>2003.000000</td>\n",
       "      <td>0.100000</td>\n",
       "      <td>0.320000</td>\n",
       "      <td>500.000000</td>\n",
       "      <td>0.000000</td>\n",
       "    </tr>\n",
       "    <tr>\n",
       "      <th>25%</th>\n",
       "      <td>2012.000000</td>\n",
       "      <td>0.900000</td>\n",
       "      <td>1.200000</td>\n",
       "      <td>15000.000000</td>\n",
       "      <td>0.000000</td>\n",
       "    </tr>\n",
       "    <tr>\n",
       "      <th>50%</th>\n",
       "      <td>2014.000000</td>\n",
       "      <td>3.600000</td>\n",
       "      <td>6.400000</td>\n",
       "      <td>32000.000000</td>\n",
       "      <td>0.000000</td>\n",
       "    </tr>\n",
       "    <tr>\n",
       "      <th>75%</th>\n",
       "      <td>2016.000000</td>\n",
       "      <td>6.000000</td>\n",
       "      <td>9.900000</td>\n",
       "      <td>48767.000000</td>\n",
       "      <td>0.000000</td>\n",
       "    </tr>\n",
       "    <tr>\n",
       "      <th>max</th>\n",
       "      <td>2018.000000</td>\n",
       "      <td>35.000000</td>\n",
       "      <td>92.600000</td>\n",
       "      <td>500000.000000</td>\n",
       "      <td>3.000000</td>\n",
       "    </tr>\n",
       "  </tbody>\n",
       "</table>\n",
       "</div>"
      ],
      "text/plain": [
       "              Year  Selling_Price  Present_Price     Kms_Driven       Owner\n",
       "count   301.000000     301.000000     301.000000     301.000000  301.000000\n",
       "mean   2013.627907       4.661296       7.628472   36947.205980    0.043189\n",
       "std       2.891554       5.082812       8.644115   38886.883882    0.247915\n",
       "min    2003.000000       0.100000       0.320000     500.000000    0.000000\n",
       "25%    2012.000000       0.900000       1.200000   15000.000000    0.000000\n",
       "50%    2014.000000       3.600000       6.400000   32000.000000    0.000000\n",
       "75%    2016.000000       6.000000       9.900000   48767.000000    0.000000\n",
       "max    2018.000000      35.000000      92.600000  500000.000000    3.000000"
      ]
     },
     "execution_count": 9,
     "metadata": {},
     "output_type": "execute_result"
    }
   ],
   "source": [
    "df.describe()"
   ]
  },
  {
   "cell_type": "markdown",
   "id": "b5c67bc2-4809-410f-8a12-2510e2399d14",
   "metadata": {},
   "source": [
    "# Outlier Removal"
   ]
  },
  {
   "cell_type": "code",
   "execution_count": 10,
   "id": "9d9bfd20-4918-488f-8ca6-b1b4ca57793a",
   "metadata": {},
   "outputs": [],
   "source": [
    "import seaborn as sns"
   ]
  },
  {
   "cell_type": "code",
   "execution_count": 11,
   "id": "5fa5db0f-9190-445a-be93-c4b0889d9458",
   "metadata": {},
   "outputs": [
    {
     "data": {
      "text/plain": [
       "<Axes: >"
      ]
     },
     "execution_count": 11,
     "metadata": {},
     "output_type": "execute_result"
    },
    {
     "data": {
      "image/png": "[encoded data removed]",
      "text/plain": [
       "<Figure size 640x480 with 1 Axes>"
      ]
     },
     "metadata": {},
     "output_type": "display_data"
    }
   ],
   "source": [
    "sns.boxplot(df['Selling_Price'])"
   ]
  },
  {
   "cell_type": "code",
   "execution_count": 12,
   "id": "ff385e6f-dc00-4048-b74b-3d7a9609bf3f",
   "metadata": {},
   "outputs": [
    {
     "data": {
      "text/plain": [
       "[35.0,\n",
       " 33.0,\n",
       " 23.5,\n",
       " 23.0,\n",
       " 23.0,\n",
       " 23.0,\n",
       " 20.75,\n",
       " 19.99,\n",
       " 19.75,\n",
       " 18.75,\n",
       " 18.0,\n",
       " 17.0,\n",
       " 16.0,\n",
       " 14.9,\n",
       " 14.73,\n",
       " 14.5,\n",
       " 14.25,\n",
       " 12.9,\n",
       " 12.5,\n",
       " 11.75,\n",
       " 11.5,\n",
       " 11.45,\n",
       " 11.25,\n",
       " 11.25,\n",
       " 11.25,\n",
       " 10.9,\n",
       " 10.25,\n",
       " 10.11,\n",
       " 9.7,\n",
       " 9.65,\n",
       " 9.5,\n",
       " 9.25,\n",
       " 9.25,\n",
       " 9.25,\n",
       " 9.15,\n",
       " 9.1,\n",
       " 8.99,\n",
       " 8.75,\n",
       " 8.65,\n",
       " 8.55,\n",
       " 8.5,\n",
       " 8.4,\n",
       " 8.4,\n",
       " 8.35,\n",
       " 8.25,\n",
       " 8.25,\n",
       " 7.9,\n",
       " 7.75,\n",
       " 7.75,\n",
       " 7.75,\n",
       " 7.5,\n",
       " 7.5,\n",
       " 7.5,\n",
       " 7.45,\n",
       " 7.45,\n",
       " 7.45,\n",
       " 7.4,\n",
       " 7.25,\n",
       " 7.25,\n",
       " 7.2,\n",
       " 7.05,\n",
       " 6.95,\n",
       " 6.85,\n",
       " 6.75,\n",
       " 6.7,\n",
       " 6.6,\n",
       " 6.5,\n",
       " 6.5,\n",
       " 6.45,\n",
       " 6.4,\n",
       " 6.25,\n",
       " 6.25,\n",
       " 6.15,\n",
       " 6.1,\n",
       " 6.0,\n",
       " 6.0,\n",
       " 6.0,\n",
       " 6.0,\n",
       " 5.95,\n",
       " 5.95,\n",
       " 5.9,\n",
       " 5.85,\n",
       " 5.85,\n",
       " 5.8,\n",
       " 5.75,\n",
       " 5.75,\n",
       " 5.65,\n",
       " 5.5,\n",
       " 5.5,\n",
       " 5.5,\n",
       " 5.5,\n",
       " 5.5,\n",
       " 5.4,\n",
       " 5.4,\n",
       " 5.35,\n",
       " 5.3,\n",
       " 5.3,\n",
       " 5.25,\n",
       " 5.25,\n",
       " 5.25,\n",
       " 5.25,\n",
       " 5.25,\n",
       " 5.25,\n",
       " 5.25,\n",
       " 5.2,\n",
       " 5.15,\n",
       " 5.11,\n",
       " 5.0,\n",
       " 4.95,\n",
       " 4.95,\n",
       " 4.9,\n",
       " 4.9,\n",
       " 4.85,\n",
       " 4.8,\n",
       " 4.8,\n",
       " 4.75,\n",
       " 4.75,\n",
       " 4.75,\n",
       " 4.75,\n",
       " 4.75,\n",
       " 4.75,\n",
       " 4.65,\n",
       " 4.6,\n",
       " 4.5,\n",
       " 4.5,\n",
       " 4.5,\n",
       " 4.5,\n",
       " 4.5,\n",
       " 4.5,\n",
       " 4.5,\n",
       " 4.4,\n",
       " 4.4,\n",
       " 4.4,\n",
       " 4.35,\n",
       " 4.15,\n",
       " 4.1,\n",
       " 4.1,\n",
       " 4.0,\n",
       " 4.0,\n",
       " 4.0,\n",
       " 4.0,\n",
       " 4.0,\n",
       " 3.95,\n",
       " 3.95,\n",
       " 3.9,\n",
       " 3.9,\n",
       " 3.8,\n",
       " 3.75,\n",
       " 3.75,\n",
       " 3.65,\n",
       " 3.6,\n",
       " 3.51,\n",
       " 3.5,\n",
       " 3.5,\n",
       " 3.49,\n",
       " 3.45,\n",
       " 3.35,\n",
       " 3.35,\n",
       " 3.25,\n",
       " 3.25,\n",
       " 3.25,\n",
       " 3.15,\n",
       " 3.1,\n",
       " 3.1,\n",
       " 3.1,\n",
       " 3.1,\n",
       " 3.0,\n",
       " 3.0,\n",
       " 3.0,\n",
       " 3.0,\n",
       " 2.95,\n",
       " 2.95,\n",
       " 2.9,\n",
       " 2.9,\n",
       " 2.9,\n",
       " 2.85,\n",
       " 2.85,\n",
       " 2.85,\n",
       " 2.75,\n",
       " 2.75,\n",
       " 2.7,\n",
       " 2.65,\n",
       " 2.65,\n",
       " 2.65,\n",
       " 2.55,\n",
       " 2.55,\n",
       " 2.5,\n",
       " 2.5,\n",
       " 2.35,\n",
       " 2.25,\n",
       " 2.25,\n",
       " 2.25,\n",
       " 2.1,\n",
       " 2.0,\n",
       " 1.95,\n",
       " 1.95,\n",
       " 1.75,\n",
       " 1.7,\n",
       " 1.65,\n",
       " 1.5,\n",
       " 1.45,\n",
       " 1.35,\n",
       " 1.35,\n",
       " 1.35,\n",
       " 1.25,\n",
       " 1.25,\n",
       " 1.2,\n",
       " 1.2,\n",
       " 1.2,\n",
       " 1.15,\n",
       " 1.15,\n",
       " 1.15,\n",
       " 1.15,\n",
       " 1.11,\n",
       " 1.1,\n",
       " 1.1,\n",
       " 1.1,\n",
       " 1.05,\n",
       " 1.05,\n",
       " 1.05,\n",
       " 1.05,\n",
       " 1.05,\n",
       " 1.0,\n",
       " 0.95,\n",
       " 0.9,\n",
       " 0.9,\n",
       " 0.8,\n",
       " 0.78,\n",
       " 0.75,\n",
       " 0.75,\n",
       " 0.75,\n",
       " 0.75,\n",
       " 0.72,\n",
       " 0.65,\n",
       " 0.65,\n",
       " 0.65,\n",
       " 0.65,\n",
       " 0.6,\n",
       " 0.6,\n",
       " 0.6,\n",
       " 0.6,\n",
       " 0.6,\n",
       " 0.6,\n",
       " 0.6,\n",
       " 0.6,\n",
       " 0.55,\n",
       " 0.55,\n",
       " 0.52,\n",
       " 0.51,\n",
       " 0.5,\n",
       " 0.5,\n",
       " 0.5,\n",
       " 0.5,\n",
       " 0.5,\n",
       " 0.48,\n",
       " 0.48,\n",
       " 0.48,\n",
       " 0.48,\n",
       " 0.45,\n",
       " 0.45,\n",
       " 0.45,\n",
       " 0.45,\n",
       " 0.45,\n",
       " 0.45,\n",
       " 0.45,\n",
       " 0.45,\n",
       " 0.42,\n",
       " 0.42,\n",
       " 0.4,\n",
       " 0.4,\n",
       " 0.4,\n",
       " 0.4,\n",
       " 0.4,\n",
       " 0.38,\n",
       " 0.38,\n",
       " 0.35,\n",
       " 0.35,\n",
       " 0.35,\n",
       " 0.35,\n",
       " 0.31,\n",
       " 0.3,\n",
       " 0.3,\n",
       " 0.3,\n",
       " 0.27,\n",
       " 0.25,\n",
       " 0.25,\n",
       " 0.25,\n",
       " 0.25,\n",
       " 0.25,\n",
       " 0.2,\n",
       " 0.2,\n",
       " 0.2,\n",
       " 0.2,\n",
       " 0.2,\n",
       " 0.2,\n",
       " 0.18,\n",
       " 0.17,\n",
       " 0.16,\n",
       " 0.15,\n",
       " 0.12,\n",
       " 0.1]"
      ]
     },
     "execution_count": 12,
     "metadata": {},
     "output_type": "execute_result"
    }
   ],
   "source": [
    "sorted(df['Selling_Price'],reverse=True)"
   ]
  },
  {
   "cell_type": "code",
   "execution_count": 13,
   "id": "3a8aa7bf-a433-420f-a17c-2be8cc0d34a6",
   "metadata": {},
   "outputs": [],
   "source": [
    "data = df[~(df['Selling_Price']>=33.0) & (df['Selling_Price']<=35.0)]"
   ]
  },
  {
   "cell_type": "code",
   "execution_count": 14,
   "id": "46a55bc2-7c80-486e-9736-d084ade68538",
   "metadata": {},
   "outputs": [
    {
     "data": {
      "text/plain": [
       "(299, 9)"
      ]
     },
     "execution_count": 14,
     "metadata": {},
     "output_type": "execute_result"
    }
   ],
   "source": [
    "data.shape"
   ]
  },
  {
   "cell_type": "markdown",
   "id": "4bfa6042-ba4e-421c-a5c7-d0c1e2036fe5",
   "metadata": {},
   "source": [
    "# Encoding the Categorical Columns\n"
   ]
  },
  {
   "cell_type": "code",
   "execution_count": 15,
   "id": "4c276348-718e-419c-949b-5a0f74d9ad57",
   "metadata": {},
   "outputs": [
    {
     "data": {
      "text/html": [
       "<div>\n",
       "<style scoped>\n",
       "    .dataframe tbody tr th:only-of-type {\n",
       "        vertical-align: middle;\n",
       "    }\n",
       "\n",
       "    .dataframe tbody tr th {\n",
       "        vertical-align: top;\n",
       "    }\n",
       "\n",
       "    .dataframe thead th {\n",
       "        text-align: right;\n",
       "    }\n",
       "</style>\n",
       "<table border=\"1\" class=\"dataframe\">\n",
       "  <thead>\n",
       "    <tr style=\"text-align: right;\">\n",
       "      <th></th>\n",
       "      <th>Car_Name</th>\n",
       "      <th>Year</th>\n",
       "      <th>Selling_Price</th>\n",
       "      <th>Present_Price</th>\n",
       "      <th>Kms_Driven</th>\n",
       "      <th>Fuel_Type</th>\n",
       "      <th>Seller_Type</th>\n",
       "      <th>Transmission</th>\n",
       "      <th>Owner</th>\n",
       "    </tr>\n",
       "  </thead>\n",
       "  <tbody>\n",
       "    <tr>\n",
       "      <th>0</th>\n",
       "      <td>ritz</td>\n",
       "      <td>2014</td>\n",
       "      <td>3.35</td>\n",
       "      <td>5.59</td>\n",
       "      <td>27000</td>\n",
       "      <td>Petrol</td>\n",
       "      <td>Dealer</td>\n",
       "      <td>Manual</td>\n",
       "      <td>0</td>\n",
       "    </tr>\n",
       "  </tbody>\n",
       "</table>\n",
       "</div>"
      ],
      "text/plain": [
       "  Car_Name  Year  Selling_Price  Present_Price  Kms_Driven Fuel_Type  \\\n",
       "0     ritz  2014           3.35           5.59       27000    Petrol   \n",
       "\n",
       "  Seller_Type Transmission  Owner  \n",
       "0      Dealer       Manual      0  "
      ]
     },
     "execution_count": 15,
     "metadata": {},
     "output_type": "execute_result"
    }
   ],
   "source": [
    "df.head(1)"
   ]
  },
  {
   "cell_type": "code",
   "execution_count": 16,
   "id": "e790efc9-48e9-4150-89c6-661d016bb9a6",
   "metadata": {},
   "outputs": [
    {
     "data": {
      "text/plain": [
       "array(['Petrol', 'Diesel', 'CNG'], dtype=object)"
      ]
     },
     "execution_count": 16,
     "metadata": {},
     "output_type": "execute_result"
    }
   ],
   "source": [
    "df['Fuel_Type'].unique()"
   ]
  },
  {
   "cell_type": "code",
   "execution_count": 17,
   "id": "00d70b1b-7023-456a-a4cf-7d6d68e18daa",
   "metadata": {},
   "outputs": [],
   "source": [
    "df['Fuel_Type'] = df['Fuel_Type'].map({'Petrol':0,'Diesel':1,'CNG':2})"
   ]
  },
  {
   "cell_type": "code",
   "execution_count": 18,
   "id": "4b69384c-e359-46e3-84d8-d7777857d50d",
   "metadata": {},
   "outputs": [
    {
     "data": {
      "text/plain": [
       "array([0, 1, 2], dtype=int64)"
      ]
     },
     "execution_count": 18,
     "metadata": {},
     "output_type": "execute_result"
    }
   ],
   "source": [
    "df['Fuel_Type'].unique()"
   ]
  },
  {
   "cell_type": "code",
   "execution_count": 19,
   "id": "4edc1474-2f44-43a7-a50c-6f5f557079b0",
   "metadata": {},
   "outputs": [
    {
     "data": {
      "text/plain": [
       "array(['Dealer', 'Individual'], dtype=object)"
      ]
     },
     "execution_count": 19,
     "metadata": {},
     "output_type": "execute_result"
    }
   ],
   "source": [
    "df['Seller_Type'].unique()"
   ]
  },
  {
   "cell_type": "code",
   "execution_count": 20,
   "id": "dfbf1688-f234-4147-a4d5-e03917e6892f",
   "metadata": {},
   "outputs": [],
   "source": [
    "df['Seller_Type'] = df['Seller_Type'].map({'Dealer':0,'Individual':1})"
   ]
  },
  {
   "cell_type": "code",
   "execution_count": 21,
   "id": "e9099a0b-2cfe-4341-b172-3f823484e99f",
   "metadata": {},
   "outputs": [
    {
     "data": {
      "text/plain": [
       "array([0, 1], dtype=int64)"
      ]
     },
     "execution_count": 21,
     "metadata": {},
     "output_type": "execute_result"
    }
   ],
   "source": [
    "df['Seller_Type'].unique()"
   ]
  },
  {
   "cell_type": "code",
   "execution_count": 22,
   "id": "9b9f8e95-04cd-44d4-b420-eca1c2651eb1",
   "metadata": {},
   "outputs": [
    {
     "data": {
      "text/plain": [
       "array(['Manual', 'Automatic'], dtype=object)"
      ]
     },
     "execution_count": 22,
     "metadata": {},
     "output_type": "execute_result"
    }
   ],
   "source": [
    "df['Transmission'].unique()"
   ]
  },
  {
   "cell_type": "code",
   "execution_count": 23,
   "id": "1001c114-4942-4048-b5b0-d2a9f809f5e2",
   "metadata": {},
   "outputs": [],
   "source": [
    "df['Transmission'] =df['Transmission'].map({'Manual':0,'Automatic':1})"
   ]
  },
  {
   "cell_type": "code",
   "execution_count": 24,
   "id": "a35e0278-6908-48fb-8d99-2e0244e4c674",
   "metadata": {},
   "outputs": [
    {
     "data": {
      "text/plain": [
       "array([0, 1], dtype=int64)"
      ]
     },
     "execution_count": 24,
     "metadata": {},
     "output_type": "execute_result"
    }
   ],
   "source": [
    "df['Transmission'].unique()"
   ]
  },
  {
   "cell_type": "code",
   "execution_count": 25,
   "id": "c3924c6a-230f-4ab0-826c-f9f7d772bb2f",
   "metadata": {},
   "outputs": [
    {
     "data": {
      "text/html": [
       "<div>\n",
       "<style scoped>\n",
       "    .dataframe tbody tr th:only-of-type {\n",
       "        vertical-align: middle;\n",
       "    }\n",
       "\n",
       "    .dataframe tbody tr th {\n",
       "        vertical-align: top;\n",
       "    }\n",
       "\n",
       "    .dataframe thead th {\n",
       "        text-align: right;\n",
       "    }\n",
       "</style>\n",
       "<table border=\"1\" class=\"dataframe\">\n",
       "  <thead>\n",
       "    <tr style=\"text-align: right;\">\n",
       "      <th></th>\n",
       "      <th>Car_Name</th>\n",
       "      <th>Year</th>\n",
       "      <th>Selling_Price</th>\n",
       "      <th>Present_Price</th>\n",
       "      <th>Kms_Driven</th>\n",
       "      <th>Fuel_Type</th>\n",
       "      <th>Seller_Type</th>\n",
       "      <th>Transmission</th>\n",
       "      <th>Owner</th>\n",
       "    </tr>\n",
       "  </thead>\n",
       "  <tbody>\n",
       "    <tr>\n",
       "      <th>0</th>\n",
       "      <td>ritz</td>\n",
       "      <td>2014</td>\n",
       "      <td>3.35</td>\n",
       "      <td>5.59</td>\n",
       "      <td>27000</td>\n",
       "      <td>0</td>\n",
       "      <td>0</td>\n",
       "      <td>0</td>\n",
       "      <td>0</td>\n",
       "    </tr>\n",
       "    <tr>\n",
       "      <th>1</th>\n",
       "      <td>sx4</td>\n",
       "      <td>2013</td>\n",
       "      <td>4.75</td>\n",
       "      <td>9.54</td>\n",
       "      <td>43000</td>\n",
       "      <td>1</td>\n",
       "      <td>0</td>\n",
       "      <td>0</td>\n",
       "      <td>0</td>\n",
       "    </tr>\n",
       "    <tr>\n",
       "      <th>2</th>\n",
       "      <td>ciaz</td>\n",
       "      <td>2017</td>\n",
       "      <td>7.25</td>\n",
       "      <td>9.85</td>\n",
       "      <td>6900</td>\n",
       "      <td>0</td>\n",
       "      <td>0</td>\n",
       "      <td>0</td>\n",
       "      <td>0</td>\n",
       "    </tr>\n",
       "    <tr>\n",
       "      <th>3</th>\n",
       "      <td>wagon r</td>\n",
       "      <td>2011</td>\n",
       "      <td>2.85</td>\n",
       "      <td>4.15</td>\n",
       "      <td>5200</td>\n",
       "      <td>0</td>\n",
       "      <td>0</td>\n",
       "      <td>0</td>\n",
       "      <td>0</td>\n",
       "    </tr>\n",
       "    <tr>\n",
       "      <th>4</th>\n",
       "      <td>swift</td>\n",
       "      <td>2014</td>\n",
       "      <td>4.60</td>\n",
       "      <td>6.87</td>\n",
       "      <td>42450</td>\n",
       "      <td>1</td>\n",
       "      <td>0</td>\n",
       "      <td>0</td>\n",
       "      <td>0</td>\n",
       "    </tr>\n",
       "  </tbody>\n",
       "</table>\n",
       "</div>"
      ],
      "text/plain": [
       "  Car_Name  Year  Selling_Price  Present_Price  Kms_Driven  Fuel_Type  \\\n",
       "0     ritz  2014           3.35           5.59       27000          0   \n",
       "1      sx4  2013           4.75           9.54       43000          1   \n",
       "2     ciaz  2017           7.25           9.85        6900          0   \n",
       "3  wagon r  2011           2.85           4.15        5200          0   \n",
       "4    swift  2014           4.60           6.87       42450          1   \n",
       "\n",
       "   Seller_Type  Transmission  Owner  \n",
       "0            0             0      0  \n",
       "1            0             0      0  \n",
       "2            0             0      0  \n",
       "3            0             0      0  \n",
       "4            0             0      0  "
      ]
     },
     "execution_count": 25,
     "metadata": {},
     "output_type": "execute_result"
    }
   ],
   "source": [
    "df.head()"
   ]
  },
  {
   "cell_type": "code",
   "execution_count": 26,
   "id": "11c3904f-e2f0-481d-96eb-e060833cc513",
   "metadata": {},
   "outputs": [],
   "source": [
    "df1= df.drop(['Car_Name'],axis=1)"
   ]
  },
  {
   "cell_type": "markdown",
   "id": "2d65fadb-0232-47cd-91a7-85624db0a78e",
   "metadata": {},
   "source": [
    "# Store Feature Matrix In X and Response(Target) In Vector y\n"
   ]
  },
  {
   "cell_type": "code",
   "execution_count": 27,
   "id": "8ca65373-c3b5-4b80-9a1d-c45372860f86",
   "metadata": {},
   "outputs": [],
   "source": [
    "x = df.drop(['Car_Name','Selling_Price'],axis=1)\n",
    "y = df['Selling_Price']"
   ]
  },
  {
   "cell_type": "code",
   "execution_count": 28,
   "id": "dfdf898c-d610-4289-818f-bc1ae3623d9d",
   "metadata": {},
   "outputs": [
    {
     "data": {
      "text/plain": [
       "0       3.35\n",
       "1       4.75\n",
       "2       7.25\n",
       "3       2.85\n",
       "4       4.60\n",
       "       ...  \n",
       "296     9.50\n",
       "297     4.00\n",
       "298     3.35\n",
       "299    11.50\n",
       "300     5.30\n",
       "Name: Selling_Price, Length: 301, dtype: float64"
      ]
     },
     "execution_count": 28,
     "metadata": {},
     "output_type": "execute_result"
    }
   ],
   "source": [
    "y"
   ]
  },
  {
   "cell_type": "markdown",
   "id": "12bb00e3-ccf2-4083-b14b-f20815f64ad9",
   "metadata": {},
   "source": [
    "# Feature Scaaling"
   ]
  },
  {
   "cell_type": "code",
   "execution_count": 29,
   "id": "7ae9845c-c4c1-4683-aee1-efdb2b7ace8b",
   "metadata": {},
   "outputs": [
    {
     "name": "stdout",
     "output_type": "stream",
     "text": [
      "<class 'pandas.core.frame.DataFrame'>\n",
      "RangeIndex: 301 entries, 0 to 300\n",
      "Data columns (total 9 columns):\n",
      " #   Column         Non-Null Count  Dtype  \n",
      "---  ------         --------------  -----  \n",
      " 0   Car_Name       301 non-null    object \n",
      " 1   Year           301 non-null    int64  \n",
      " 2   Selling_Price  301 non-null    float64\n",
      " 3   Present_Price  301 non-null    float64\n",
      " 4   Kms_Driven     301 non-null    int64  \n",
      " 5   Fuel_Type      301 non-null    int64  \n",
      " 6   Seller_Type    301 non-null    int64  \n",
      " 7   Transmission   301 non-null    int64  \n",
      " 8   Owner          301 non-null    int64  \n",
      "dtypes: float64(2), int64(6), object(1)\n",
      "memory usage: 21.3+ KB\n"
     ]
    }
   ],
   "source": [
    "df.info()"
   ]
  },
  {
   "cell_type": "code",
   "execution_count": 30,
   "id": "82951e2e-de0b-4398-847f-d1b218c29978",
   "metadata": {},
   "outputs": [],
   "source": [
    "from sklearn.preprocessing import StandardScaler\n",
    "from sklearn.preprocessing import MinMaxScaler\n",
    "from sklearn.model_selection import train_test_split"
   ]
  },
  {
   "cell_type": "code",
   "execution_count": 31,
   "id": "86ea1354-fea5-4179-bdbd-f271356fed2d",
   "metadata": {},
   "outputs": [
    {
     "data": {
      "text/html": [
       "<div>\n",
       "<style scoped>\n",
       "    .dataframe tbody tr th:only-of-type {\n",
       "        vertical-align: middle;\n",
       "    }\n",
       "\n",
       "    .dataframe tbody tr th {\n",
       "        vertical-align: top;\n",
       "    }\n",
       "\n",
       "    .dataframe thead th {\n",
       "        text-align: right;\n",
       "    }\n",
       "</style>\n",
       "<table border=\"1\" class=\"dataframe\">\n",
       "  <thead>\n",
       "    <tr style=\"text-align: right;\">\n",
       "      <th></th>\n",
       "      <th>Year</th>\n",
       "      <th>Fuel_Type</th>\n",
       "      <th>Present_Price</th>\n",
       "      <th>Kms_Driven</th>\n",
       "    </tr>\n",
       "  </thead>\n",
       "  <tbody>\n",
       "    <tr>\n",
       "      <th>0</th>\n",
       "      <td>2014</td>\n",
       "      <td>0</td>\n",
       "      <td>5.59</td>\n",
       "      <td>27000</td>\n",
       "    </tr>\n",
       "    <tr>\n",
       "      <th>1</th>\n",
       "      <td>2013</td>\n",
       "      <td>1</td>\n",
       "      <td>9.54</td>\n",
       "      <td>43000</td>\n",
       "    </tr>\n",
       "    <tr>\n",
       "      <th>2</th>\n",
       "      <td>2017</td>\n",
       "      <td>0</td>\n",
       "      <td>9.85</td>\n",
       "      <td>6900</td>\n",
       "    </tr>\n",
       "    <tr>\n",
       "      <th>3</th>\n",
       "      <td>2011</td>\n",
       "      <td>0</td>\n",
       "      <td>4.15</td>\n",
       "      <td>5200</td>\n",
       "    </tr>\n",
       "    <tr>\n",
       "      <th>4</th>\n",
       "      <td>2014</td>\n",
       "      <td>1</td>\n",
       "      <td>6.87</td>\n",
       "      <td>42450</td>\n",
       "    </tr>\n",
       "  </tbody>\n",
       "</table>\n",
       "</div>"
      ],
      "text/plain": [
       "   Year  Fuel_Type  Present_Price  Kms_Driven\n",
       "0  2014          0           5.59       27000\n",
       "1  2013          1           9.54       43000\n",
       "2  2017          0           9.85        6900\n",
       "3  2011          0           4.15        5200\n",
       "4  2014          1           6.87       42450"
      ]
     },
     "execution_count": 31,
     "metadata": {},
     "output_type": "execute_result"
    }
   ],
   "source": [
    "# We have take 4 Numberic Variabes\n",
    "# We take \"Survied\" as a target variable & rest 3 are independent variables \n",
    "df2 = df[['Year',\"Fuel_Type\",'Present_Price','Kms_Driven']]\n",
    "df2.head()"
   ]
  },
  {
   "cell_type": "code",
   "execution_count": 33,
   "id": "addb1116-0735-4b35-a9e2-9d240ece7ff2",
   "metadata": {},
   "outputs": [
    {
     "name": "stdout",
     "output_type": "stream",
     "text": [
      "Shape of x =  (301, 3)\n",
      "Shape of y =  (301,)\n"
     ]
    }
   ],
   "source": [
    "x = df2.drop(\"Fuel_Type\", axis = 1)\n",
    "# To show the matrix we define X (Capital)\n",
    "# We drop \"Survived\" because it is depended variables & in matrix we define independed variables \n",
    "y = df2[\"Fuel_Type\"]               \n",
    "# y is use to show Vector (For Dependednd Variables)\n",
    "print('Shape of x = ', x.shape)\n",
    "print('Shape of y = ', y.shape)"
   ]
  },
  {
   "cell_type": "code",
   "execution_count": null,
   "id": "efb3b5cd-0989-41b9-acb8-7e145e4f7a68",
   "metadata": {},
   "outputs": [],
   "source": [
    "# Now split the data in form of train & test\n",
    "# Bez for ML Alogrithm we want data in train & test format\n",
    "# on train data we train the ML Alogrithms\n",
    "# on test data we test ML Algorithm proerly work or not "
   ]
  },
  {
   "cell_type": "markdown",
   "id": "b765418e-91e7-44d6-b6d0-87ed5d1c94ef",
   "metadata": {},
   "source": [
    "# Split Data"
   ]
  },
  {
   "cell_type": "code",
   "execution_count": 34,
   "id": "fa308eec-e513-4e06-a79e-ec0dc12700e0",
   "metadata": {},
   "outputs": [],
   "source": [
    "from sklearn.model_selection import train_test_split\n",
    "# to import train_test_split class"
   ]
  },
  {
   "cell_type": "code",
   "execution_count": 35,
   "id": "281a35c1-0e47-4879-ae8f-869c05c4f6c4",
   "metadata": {},
   "outputs": [],
   "source": [
    "from sklearn.model_selection import train_test_split\n",
    "# to import train_test_split class"
   ]
  },
  {
   "cell_type": "code",
   "execution_count": 38,
   "id": "cd24ba9a-4529-42bb-bb54-77a286fa5c0a",
   "metadata": {},
   "outputs": [
    {
     "name": "stdout",
     "output_type": "stream",
     "text": [
      "Shape of x_train =  (240, 3)\n",
      "Shape of y_train =  (240,)\n",
      "Shape of x_test =  (61, 3)\n",
      "Shape of y_test =  (61,)\n"
     ]
    }
   ],
   "source": [
    "x_train, x_test, y_train, y_test = train_test_split(x, y, test_size=0.2, random_state=51)\n",
    "#test_size = 0.2 it means we use 20 % of dataset for test purpose where 80% for train purpose\n",
    "print('Shape of x_train = ', x_train.shape)\n",
    "print('Shape of y_train = ', y_train.shape)\n",
    "print('Shape of x_test = ', x_test.shape)\n",
    "print('Shape of y_test = ', y_test.shape)"
   ]
  },
  {
   "cell_type": "markdown",
   "id": "96bc0c38-b30f-44a3-994a-627d188e30a7",
   "metadata": {},
   "source": [
    "# Standard Scaler"
   ]
  },
  {
   "cell_type": "code",
   "execution_count": 39,
   "id": "5bd89822-9768-4850-ac0e-f953953a32c0",
   "metadata": {},
   "outputs": [
    {
     "data": {
      "text/html": [
       "<style>#sk-container-id-1 {color: black;background-color: white;}#sk-container-id-1 pre{padding: 0;}#sk-container-id-1 div.sk-toggleable {background-color: white;}#sk-container-id-1 label.sk-toggleable__label {cursor: pointer;display: block;width: 100%;margin-bottom: 0;padding: 0.3em;box-sizing: border-box;text-align: center;}#sk-container-id-1 label.sk-toggleable__label-arrow:before {content: \"▸\";float: left;margin-right: 0.25em;color: #696969;}#sk-container-id-1 label.sk-toggleable__label-arrow:hover:before {color: black;}#sk-container-id-1 div.sk-estimator:hover label.sk-toggleable__label-arrow:before {color: black;}#sk-container-id-1 div.sk-toggleable__content {max-height: 0;max-width: 0;overflow: hidden;text-align: left;background-color: #f0f8ff;}#sk-container-id-1 div.sk-toggleable__content pre {margin: 0.2em;color: black;border-radius: 0.25em;background-color: #f0f8ff;}#sk-container-id-1 input.sk-toggleable__control:checked~div.sk-toggleable__content {max-height: 200px;max-width: 100%;overflow: auto;}#sk-container-id-1 input.sk-toggleable__control:checked~label.sk-toggleable__label-arrow:before {content: \"▾\";}#sk-container-id-1 div.sk-estimator input.sk-toggleable__control:checked~label.sk-toggleable__label {background-color: #d4ebff;}#sk-container-id-1 div.sk-label input.sk-toggleable__control:checked~label.sk-toggleable__label {background-color: #d4ebff;}#sk-container-id-1 input.sk-hidden--visually {border: 0;clip: rect(1px 1px 1px 1px);clip: rect(1px, 1px, 1px, 1px);height: 1px;margin: -1px;overflow: hidden;padding: 0;position: absolute;width: 1px;}#sk-container-id-1 div.sk-estimator {font-family: monospace;background-color: #f0f8ff;border: 1px dotted black;border-radius: 0.25em;box-sizing: border-box;margin-bottom: 0.5em;}#sk-container-id-1 div.sk-estimator:hover {background-color: #d4ebff;}#sk-container-id-1 div.sk-parallel-item::after {content: \"\";width: 100%;border-bottom: 1px solid gray;flex-grow: 1;}#sk-container-id-1 div.sk-label:hover label.sk-toggleable__label {background-color: #d4ebff;}#sk-container-id-1 div.sk-serial::before {content: \"\";position: absolute;border-left: 1px solid gray;box-sizing: border-box;top: 0;bottom: 0;left: 50%;z-index: 0;}#sk-container-id-1 div.sk-serial {display: flex;flex-direction: column;align-items: center;background-color: white;padding-right: 0.2em;padding-left: 0.2em;position: relative;}#sk-container-id-1 div.sk-item {position: relative;z-index: 1;}#sk-container-id-1 div.sk-parallel {display: flex;align-items: stretch;justify-content: center;background-color: white;position: relative;}#sk-container-id-1 div.sk-item::before, #sk-container-id-1 div.sk-parallel-item::before {content: \"\";position: absolute;border-left: 1px solid gray;box-sizing: border-box;top: 0;bottom: 0;left: 50%;z-index: -1;}#sk-container-id-1 div.sk-parallel-item {display: flex;flex-direction: column;z-index: 1;position: relative;background-color: white;}#sk-container-id-1 div.sk-parallel-item:first-child::after {align-self: flex-end;width: 50%;}#sk-container-id-1 div.sk-parallel-item:last-child::after {align-self: flex-start;width: 50%;}#sk-container-id-1 div.sk-parallel-item:only-child::after {width: 0;}#sk-container-id-1 div.sk-dashed-wrapped {border: 1px dashed gray;margin: 0 0.4em 0.5em 0.4em;box-sizing: border-box;padding-bottom: 0.4em;background-color: white;}#sk-container-id-1 div.sk-label label {font-family: monospace;font-weight: bold;display: inline-block;line-height: 1.2em;}#sk-container-id-1 div.sk-label-container {text-align: center;}#sk-container-id-1 div.sk-container {/* jupyter's `normalize.less` sets `[hidden] { display: none; }` but bootstrap.min.css set `[hidden] { display: none !important; }` so we also need the `!important` here to be able to override the default hidden behavior on the sphinx rendered scikit-learn.org. See: https://github.com/scikit-learn/scikit-learn/issues/21755 */display: inline-block !important;position: relative;}#sk-container-id-1 div.sk-text-repr-fallback {display: none;}</style><div id=\"sk-container-id-1\" class=\"sk-top-container\"><div class=\"sk-text-repr-fallback\"><pre>StandardScaler()</pre><b>In a Jupyter environment, please rerun this cell to show the HTML representation or trust the notebook. <br />On GitHub, the HTML representation is unable to render, please try loading this page with nbviewer.org.</b></div><div class=\"sk-container\" hidden><div class=\"sk-item\"><div class=\"sk-estimator sk-toggleable\"><input class=\"sk-toggleable__control sk-hidden--visually\" id=\"sk-estimator-id-1\" type=\"checkbox\" checked><label for=\"sk-estimator-id-1\" class=\"sk-toggleable__label sk-toggleable__label-arrow\">StandardScaler</label><div class=\"sk-toggleable__content\"><pre>StandardScaler()</pre></div></div></div></div></div>"
      ],
      "text/plain": [
       "StandardScaler()"
      ]
     },
     "execution_count": 39,
     "metadata": {},
     "output_type": "execute_result"
    }
   ],
   "source": [
    "#StandardScaler removes the mean and scales each feature/variable to unit variance. \n",
    "sc = StandardScaler()\n",
    "sc.fit(x_train )"
   ]
  },
  {
   "cell_type": "code",
   "execution_count": 40,
   "id": "42654c9e-b864-4b0f-a7b2-d7bd75b55ef2",
   "metadata": {},
   "outputs": [
    {
     "data": {
      "text/plain": [
       "array([2.01371667e+03, 7.69230833e+00, 3.67837292e+04])"
      ]
     },
     "execution_count": 40,
     "metadata": {},
     "output_type": "execute_result"
    }
   ],
   "source": [
    "sc.mean_"
   ]
  },
  {
   "cell_type": "code",
   "execution_count": 41,
   "id": "5e99745f-75a2-4ed3-a4e4-7963996779f6",
   "metadata": {},
   "outputs": [
    {
     "data": {
      "text/plain": [
       "array([2.89160663e+00, 8.87514520e+00, 4.22616345e+04])"
      ]
     },
     "execution_count": 41,
     "metadata": {},
     "output_type": "execute_result"
    }
   ],
   "source": [
    "sc.scale_\n"
   ]
  },
  {
   "cell_type": "code",
   "execution_count": 42,
   "id": "096734c8-d734-4405-bdf1-ccdfedb96f4f",
   "metadata": {},
   "outputs": [
    {
     "data": {
      "text/html": [
       "<div>\n",
       "<style scoped>\n",
       "    .dataframe tbody tr th:only-of-type {\n",
       "        vertical-align: middle;\n",
       "    }\n",
       "\n",
       "    .dataframe tbody tr th {\n",
       "        vertical-align: top;\n",
       "    }\n",
       "\n",
       "    .dataframe thead th {\n",
       "        text-align: right;\n",
       "    }\n",
       "</style>\n",
       "<table border=\"1\" class=\"dataframe\">\n",
       "  <thead>\n",
       "    <tr style=\"text-align: right;\">\n",
       "      <th></th>\n",
       "      <th>Year</th>\n",
       "      <th>Present_Price</th>\n",
       "      <th>Kms_Driven</th>\n",
       "    </tr>\n",
       "  </thead>\n",
       "  <tbody>\n",
       "    <tr>\n",
       "      <th>count</th>\n",
       "      <td>240.000000</td>\n",
       "      <td>240.000000</td>\n",
       "      <td>240.000000</td>\n",
       "    </tr>\n",
       "    <tr>\n",
       "      <th>mean</th>\n",
       "      <td>2013.716667</td>\n",
       "      <td>7.692308</td>\n",
       "      <td>36783.729167</td>\n",
       "    </tr>\n",
       "    <tr>\n",
       "      <th>std</th>\n",
       "      <td>2.897650</td>\n",
       "      <td>8.893693</td>\n",
       "      <td>42349.955686</td>\n",
       "    </tr>\n",
       "    <tr>\n",
       "      <th>min</th>\n",
       "      <td>2003.000000</td>\n",
       "      <td>0.320000</td>\n",
       "      <td>500.000000</td>\n",
       "    </tr>\n",
       "    <tr>\n",
       "      <th>25%</th>\n",
       "      <td>2012.000000</td>\n",
       "      <td>1.245000</td>\n",
       "      <td>15000.000000</td>\n",
       "    </tr>\n",
       "    <tr>\n",
       "      <th>50%</th>\n",
       "      <td>2015.000000</td>\n",
       "      <td>6.625000</td>\n",
       "      <td>30000.000000</td>\n",
       "    </tr>\n",
       "    <tr>\n",
       "      <th>75%</th>\n",
       "      <td>2016.000000</td>\n",
       "      <td>9.942500</td>\n",
       "      <td>46779.500000</td>\n",
       "    </tr>\n",
       "    <tr>\n",
       "      <th>max</th>\n",
       "      <td>2018.000000</td>\n",
       "      <td>92.600000</td>\n",
       "      <td>500000.000000</td>\n",
       "    </tr>\n",
       "  </tbody>\n",
       "</table>\n",
       "</div>"
      ],
      "text/plain": [
       "              Year  Present_Price     Kms_Driven\n",
       "count   240.000000     240.000000     240.000000\n",
       "mean   2013.716667       7.692308   36783.729167\n",
       "std       2.897650       8.893693   42349.955686\n",
       "min    2003.000000       0.320000     500.000000\n",
       "25%    2012.000000       1.245000   15000.000000\n",
       "50%    2015.000000       6.625000   30000.000000\n",
       "75%    2016.000000       9.942500   46779.500000\n",
       "max    2018.000000      92.600000  500000.000000"
      ]
     },
     "execution_count": 42,
     "metadata": {},
     "output_type": "execute_result"
    }
   ],
   "source": [
    "x_train.describe() # diff. feature numberical distribution like mean , median,count, standarad deviation"
   ]
  },
  {
   "cell_type": "code",
   "execution_count": 45,
   "id": "b001d286-3cee-4a3c-95a5-15b493f260b1",
   "metadata": {},
   "outputs": [],
   "source": [
    "x_train_sc = sc.transform(x_train)\n",
    "x_test_sc = sc.transform(x_test)"
   ]
  },
  {
   "cell_type": "code",
   "execution_count": 46,
   "id": "c2170221-5a97-491e-87aa-7880cbd71cd3",
   "metadata": {},
   "outputs": [
    {
     "data": {
      "text/plain": [
       "array([[ 1.13547026e+00,  1.92412814e-01, -5.12112923e-01],\n",
       "       [ 9.79847434e-02,  3.18503991e+00,  9.97659197e-02],\n",
       "       [ 7.89641755e-01,  8.10994243e-01, -3.26152297e-01],\n",
       "       [-9.39500775e-01,  6.81418899e-01,  1.21188571e+00],\n",
       "       [-1.97698629e+00, -8.08134196e-01,  1.09606804e+01],\n",
       "       [ 9.79847434e-02, -1.00540139e-01,  6.39178031e-02],\n",
       "       [ 9.79847434e-02,  4.89872737e-01, -5.15449282e-01],\n",
       "       [-1.63115779e+00, -5.43437119e-02,  9.61706079e-01],\n",
       "       [-9.39500775e-01,  5.37362101e-03,  3.12677704e-01],\n",
       "       [ 1.13547026e+00, -1.35469145e-01, -4.87054734e-01],\n",
       "       [-9.39500775e-01, -3.15747886e-01,  4.12105945e-01],\n",
       "       [ 1.13547026e+00, -8.09260939e-01, -7.75732637e-01],\n",
       "       [ 9.79847434e-02, -2.36875937e-01, -2.31503804e-01],\n",
       "       [-1.28532928e+00,  1.43746287e+00,  5.25684136e-01],\n",
       "       [ 7.89641755e-01,  1.34948966e-01, -3.90678907e-01],\n",
       "       [-1.28532928e+00, -1.01666881e-01,  5.02022013e-01],\n",
       "       [ 7.89641755e-01,  2.00212687e-02, -2.90091221e-01],\n",
       "       [ 4.43813249e-01, -8.05880712e-01, -5.39111405e-01],\n",
       "       [ 4.43813249e-01, -7.01093694e-01, -4.56293974e-01],\n",
       "       [-5.93672269e-01, -2.63917748e-01,  3.99683330e-01],\n",
       "       [ 1.13547026e+00, -4.61097621e-01, -8.19862496e-01],\n",
       "       [ 4.43813249e-01, -2.24481773e-01, -2.03109257e-01],\n",
       "       [ 9.79847434e-02, -9.26529442e-02,  1.34075998e-01],\n",
       "       [-1.28532928e+00,  1.70562749e+00,  1.02258872e+00],\n",
       "       [-2.47843763e-01, -2.01946931e-01, -6.38492322e-01],\n",
       "       [ 4.43813249e-01, -2.24481773e-01, -7.64090872e-01],\n",
       "       [ 4.43813249e-01,  3.18503991e+00,  2.41738658e-01],\n",
       "       [ 4.43813249e-01,  7.99726822e-01,  1.59749402e-01],\n",
       "       [-2.66864330e+00,  1.80703429e+00,  2.48964036e+00],\n",
       "       [ 4.43813249e-01, -2.16681901e-02,  1.70752289e-01],\n",
       "       [-9.39500775e-01,  5.39449390e-01,  1.94414412e-01],\n",
       "       [-5.93672269e-01, -3.67578024e-01, -3.09375852e-01],\n",
       "       [-2.47843763e-01, -8.09260939e-01, -1.13193189e-01],\n",
       "       [ 7.89641755e-01,  2.34014951e-02, -1.94377933e-01],\n",
       "       [ 4.43813249e-01,  1.03400186e-01, -7.93800146e-02],\n",
       "       [ 7.89641755e-01, -7.08980889e-01, -4.22068192e-02],\n",
       "       [-2.47843763e-01, -2.24481773e-01,  3.83711397e-01],\n",
       "       [-5.93672269e-01, -5.63631154e-01,  3.12725028e-01],\n",
       "       [ 1.13547026e+00, -7.59684285e-01, -7.87563698e-01],\n",
       "       [ 4.43813249e-01, -2.13214352e-01,  7.66480253e-02],\n",
       "       [ 7.89641755e-01, -6.97713468e-01, -4.44462913e-01],\n",
       "       [ 1.13547026e+00,  4.59363377e-02, -7.89101736e-01],\n",
       "       [ 7.89641755e-01,  1.99407348e+00, -1.84179558e-01],\n",
       "       [ 1.13547026e+00,  5.41702875e-01, -6.57422021e-01],\n",
       "       [ 4.43813249e-01,  2.58223287e+00,  7.61037965e-02],\n",
       "       [-2.47843763e-01, -7.01093694e-01,  2.29907597e-01],\n",
       "       [ 4.43813249e-01, -7.83345870e-01, -7.52070513e-01],\n",
       "       [-5.93672269e-01,  1.92412814e-01, -1.61784837e-02],\n",
       "       [ 1.13547026e+00, -2.23355031e-01, -8.13592034e-01],\n",
       "       [ 1.13547026e+00,  1.23352254e+00, -6.64520658e-01],\n",
       "       [-2.47843763e-01, -8.01373744e-01, -1.60517435e-01],\n",
       "       [ 7.89641755e-01,  6.65644509e-01, -1.42699856e-01],\n",
       "       [ 4.43813249e-01, -5.54704540e-02,  2.83549630e-01],\n",
       "       [ 4.43813249e-01, -2.01946931e-01,  5.49346259e-01],\n",
       "       [ 7.89641755e-01,  1.92412814e-01, -4.10531428e-01],\n",
       "       [-2.47843763e-01, -8.13767907e-01, -3.73476543e-01],\n",
       "       [ 7.89641755e-01, -3.67578024e-01, -5.90008632e-01],\n",
       "       [-5.93672269e-01, -7.73205190e-01, -7.40239452e-01],\n",
       "       [ 4.43813249e-01,  1.92412814e-01, -1.85446961e-02],\n",
       "       [ 7.89641755e-01, -7.60811027e-01, -3.02490174e-01],\n",
       "       [ 4.43813249e-01, -1.79412088e-01, -1.26751585e-01],\n",
       "       [ 1.13547026e+00, -7.59684285e-01, -8.39620369e-01],\n",
       "       [ 7.89641755e-01, -7.24755279e-01, -7.35507027e-01],\n",
       "       [ 7.89641755e-01, -7.72078448e-01, -2.78828051e-01],\n",
       "       [-1.63115779e+00,  1.23014232e+00,  5.96670506e-01],\n",
       "       [ 7.89641755e-01, -3.67578024e-01, -5.15449282e-01],\n",
       "       [-5.93672269e-01, -7.55177316e-01, -5.27280344e-01],\n",
       "       [ 1.13547026e+00, -8.08134196e-01, -5.15449282e-01],\n",
       "       [ 1.13547026e+00, -7.68698222e-01, -6.10097775e-01],\n",
       "       [-5.93672269e-01, -1.01666881e-01, -4.22068192e-02],\n",
       "       [-9.39500775e-01, -7.73655887e-01, -7.28408390e-01],\n",
       "       [-5.93672269e-01,  1.92412814e-01,  5.49346259e-01],\n",
       "       [-1.97698629e+00, -7.78050182e-01,  3.12725028e-01],\n",
       "       [ 9.79847434e-02, -1.00540139e-01, -8.90814851e-02],\n",
       "       [ 1.13547026e+00,  1.92412814e-01, -5.15425620e-01],\n",
       "       [ 4.43813249e-01,  1.99339462e-03, -2.58242003e-01],\n",
       "       [ 9.79847434e-02,  4.14293691e-02,  1.94414412e-01],\n",
       "       [ 4.43813249e-01, -4.75832591e-02,  8.87393703e-02],\n",
       "       [ 4.43813249e-01, -8.04753970e-01, -7.11844904e-01],\n",
       "       [-5.93672269e-01, -7.75458675e-01, -4.20800789e-01],\n",
       "       [-1.28532928e+00,  9.56690733e+00,  9.75264476e-01],\n",
       "       [-5.93672269e-01,  2.58223287e+00,  1.60720880e+00],\n",
       "       [ 4.43813249e-01,  1.99339462e-03, -2.55165927e-01],\n",
       "       [ 4.43813249e-01,  1.77677844e-02,  7.61037965e-02],\n",
       "       [ 1.13547026e+00,  1.13540865e-01, -3.68744119e-01],\n",
       "       [-9.39500775e-01,  3.57956585e-02,  3.12725028e-01],\n",
       "       [ 4.43813249e-01, -2.24481773e-01, -2.86447254e-01],\n",
       "       [ 9.79847434e-02,  4.14293691e-02,  2.12870868e-01],\n",
       "       [ 7.89641755e-01, -1.04007688e-02, -4.68125036e-01],\n",
       "       [ 4.43813249e-01,  6.65644509e-01,  8.37703244e-02],\n",
       "       [ 4.43813249e-01, -2.01946931e-01, -5.28108518e-01],\n",
       "       [-5.93672269e-01, -6.69544914e-01, -5.98266713e-01],\n",
       "       [ 9.79847434e-02,  7.10714194e-01,  6.20332629e-01],\n",
       "       [ 4.43813249e-01,  7.99726822e-01, -5.65139741e-01],\n",
       "       [ 9.79847434e-02, -2.27949322e-02,  5.24416734e-02],\n",
       "       [ 9.79847434e-02,  9.46203299e-01,  5.07748247e-01],\n",
       "       [ 4.43813249e-01,  3.02833543e-01,  3.36387151e-01],\n",
       "       [-2.66864330e+00, -7.82219127e-01,  1.31204747e+00],\n",
       "       [-3.01447181e+00,  6.76911930e-01,  9.04278106e-01],\n",
       "       [-5.93672269e-01, -3.48423408e-01, -2.38686738e-02],\n",
       "       [ 1.13547026e+00,  1.99407348e+00, -5.15449282e-01],\n",
       "       [-2.47843763e-01, -6.97713468e-01, -5.15449282e-01],\n",
       "       [ 4.43813249e-01, -7.01093694e-01, -4.68125036e-01],\n",
       "       [ 1.13547026e+00, -6.61657720e-01, -8.37254157e-01],\n",
       "       [-9.39500775e-01, -8.02500486e-01, -4.22068192e-02],\n",
       "       [ 7.89641755e-01,  3.49029970e-01,  1.47090166e-01],\n",
       "       [ 4.43813249e-01,  1.92412814e-01,  5.82023651e-01],\n",
       "       [ 9.79847434e-02, -1.05047108e-01,  8.09629614e-01],\n",
       "       [-5.93672269e-01, -8.09260939e-01,  5.49346259e-01],\n",
       "       [ 4.43813249e-01, -7.59684285e-01, -4.77589885e-01],\n",
       "       [ 7.89641755e-01,  6.65644509e-01, -3.33937135e-01],\n",
       "       [ 7.89641755e-01, -8.04753970e-01, -8.46719006e-01],\n",
       "       [-1.28532928e+00, -8.08134196e-01, -3.49814420e-01],\n",
       "       [ 7.89641755e-01,  6.65644509e-01, -2.01063962e-02],\n",
       "       [-9.39500775e-01, -7.48416864e-01, -1.60517435e-01],\n",
       "       [ 4.43813249e-01,  3.02833543e-01,  1.94414412e-01],\n",
       "       [ 9.79847434e-02, -4.77998752e-01, -4.79956097e-01],\n",
       "       [ 9.79847434e-02, -7.67571480e-01, -6.81084144e-01],\n",
       "       [ 4.43813249e-01,  2.60017342e-01, -4.24870675e-01],\n",
       "       [ 1.48129877e+00,  2.40862726e-01, -8.21376872e-01],\n",
       "       [ 9.79847434e-02,  2.54383632e-01,  1.94414412e-01],\n",
       "       [ 4.43813249e-01,  6.65644509e-01, -6.58689423e-02],\n",
       "       [ 9.79847434e-02, -5.96306676e-01, -7.04746267e-01],\n",
       "       [-5.93672269e-01, -7.55177316e-01, -5.62773528e-01],\n",
       "       [-5.93672269e-01, -1.01666881e-01,  3.63172674e-01],\n",
       "       [-2.47843763e-01, -7.93486549e-01, -3.02490174e-01],\n",
       "       [ 1.13547026e+00,  2.43116210e-01, -7.07112479e-01],\n",
       "       [-1.28532928e+00,  2.48749921e-01,  2.87795502e-02],\n",
       "       [-1.97698629e+00, -8.01373744e-01, -8.25423095e-01],\n",
       "       [ 7.89641755e-01,  4.62830926e-01, -6.57185400e-01],\n",
       "       [-9.39500775e-01, -7.78050182e-01,  9.04278106e-01],\n",
       "       [ 7.89641755e-01, -6.97713468e-01, -6.64520658e-01],\n",
       "       [ 1.13547026e+00, -3.67578024e-01,  4.03266663e-02],\n",
       "       [-2.47843763e-01, -7.31515732e-01, -1.13193189e-01],\n",
       "       [ 4.43813249e-01,  6.49870119e-01,  2.87795502e-02],\n",
       "       [ 7.89641755e-01,  7.97386015e-02, -7.75732637e-01],\n",
       "       [-2.47843763e-01, -7.01093694e-01, -8.95310655e-02],\n",
       "       [-2.47843763e-01, -3.15747886e-01,  6.56583001e-01],\n",
       "       [ 9.79847434e-02, -4.18281420e-01,  2.34781994e-01],\n",
       "       [ 9.79847434e-02, -7.78050182e-01, -5.15449282e-01],\n",
       "       [ 7.89641755e-01, -8.12641165e-01,  3.12725028e-01],\n",
       "       [ 7.89641755e-01, -6.52643783e-01, -7.99394760e-01],\n",
       "       [ 9.79847434e-02, -7.75458675e-01,  1.23428043e-01],\n",
       "       [-2.32281480e+00, -8.01373744e-01,  3.83711397e-01],\n",
       "       [ 7.89641755e-01, -4.43069746e-01, -6.31890590e-01],\n",
       "       [ 4.43813249e-01,  2.53256889e-01, -5.15449282e-01],\n",
       "       [ 7.89641755e-01, -7.59684285e-01, -8.58550068e-01],\n",
       "       [ 4.43813249e-01,  6.65644509e-01, -2.83560475e-01],\n",
       "       [ 7.89641755e-01,  9.10060228e-02, -5.14053217e-01],\n",
       "       [ 1.13547026e+00,  1.74168324e+00, -6.10097775e-01],\n",
       "       [-2.47843763e-01,  2.48749921e-01,  4.71284915e-01],\n",
       "       [-1.63115779e+00,  2.60017342e-01,  7.75603481e-01],\n",
       "       [-5.93672269e-01,  1.92412814e-01, -1.05573985e-01],\n",
       "       [-1.63115779e+00,  3.72691555e-01,  1.21032401e+00],\n",
       "       [ 1.13547026e+00, -7.68698222e-01, -7.99394760e-01],\n",
       "       [-3.36030032e+00,  5.24801743e-01,  2.32764946e+00],\n",
       "       [-2.47843763e-01, -8.02500486e-01, -4.44462913e-01],\n",
       "       [-1.97698629e+00, -7.82219127e-01, -2.55165927e-01],\n",
       "       [-2.47843763e-01,  7.87332659e-01,  8.33291737e-01],\n",
       "       [ 9.79847434e-02, -7.94613291e-01, -5.46210042e-01],\n",
       "       [ 9.79847434e-02,  1.39455934e-01,  1.09357509e+00],\n",
       "       [ 1.13547026e+00, -6.86446046e-01, -8.41986581e-01],\n",
       "       [ 4.43813249e-01, -7.72078448e-01, -3.26152297e-01],\n",
       "       [ 7.89641755e-01, -6.66164688e-01, -7.28408390e-01],\n",
       "       [-2.47843763e-01,  1.92412814e-01,  1.94414412e-01],\n",
       "       [ 1.13547026e+00, -6.66164688e-01, -7.75732637e-01],\n",
       "       [ 4.43813249e-01,  6.65644509e-01,  7.38643244e-01],\n",
       "       [ 7.89641755e-01, -1.94059736e-01, -7.37873240e-01],\n",
       "       [-2.66864330e+00, -3.99126803e-01,  6.67656875e-01],\n",
       "       [ 7.89641755e-01,  4.40296083e-01, -6.61528878e-02],\n",
       "       [-2.47843763e-01,  2.58223287e+00,  2.32400549e+00],\n",
       "       [-2.47843763e-01, -7.78050182e-01, -4.91787159e-01],\n",
       "       [-2.47843763e-01, -6.52643783e-01, -7.42605664e-01],\n",
       "       [-9.39500775e-01, -3.67578024e-01,  4.78359890e-01],\n",
       "       [ 4.43813249e-01, -7.85599354e-01,  4.29768241e-02],\n",
       "       [ 9.79847434e-02, -7.55177316e-01, -2.78828051e-01],\n",
       "       [-1.63115779e+00, -6.69544914e-01,  7.61037965e-02],\n",
       "       [ 7.89641755e-01,  6.65644509e-01, -1.78902905e-01],\n",
       "       [-2.47843763e-01, -2.05327157e-01,  4.34301017e-01],\n",
       "       [ 7.89641755e-01, -4.21661646e-01, -2.78828051e-01],\n",
       "       [-3.01447181e+00,  6.49870119e-01,  3.79522166e+00],\n",
       "       [-2.47843763e-01, -1.01666881e-01, -1.13193189e-01],\n",
       "       [ 7.89641755e-01, -1.04007688e-02, -7.04746267e-01],\n",
       "       [-5.93672269e-01,  1.23014232e+00,  8.33291737e-01],\n",
       "       [-1.28532928e+00, -7.48416864e-01,  4.16965110e+00],\n",
       "       [ 7.89641755e-01, -8.04753970e-01, -1.36855312e-01],\n",
       "       [ 9.79847434e-02, -1.45609824e-01, -4.20800789e-01],\n",
       "       [ 9.79847434e-02,  3.18503991e+00,  9.75264476e-01],\n",
       "       [ 4.43813249e-01,  2.60017342e-01, -2.17306530e-01],\n",
       "       [ 9.79847434e-02, -7.80052966e-02, -1.72669414e-02],\n",
       "       [ 4.43813249e-01, -5.99686902e-01, -3.56913057e-01],\n",
       "       [-2.47843763e-01,  1.92412814e-01,  2.89062905e-01],\n",
       "       [ 1.13547026e+00, -2.13214352e-01, -4.20800789e-01],\n",
       "       [-2.47843763e-01,  1.23014232e+00,  1.94414412e-01],\n",
       "       [ 7.89641755e-01,  8.66652488e-04, -4.91739835e-01],\n",
       "       [ 1.13547026e+00, -8.09260939e-01, -7.68634000e-01],\n",
       "       [-9.39500775e-01, -3.99126803e-01, -7.47338089e-01],\n",
       "       [ 1.13547026e+00,  1.80018651e-01,  5.11742709e-03],\n",
       "       [ 1.13547026e+00, -7.72078448e-01, -7.52070513e-01],\n",
       "       [ 1.13547026e+00,  1.36084440e+00, -5.15449282e-01],\n",
       "       [ 4.43813249e-01, -6.33576489e-02, -2.17154206e-02],\n",
       "       [ 7.89641755e-01,  1.48929301e+00, -5.86435651e-01],\n",
       "       [-5.93672269e-01,  6.81418899e-01,  4.54697767e-01],\n",
       "       [ 7.89641755e-01, -7.76585417e-01, -3.97138666e-01],\n",
       "       [ 9.79847434e-02, -7.31515732e-01, -3.14321235e-01],\n",
       "       [ 1.13547026e+00, -7.01093694e-01, -6.10097775e-01],\n",
       "       [ 4.43813249e-01, -6.52643783e-01, -5.39111405e-01],\n",
       "       [ 4.43813249e-01,  6.65644509e-01, -3.55020087e-01],\n",
       "       [ 7.89641755e-01,  3.49029970e-01,  1.47090166e-01],\n",
       "       [-1.63115779e+00,  8.27895375e-01,  7.85967491e-01],\n",
       "       [ 1.13547026e+00, -8.05880712e-01, -6.66886870e-01],\n",
       "       [-2.47843763e-01, -3.48423408e-01, -1.60517435e-01],\n",
       "       [-3.01447181e+00, -8.02500486e-01,  4.31035644e-01],\n",
       "       [-5.93672269e-01,  1.92412814e-01, -1.85446961e-02],\n",
       "       [ 9.79847434e-02,  2.48749921e-01,  2.65400782e-01],\n",
       "       [ 4.43813249e-01, -9.82866549e-02, -1.26751585e-01],\n",
       "       [ 4.43813249e-01, -8.30669039e-01, -4.22068192e-02],\n",
       "       [ 4.43813249e-01, -1.00540139e-01, -1.85446961e-02],\n",
       "       [-5.93672269e-01, -8.02500486e-01, -2.78828051e-01],\n",
       "       [ 9.79847434e-02, -1.00540139e-01, -4.79956097e-01],\n",
       "       [ 7.89641755e-01, -2.01946931e-01, -7.41091288e-01],\n",
       "       [ 7.89641755e-01,  6.65644509e-01, -6.10571017e-01],\n",
       "       [ 7.89641755e-01, -2.24481773e-01, -7.87729333e-01],\n",
       "       [-3.01447181e+00,  2.83678927e-01,  1.25920995e+00],\n",
       "       [-2.47843763e-01, -7.84472612e-01, -5.86435651e-01],\n",
       "       [-2.47843763e-01, -3.69831508e-01,  4.75496773e-01],\n",
       "       [-2.66864330e+00, -1.04007688e-02,  3.23514956e-01],\n",
       "       [ 4.43813249e-01,  4.81898219e-02, -4.25627863e-01],\n",
       "       [ 7.89641755e-01,  7.97386015e-02, -5.86435651e-01],\n",
       "       [-1.28532928e+00, -7.59684285e-01, -2.31503804e-01],\n",
       "       [ 7.89641755e-01, -8.05880712e-01, -5.39111405e-01],\n",
       "       [-1.28532928e+00, -4.21661646e-01,  1.83577160e-01],\n",
       "       [-2.47843763e-01,  1.23014232e+00,  7.61274586e-02],\n",
       "       [-3.70612882e+00, -6.09827582e-01,  2.13470851e+00],\n",
       "       [ 7.89641755e-01, -7.34895958e-01, -7.28408390e-01],\n",
       "       [ 9.79847434e-02, -1.04007688e-02,  9.66556815e-01],\n",
       "       [ 4.43813249e-01,  3.49029970e-01,  1.15808839e-01],\n",
       "       [-1.28532928e+00, -8.09260939e-01, -8.95310655e-02],\n",
       "       [-2.47843763e-01,  1.92412814e-01, -1.38595957e-02],\n",
       "       [-1.28532928e+00,  1.22225512e+00,  3.12725028e-01]])"
      ]
     },
     "execution_count": 46,
     "metadata": {},
     "output_type": "execute_result"
    }
   ],
   "source": [
    "x_train_sc "
   ]
  },
  {
   "cell_type": "code",
   "execution_count": 47,
   "id": "9a276f0b-67c5-4043-8cf4-8e159cd4503a",
   "metadata": {},
   "outputs": [],
   "source": [
    "x_train_sc =  pd.DataFrame(x_train_sc, columns = \n",
    "                           [\"Year\",'Present_Price','Kms_Driven'])\n",
    "x_test_sc =  pd.DataFrame(x_test_sc, columns =\n",
    "                          [\"Year\",'Present_Price','Kms_Driven'])\n"
   ]
  },
  {
   "cell_type": "code",
   "execution_count": 48,
   "id": "74f3c489-0382-4df6-97be-c6ba92a4d8ac",
   "metadata": {},
   "outputs": [
    {
     "data": {
      "text/html": [
       "<div>\n",
       "<style scoped>\n",
       "    .dataframe tbody tr th:only-of-type {\n",
       "        vertical-align: middle;\n",
       "    }\n",
       "\n",
       "    .dataframe tbody tr th {\n",
       "        vertical-align: top;\n",
       "    }\n",
       "\n",
       "    .dataframe thead th {\n",
       "        text-align: right;\n",
       "    }\n",
       "</style>\n",
       "<table border=\"1\" class=\"dataframe\">\n",
       "  <thead>\n",
       "    <tr style=\"text-align: right;\">\n",
       "      <th></th>\n",
       "      <th>Year</th>\n",
       "      <th>Present_Price</th>\n",
       "      <th>Kms_Driven</th>\n",
       "    </tr>\n",
       "  </thead>\n",
       "  <tbody>\n",
       "    <tr>\n",
       "      <th>235</th>\n",
       "      <td>2017</td>\n",
       "      <td>9.40</td>\n",
       "      <td>15141</td>\n",
       "    </tr>\n",
       "    <tr>\n",
       "      <th>59</th>\n",
       "      <td>2014</td>\n",
       "      <td>35.96</td>\n",
       "      <td>41000</td>\n",
       "    </tr>\n",
       "    <tr>\n",
       "      <th>80</th>\n",
       "      <td>2016</td>\n",
       "      <td>14.89</td>\n",
       "      <td>23000</td>\n",
       "    </tr>\n",
       "    <tr>\n",
       "      <th>68</th>\n",
       "      <td>2011</td>\n",
       "      <td>13.74</td>\n",
       "      <td>88000</td>\n",
       "    </tr>\n",
       "    <tr>\n",
       "      <th>196</th>\n",
       "      <td>2008</td>\n",
       "      <td>0.52</td>\n",
       "      <td>500000</td>\n",
       "    </tr>\n",
       "    <tr>\n",
       "      <th>...</th>\n",
       "      <td>...</td>\n",
       "      <td>...</td>\n",
       "      <td>...</td>\n",
       "    </tr>\n",
       "    <tr>\n",
       "      <th>222</th>\n",
       "      <td>2014</td>\n",
       "      <td>7.60</td>\n",
       "      <td>77632</td>\n",
       "    </tr>\n",
       "    <tr>\n",
       "      <th>16</th>\n",
       "      <td>2015</td>\n",
       "      <td>10.79</td>\n",
       "      <td>41678</td>\n",
       "    </tr>\n",
       "    <tr>\n",
       "      <th>197</th>\n",
       "      <td>2010</td>\n",
       "      <td>0.51</td>\n",
       "      <td>33000</td>\n",
       "    </tr>\n",
       "    <tr>\n",
       "      <th>224</th>\n",
       "      <td>2013</td>\n",
       "      <td>9.40</td>\n",
       "      <td>36198</td>\n",
       "    </tr>\n",
       "    <tr>\n",
       "      <th>57</th>\n",
       "      <td>2010</td>\n",
       "      <td>18.54</td>\n",
       "      <td>50000</td>\n",
       "    </tr>\n",
       "  </tbody>\n",
       "</table>\n",
       "<p>240 rows × 3 columns</p>\n",
       "</div>"
      ],
      "text/plain": [
       "     Year  Present_Price  Kms_Driven\n",
       "235  2017           9.40       15141\n",
       "59   2014          35.96       41000\n",
       "80   2016          14.89       23000\n",
       "68   2011          13.74       88000\n",
       "196  2008           0.52      500000\n",
       "..    ...            ...         ...\n",
       "222  2014           7.60       77632\n",
       "16   2015          10.79       41678\n",
       "197  2010           0.51       33000\n",
       "224  2013           9.40       36198\n",
       "57   2010          18.54       50000\n",
       "\n",
       "[240 rows x 3 columns]"
      ]
     },
     "execution_count": 48,
     "metadata": {},
     "output_type": "execute_result"
    }
   ],
   "source": [
    "x_train"
   ]
  },
  {
   "cell_type": "code",
   "execution_count": 49,
   "id": "f13deecb-fca4-44fc-b6bc-dd46c971291d",
   "metadata": {},
   "outputs": [
    {
     "data": {
      "text/html": [
       "<div>\n",
       "<style scoped>\n",
       "    .dataframe tbody tr th:only-of-type {\n",
       "        vertical-align: middle;\n",
       "    }\n",
       "\n",
       "    .dataframe tbody tr th {\n",
       "        vertical-align: top;\n",
       "    }\n",
       "\n",
       "    .dataframe thead th {\n",
       "        text-align: right;\n",
       "    }\n",
       "</style>\n",
       "<table border=\"1\" class=\"dataframe\">\n",
       "  <thead>\n",
       "    <tr style=\"text-align: right;\">\n",
       "      <th></th>\n",
       "      <th>Year</th>\n",
       "      <th>Present_Price</th>\n",
       "      <th>Kms_Driven</th>\n",
       "    </tr>\n",
       "  </thead>\n",
       "  <tbody>\n",
       "    <tr>\n",
       "      <th>0</th>\n",
       "      <td>1.135470</td>\n",
       "      <td>0.192413</td>\n",
       "      <td>-0.512113</td>\n",
       "    </tr>\n",
       "    <tr>\n",
       "      <th>1</th>\n",
       "      <td>0.097985</td>\n",
       "      <td>3.185040</td>\n",
       "      <td>0.099766</td>\n",
       "    </tr>\n",
       "    <tr>\n",
       "      <th>2</th>\n",
       "      <td>0.789642</td>\n",
       "      <td>0.810994</td>\n",
       "      <td>-0.326152</td>\n",
       "    </tr>\n",
       "    <tr>\n",
       "      <th>3</th>\n",
       "      <td>-0.939501</td>\n",
       "      <td>0.681419</td>\n",
       "      <td>1.211886</td>\n",
       "    </tr>\n",
       "    <tr>\n",
       "      <th>4</th>\n",
       "      <td>-1.976986</td>\n",
       "      <td>-0.808134</td>\n",
       "      <td>10.960680</td>\n",
       "    </tr>\n",
       "  </tbody>\n",
       "</table>\n",
       "</div>"
      ],
      "text/plain": [
       "       Year  Present_Price  Kms_Driven\n",
       "0  1.135470       0.192413   -0.512113\n",
       "1  0.097985       3.185040    0.099766\n",
       "2  0.789642       0.810994   -0.326152\n",
       "3 -0.939501       0.681419    1.211886\n",
       "4 -1.976986      -0.808134   10.960680"
      ]
     },
     "execution_count": 49,
     "metadata": {},
     "output_type": "execute_result"
    }
   ],
   "source": [
    "x_train_sc.head()"
   ]
  },
  {
   "cell_type": "code",
   "execution_count": 50,
   "id": "150552b3-a120-430f-8c3f-7219c583b01b",
   "metadata": {},
   "outputs": [
    {
     "data": {
      "text/html": [
       "<div>\n",
       "<style scoped>\n",
       "    .dataframe tbody tr th:only-of-type {\n",
       "        vertical-align: middle;\n",
       "    }\n",
       "\n",
       "    .dataframe tbody tr th {\n",
       "        vertical-align: top;\n",
       "    }\n",
       "\n",
       "    .dataframe thead th {\n",
       "        text-align: right;\n",
       "    }\n",
       "</style>\n",
       "<table border=\"1\" class=\"dataframe\">\n",
       "  <thead>\n",
       "    <tr style=\"text-align: right;\">\n",
       "      <th></th>\n",
       "      <th>Year</th>\n",
       "      <th>Present_Price</th>\n",
       "      <th>Kms_Driven</th>\n",
       "    </tr>\n",
       "  </thead>\n",
       "  <tbody>\n",
       "    <tr>\n",
       "      <th>count</th>\n",
       "      <td>2.400000e+02</td>\n",
       "      <td>2.400000e+02</td>\n",
       "      <td>2.400000e+02</td>\n",
       "    </tr>\n",
       "    <tr>\n",
       "      <th>mean</th>\n",
       "      <td>-1.051011e-14</td>\n",
       "      <td>1.480297e-17</td>\n",
       "      <td>7.771561e-17</td>\n",
       "    </tr>\n",
       "    <tr>\n",
       "      <th>std</th>\n",
       "      <td>1.002090e+00</td>\n",
       "      <td>1.002090e+00</td>\n",
       "      <td>1.002090e+00</td>\n",
       "    </tr>\n",
       "    <tr>\n",
       "      <th>min</th>\n",
       "      <td>-3.706129e+00</td>\n",
       "      <td>-8.306690e-01</td>\n",
       "      <td>-8.585501e-01</td>\n",
       "    </tr>\n",
       "    <tr>\n",
       "      <th>25%</th>\n",
       "      <td>-5.936723e-01</td>\n",
       "      <td>-7.264454e-01</td>\n",
       "      <td>-5.154493e-01</td>\n",
       "    </tr>\n",
       "    <tr>\n",
       "      <th>50%</th>\n",
       "      <td>4.438132e-01</td>\n",
       "      <td>-1.202581e-01</td>\n",
       "      <td>-1.605174e-01</td>\n",
       "    </tr>\n",
       "    <tr>\n",
       "      <th>75%</th>\n",
       "      <td>7.896418e-01</td>\n",
       "      <td>2.535386e-01</td>\n",
       "      <td>2.365212e-01</td>\n",
       "    </tr>\n",
       "    <tr>\n",
       "      <th>max</th>\n",
       "      <td>1.481299e+00</td>\n",
       "      <td>9.566907e+00</td>\n",
       "      <td>1.096068e+01</td>\n",
       "    </tr>\n",
       "  </tbody>\n",
       "</table>\n",
       "</div>"
      ],
      "text/plain": [
       "               Year  Present_Price    Kms_Driven\n",
       "count  2.400000e+02   2.400000e+02  2.400000e+02\n",
       "mean  -1.051011e-14   1.480297e-17  7.771561e-17\n",
       "std    1.002090e+00   1.002090e+00  1.002090e+00\n",
       "min   -3.706129e+00  -8.306690e-01 -8.585501e-01\n",
       "25%   -5.936723e-01  -7.264454e-01 -5.154493e-01\n",
       "50%    4.438132e-01  -1.202581e-01 -1.605174e-01\n",
       "75%    7.896418e-01   2.535386e-01  2.365212e-01\n",
       "max    1.481299e+00   9.566907e+00  1.096068e+01"
      ]
     },
     "execution_count": 50,
     "metadata": {},
     "output_type": "execute_result"
    }
   ],
   "source": [
    "x_train_sc.describe()\n"
   ]
  },
  {
   "cell_type": "code",
   "execution_count": 51,
   "id": "5ffb45c1-75e2-4432-ada1-1981d7db4b89",
   "metadata": {},
   "outputs": [
    {
     "data": {
      "text/html": [
       "<div>\n",
       "<style scoped>\n",
       "    .dataframe tbody tr th:only-of-type {\n",
       "        vertical-align: middle;\n",
       "    }\n",
       "\n",
       "    .dataframe tbody tr th {\n",
       "        vertical-align: top;\n",
       "    }\n",
       "\n",
       "    .dataframe thead th {\n",
       "        text-align: right;\n",
       "    }\n",
       "</style>\n",
       "<table border=\"1\" class=\"dataframe\">\n",
       "  <thead>\n",
       "    <tr style=\"text-align: right;\">\n",
       "      <th></th>\n",
       "      <th>Year</th>\n",
       "      <th>Present_Price</th>\n",
       "      <th>Kms_Driven</th>\n",
       "    </tr>\n",
       "  </thead>\n",
       "  <tbody>\n",
       "    <tr>\n",
       "      <th>count</th>\n",
       "      <td>240.00</td>\n",
       "      <td>240.00</td>\n",
       "      <td>240.00</td>\n",
       "    </tr>\n",
       "    <tr>\n",
       "      <th>mean</th>\n",
       "      <td>-0.00</td>\n",
       "      <td>0.00</td>\n",
       "      <td>0.00</td>\n",
       "    </tr>\n",
       "    <tr>\n",
       "      <th>std</th>\n",
       "      <td>1.00</td>\n",
       "      <td>1.00</td>\n",
       "      <td>1.00</td>\n",
       "    </tr>\n",
       "    <tr>\n",
       "      <th>min</th>\n",
       "      <td>-3.71</td>\n",
       "      <td>-0.83</td>\n",
       "      <td>-0.86</td>\n",
       "    </tr>\n",
       "    <tr>\n",
       "      <th>25%</th>\n",
       "      <td>-0.59</td>\n",
       "      <td>-0.73</td>\n",
       "      <td>-0.52</td>\n",
       "    </tr>\n",
       "    <tr>\n",
       "      <th>50%</th>\n",
       "      <td>0.44</td>\n",
       "      <td>-0.12</td>\n",
       "      <td>-0.16</td>\n",
       "    </tr>\n",
       "    <tr>\n",
       "      <th>75%</th>\n",
       "      <td>0.79</td>\n",
       "      <td>0.25</td>\n",
       "      <td>0.24</td>\n",
       "    </tr>\n",
       "    <tr>\n",
       "      <th>max</th>\n",
       "      <td>1.48</td>\n",
       "      <td>9.57</td>\n",
       "      <td>10.96</td>\n",
       "    </tr>\n",
       "  </tbody>\n",
       "</table>\n",
       "</div>"
      ],
      "text/plain": [
       "         Year  Present_Price  Kms_Driven\n",
       "count  240.00         240.00      240.00\n",
       "mean    -0.00           0.00        0.00\n",
       "std      1.00           1.00        1.00\n",
       "min     -3.71          -0.83       -0.86\n",
       "25%     -0.59          -0.73       -0.52\n",
       "50%      0.44          -0.12       -0.16\n",
       "75%      0.79           0.25        0.24\n",
       "max      1.48           9.57       10.96"
      ]
     },
     "execution_count": 51,
     "metadata": {},
     "output_type": "execute_result"
    }
   ],
   "source": [
    "x_train_sc.describe().round(2)\n"
   ]
  },
  {
   "cell_type": "markdown",
   "id": "b81c0870-eaa7-4ba9-bce9-a491f14c5196",
   "metadata": {},
   "source": [
    "# MinMaxScaler()"
   ]
  },
  {
   "cell_type": "code",
   "execution_count": 52,
   "id": "6cdf904c-c670-4270-a541-c2a95f615e69",
   "metadata": {},
   "outputs": [
    {
     "data": {
      "text/html": [
       "<style>#sk-container-id-2 {color: black;background-color: white;}#sk-container-id-2 pre{padding: 0;}#sk-container-id-2 div.sk-toggleable {background-color: white;}#sk-container-id-2 label.sk-toggleable__label {cursor: pointer;display: block;width: 100%;margin-bottom: 0;padding: 0.3em;box-sizing: border-box;text-align: center;}#sk-container-id-2 label.sk-toggleable__label-arrow:before {content: \"▸\";float: left;margin-right: 0.25em;color: #696969;}#sk-container-id-2 label.sk-toggleable__label-arrow:hover:before {color: black;}#sk-container-id-2 div.sk-estimator:hover label.sk-toggleable__label-arrow:before {color: black;}#sk-container-id-2 div.sk-toggleable__content {max-height: 0;max-width: 0;overflow: hidden;text-align: left;background-color: #f0f8ff;}#sk-container-id-2 div.sk-toggleable__content pre {margin: 0.2em;color: black;border-radius: 0.25em;background-color: #f0f8ff;}#sk-container-id-2 input.sk-toggleable__control:checked~div.sk-toggleable__content {max-height: 200px;max-width: 100%;overflow: auto;}#sk-container-id-2 input.sk-toggleable__control:checked~label.sk-toggleable__label-arrow:before {content: \"▾\";}#sk-container-id-2 div.sk-estimator input.sk-toggleable__control:checked~label.sk-toggleable__label {background-color: #d4ebff;}#sk-container-id-2 div.sk-label input.sk-toggleable__control:checked~label.sk-toggleable__label {background-color: #d4ebff;}#sk-container-id-2 input.sk-hidden--visually {border: 0;clip: rect(1px 1px 1px 1px);clip: rect(1px, 1px, 1px, 1px);height: 1px;margin: -1px;overflow: hidden;padding: 0;position: absolute;width: 1px;}#sk-container-id-2 div.sk-estimator {font-family: monospace;background-color: #f0f8ff;border: 1px dotted black;border-radius: 0.25em;box-sizing: border-box;margin-bottom: 0.5em;}#sk-container-id-2 div.sk-estimator:hover {background-color: #d4ebff;}#sk-container-id-2 div.sk-parallel-item::after {content: \"\";width: 100%;border-bottom: 1px solid gray;flex-grow: 1;}#sk-container-id-2 div.sk-label:hover label.sk-toggleable__label {background-color: #d4ebff;}#sk-container-id-2 div.sk-serial::before {content: \"\";position: absolute;border-left: 1px solid gray;box-sizing: border-box;top: 0;bottom: 0;left: 50%;z-index: 0;}#sk-container-id-2 div.sk-serial {display: flex;flex-direction: column;align-items: center;background-color: white;padding-right: 0.2em;padding-left: 0.2em;position: relative;}#sk-container-id-2 div.sk-item {position: relative;z-index: 1;}#sk-container-id-2 div.sk-parallel {display: flex;align-items: stretch;justify-content: center;background-color: white;position: relative;}#sk-container-id-2 div.sk-item::before, #sk-container-id-2 div.sk-parallel-item::before {content: \"\";position: absolute;border-left: 1px solid gray;box-sizing: border-box;top: 0;bottom: 0;left: 50%;z-index: -1;}#sk-container-id-2 div.sk-parallel-item {display: flex;flex-direction: column;z-index: 1;position: relative;background-color: white;}#sk-container-id-2 div.sk-parallel-item:first-child::after {align-self: flex-end;width: 50%;}#sk-container-id-2 div.sk-parallel-item:last-child::after {align-self: flex-start;width: 50%;}#sk-container-id-2 div.sk-parallel-item:only-child::after {width: 0;}#sk-container-id-2 div.sk-dashed-wrapped {border: 1px dashed gray;margin: 0 0.4em 0.5em 0.4em;box-sizing: border-box;padding-bottom: 0.4em;background-color: white;}#sk-container-id-2 div.sk-label label {font-family: monospace;font-weight: bold;display: inline-block;line-height: 1.2em;}#sk-container-id-2 div.sk-label-container {text-align: center;}#sk-container-id-2 div.sk-container {/* jupyter's `normalize.less` sets `[hidden] { display: none; }` but bootstrap.min.css set `[hidden] { display: none !important; }` so we also need the `!important` here to be able to override the default hidden behavior on the sphinx rendered scikit-learn.org. See: https://github.com/scikit-learn/scikit-learn/issues/21755 */display: inline-block !important;position: relative;}#sk-container-id-2 div.sk-text-repr-fallback {display: none;}</style><div id=\"sk-container-id-2\" class=\"sk-top-container\"><div class=\"sk-text-repr-fallback\"><pre>MinMaxScaler()</pre><b>In a Jupyter environment, please rerun this cell to show the HTML representation or trust the notebook. <br />On GitHub, the HTML representation is unable to render, please try loading this page with nbviewer.org.</b></div><div class=\"sk-container\" hidden><div class=\"sk-item\"><div class=\"sk-estimator sk-toggleable\"><input class=\"sk-toggleable__control sk-hidden--visually\" id=\"sk-estimator-id-2\" type=\"checkbox\" checked><label for=\"sk-estimator-id-2\" class=\"sk-toggleable__label sk-toggleable__label-arrow\">MinMaxScaler</label><div class=\"sk-toggleable__content\"><pre>MinMaxScaler()</pre></div></div></div></div></div>"
      ],
      "text/plain": [
       "MinMaxScaler()"
      ]
     },
     "execution_count": 52,
     "metadata": {},
     "output_type": "execute_result"
    }
   ],
   "source": [
    "mmc = MinMaxScaler() \n",
    "mmc.fit(x_train)\n"
   ]
  },
  {
   "cell_type": "code",
   "execution_count": 54,
   "id": "f5f4ddc9-01f8-4ab9-940e-1cbc02382150",
   "metadata": {},
   "outputs": [],
   "source": [
    "x_train_mmc = mmc.transform(x_train)\n",
    "x_test_mmc = mmc.transform(x_test)\n"
   ]
  },
  {
   "cell_type": "code",
   "execution_count": 55,
   "id": "6abe3860-6345-4328-aaa9-117a020972b5",
   "metadata": {},
   "outputs": [
    {
     "data": {
      "text/plain": [
       "array([[0.93333333, 0.09839619, 0.02931131],\n",
       "       [0.73333333, 0.38621586, 0.08108108],\n",
       "       [0.86666667, 0.15788903, 0.04504505],\n",
       "       [0.53333333, 0.14542696, 0.17517518],\n",
       "       [0.33333333, 0.00216732, 1.        ],\n",
       "       [0.73333333, 0.07022107, 0.07804805],\n",
       "       [0.73333333, 0.12700477, 0.02902903],\n",
       "       [0.4       , 0.07466407, 0.15400801],\n",
       "       [0.53333333, 0.08040746, 0.0990951 ],\n",
       "       [0.93333333, 0.06686173, 0.03143143],\n",
       "       [0.53333333, 0.04952319, 0.10750751],\n",
       "       [0.93333333, 0.00205895, 0.00700701],\n",
       "       [0.73333333, 0.0571088 , 0.05305305],\n",
       "       [0.46666667, 0.21814044, 0.11711712],\n",
       "       [0.86666667, 0.09286953, 0.03958559],\n",
       "       [0.46666667, 0.0701127 , 0.11511512],\n",
       "       [0.86666667, 0.08181621, 0.0480961 ],\n",
       "       [0.8       , 0.00238405, 0.02702703],\n",
       "       [0.8       , 0.01246207, 0.03403403],\n",
       "       [0.6       , 0.05450802, 0.10645646],\n",
       "       [0.93333333, 0.035544  , 0.00327327],\n",
       "       [0.8       , 0.05830082, 0.05545546],\n",
       "       [0.73333333, 0.07097963, 0.08398398],\n",
       "       [0.46666667, 0.24393151, 0.15915916],\n",
       "       [0.66666667, 0.06046814, 0.01861862],\n",
       "       [0.8       , 0.05830082, 0.00799199],\n",
       "       [0.8       , 0.38621586, 0.09309309],\n",
       "       [0.8       , 0.15680537, 0.08615616],\n",
       "       [0.2       , 0.25368444, 0.28328328],\n",
       "       [0.8       , 0.07780668, 0.08708709],\n",
       "       [0.53333333, 0.13177287, 0.08908909],\n",
       "       [0.6       , 0.04453836, 0.04646446],\n",
       "       [0.66666667, 0.00205895, 0.06306306],\n",
       "       [0.86666667, 0.08214131, 0.05619419],\n",
       "       [0.8       , 0.08983528, 0.06592392],\n",
       "       [0.86666667, 0.01170351, 0.06906907],\n",
       "       [0.66666667, 0.05830082, 0.10510511],\n",
       "       [0.6       , 0.0256827 , 0.0990991 ],\n",
       "       [0.93333333, 0.00682705, 0.00600601],\n",
       "       [0.8       , 0.05938448, 0.07912513],\n",
       "       [0.86666667, 0.01278717, 0.03503504],\n",
       "       [0.93333333, 0.08430863, 0.00587588],\n",
       "       [0.86666667, 0.27167317, 0.05705706],\n",
       "       [0.93333333, 0.1319896 , 0.01701702],\n",
       "       [0.8       , 0.32824014, 0.07907908],\n",
       "       [0.66666667, 0.01246207, 0.09209209],\n",
       "       [0.8       , 0.00455137, 0.00900901],\n",
       "       [0.6       , 0.09839619, 0.07127127],\n",
       "       [0.93333333, 0.05840919, 0.0038038 ],\n",
       "       [0.93333333, 0.19852622, 0.01641642],\n",
       "       [0.66666667, 0.00281751, 0.05905906],\n",
       "       [0.86666667, 0.14390984, 0.06056657],\n",
       "       [0.8       , 0.0745557 , 0.09663063],\n",
       "       [0.8       , 0.06046814, 0.11911912],\n",
       "       [0.86666667, 0.09839619, 0.03790591],\n",
       "       [0.66666667, 0.00162549, 0.04104104],\n",
       "       [0.86666667, 0.04453836, 0.02272072],\n",
       "       [0.6       , 0.00552666, 0.01001001],\n",
       "       [0.8       , 0.09839619, 0.07107107],\n",
       "       [0.86666667, 0.00671868, 0.04704705],\n",
       "       [0.8       , 0.06263546, 0.06191592],\n",
       "       [0.93333333, 0.00682705, 0.0016016 ],\n",
       "       [0.86666667, 0.01018639, 0.01041041],\n",
       "       [0.86666667, 0.00563502, 0.04904905],\n",
       "       [0.4       , 0.19820113, 0.12312312],\n",
       "       [0.86666667, 0.04453836, 0.02902903],\n",
       "       [0.6       , 0.00726051, 0.02802803],\n",
       "       [0.93333333, 0.00216732, 0.02902903],\n",
       "       [0.93333333, 0.00596012, 0.02102102],\n",
       "       [0.6       , 0.0701127 , 0.06906907],\n",
       "       [0.53333333, 0.00548331, 0.01101101],\n",
       "       [0.6       , 0.09839619, 0.11911912],\n",
       "       [0.33333333, 0.00506068, 0.0990991 ],\n",
       "       [0.73333333, 0.07022107, 0.0651031 ],\n",
       "       [0.93333333, 0.09839619, 0.02903103],\n",
       "       [0.8       , 0.08008236, 0.05079079],\n",
       "       [0.73333333, 0.08387516, 0.08908909],\n",
       "       [0.8       , 0.07531426, 0.08014815],\n",
       "       [0.8       , 0.00249241, 0.01241241],\n",
       "       [0.6       , 0.00530993, 0.03703704],\n",
       "       [0.46666667, 1.        , 0.15515516],\n",
       "       [0.6       , 0.32824014, 0.20862262],\n",
       "       [0.8       , 0.08008236, 0.05105105],\n",
       "       [0.8       , 0.08159948, 0.07907908],\n",
       "       [0.93333333, 0.09081058, 0.04144144],\n",
       "       [0.53333333, 0.08333333, 0.0990991 ],\n",
       "       [0.8       , 0.05830082, 0.0484044 ],\n",
       "       [0.73333333, 0.08387516, 0.09065065],\n",
       "       [0.86666667, 0.07889033, 0.03303303],\n",
       "       [0.8       , 0.14390984, 0.07972773],\n",
       "       [0.8       , 0.06046814, 0.02795796],\n",
       "       [0.6       , 0.01549632, 0.02202202],\n",
       "       [0.73333333, 0.14824447, 0.12512513],\n",
       "       [0.8       , 0.15680537, 0.02482482],\n",
       "       [0.73333333, 0.07769831, 0.07707708],\n",
       "       [0.73333333, 0.17089293, 0.1155996 ],\n",
       "       [0.8       , 0.10901604, 0.1011011 ],\n",
       "       [0.2       , 0.00465973, 0.18364965],\n",
       "       [0.13333333, 0.1449935 , 0.14914915],\n",
       "       [0.6       , 0.04638058, 0.07062062],\n",
       "       [0.93333333, 0.27167317, 0.02902903],\n",
       "       [0.66666667, 0.01278717, 0.02902903],\n",
       "       [0.8       , 0.01246207, 0.03303303],\n",
       "       [0.93333333, 0.01625488, 0.0018018 ],\n",
       "       [0.53333333, 0.00270915, 0.06906907],\n",
       "       [0.86666667, 0.11345904, 0.08508509],\n",
       "       [0.8       , 0.09839619, 0.12188388],\n",
       "       [0.73333333, 0.0697876 , 0.14114114],\n",
       "       [0.6       , 0.00205895, 0.11911912],\n",
       "       [0.8       , 0.00682705, 0.03223223],\n",
       "       [0.86666667, 0.14390984, 0.04438639],\n",
       "       [0.86666667, 0.00249241, 0.001001  ],\n",
       "       [0.46666667, 0.00216732, 0.04304304],\n",
       "       [0.86666667, 0.14390984, 0.07093894],\n",
       "       [0.53333333, 0.00791071, 0.05905906],\n",
       "       [0.8       , 0.10901604, 0.08908909],\n",
       "       [0.73333333, 0.03391851, 0.03203203],\n",
       "       [0.73333333, 0.00606849, 0.01501502],\n",
       "       [0.8       , 0.10489814, 0.03669269],\n",
       "       [1.        , 0.10305592, 0.00314515],\n",
       "       [0.73333333, 0.10435631, 0.08908909],\n",
       "       [0.8       , 0.14390984, 0.06706707],\n",
       "       [0.73333333, 0.0225401 , 0.01301301],\n",
       "       [0.6       , 0.00726051, 0.02502503],\n",
       "       [0.6       , 0.0701127 , 0.10336737],\n",
       "       [0.66666667, 0.00357607, 0.04704705],\n",
       "       [0.93333333, 0.10327265, 0.01281281],\n",
       "       [0.46666667, 0.10381448, 0.07507508],\n",
       "       [0.33333333, 0.00281751, 0.0028028 ],\n",
       "       [0.86666667, 0.12440399, 0.01703704],\n",
       "       [0.53333333, 0.00506068, 0.14914915],\n",
       "       [0.86666667, 0.01278717, 0.01641642],\n",
       "       [0.93333333, 0.04453836, 0.07605205],\n",
       "       [0.66666667, 0.00953619, 0.06306306],\n",
       "       [0.8       , 0.14239272, 0.07507508],\n",
       "       [0.86666667, 0.0875596 , 0.00700701],\n",
       "       [0.66666667, 0.01246207, 0.06506507],\n",
       "       [0.66666667, 0.04952319, 0.12819219],\n",
       "       [0.73333333, 0.0396619 , 0.0925045 ],\n",
       "       [0.73333333, 0.00506068, 0.02902903],\n",
       "       [0.86666667, 0.00173385, 0.0990991 ],\n",
       "       [0.86666667, 0.0171218 , 0.00500501],\n",
       "       [0.73333333, 0.00530993, 0.08308308],\n",
       "       [0.26666667, 0.00281751, 0.10510511],\n",
       "       [0.86666667, 0.03727785, 0.01917718],\n",
       "       [0.8       , 0.10424794, 0.02902903],\n",
       "       [0.86666667, 0.00682705, 0.        ],\n",
       "       [0.8       , 0.14390984, 0.04864865],\n",
       "       [0.86666667, 0.08864326, 0.02914715],\n",
       "       [0.93333333, 0.24739922, 0.02102102],\n",
       "       [0.66666667, 0.10381448, 0.11251451],\n",
       "       [0.4       , 0.10489814, 0.13826226],\n",
       "       [0.6       , 0.09839619, 0.06370771],\n",
       "       [0.4       , 0.11573472, 0.17504304],\n",
       "       [0.93333333, 0.00596012, 0.00500501],\n",
       "       [0.06666667, 0.13036411, 0.26957758],\n",
       "       [0.66666667, 0.00270915, 0.03503504],\n",
       "       [0.33333333, 0.00465973, 0.05105105],\n",
       "       [0.66666667, 0.15561335, 0.14314314],\n",
       "       [0.73333333, 0.00346771, 0.02642643],\n",
       "       [0.73333333, 0.09330299, 0.16516517],\n",
       "       [0.93333333, 0.01387083, 0.0014014 ],\n",
       "       [0.8       , 0.00563502, 0.04504505],\n",
       "       [0.86666667, 0.01582141, 0.01101101],\n",
       "       [0.66666667, 0.09839619, 0.08908909],\n",
       "       [0.93333333, 0.01582141, 0.00700701],\n",
       "       [0.8       , 0.14390984, 0.13513514],\n",
       "       [0.86666667, 0.0612267 , 0.01021021],\n",
       "       [0.2       , 0.04150412, 0.12912913],\n",
       "       [0.86666667, 0.12223667, 0.06704304],\n",
       "       [0.66666667, 0.32824014, 0.26926927],\n",
       "       [0.66666667, 0.00506068, 0.03103103],\n",
       "       [0.66666667, 0.0171218 , 0.00980981],\n",
       "       [0.53333333, 0.04453836, 0.11311311],\n",
       "       [0.8       , 0.00433463, 0.07627628],\n",
       "       [0.73333333, 0.00726051, 0.04904905],\n",
       "       [0.4       , 0.01549632, 0.07907908],\n",
       "       [0.86666667, 0.14390984, 0.0575035 ],\n",
       "       [0.66666667, 0.06014304, 0.10938539],\n",
       "       [0.86666667, 0.0393368 , 0.04904905],\n",
       "       [0.13333333, 0.14239272, 0.39374575],\n",
       "       [0.66666667, 0.0701127 , 0.06306306],\n",
       "       [0.86666667, 0.07889033, 0.01301301],\n",
       "       [0.6       , 0.19820113, 0.14314314],\n",
       "       [0.46666667, 0.00791071, 0.42542543],\n",
       "       [0.86666667, 0.00249241, 0.06106106],\n",
       "       [0.73333333, 0.06588643, 0.03703704],\n",
       "       [0.73333333, 0.38621586, 0.15515516],\n",
       "       [0.8       , 0.10489814, 0.05425425],\n",
       "       [0.73333333, 0.07238838, 0.07117918],\n",
       "       [0.8       , 0.022215  , 0.04244244],\n",
       "       [0.66666667, 0.09839619, 0.0970971 ],\n",
       "       [0.93333333, 0.05938448, 0.03703704],\n",
       "       [0.66666667, 0.19820113, 0.08908909],\n",
       "       [0.86666667, 0.07997399, 0.03103504],\n",
       "       [0.93333333, 0.00205895, 0.00760761],\n",
       "       [0.53333333, 0.04150412, 0.00940941],\n",
       "       [0.93333333, 0.09720416, 0.07307307],\n",
       "       [0.93333333, 0.00563502, 0.00900901],\n",
       "       [0.93333333, 0.21077156, 0.02902903],\n",
       "       [0.8       , 0.07379714, 0.0708028 ],\n",
       "       [0.86666667, 0.22312527, 0.02302302],\n",
       "       [0.6       , 0.14542696, 0.11111111],\n",
       "       [0.86666667, 0.00520156, 0.03903904],\n",
       "       [0.73333333, 0.00953619, 0.04604605],\n",
       "       [0.93333333, 0.01246207, 0.02102102],\n",
       "       [0.8       , 0.0171218 , 0.02702703],\n",
       "       [0.8       , 0.14390984, 0.0426026 ],\n",
       "       [0.86666667, 0.11345904, 0.08508509],\n",
       "       [0.4       , 0.15951452, 0.13913914],\n",
       "       [0.93333333, 0.00238405, 0.01621622],\n",
       "       [0.66666667, 0.04638058, 0.05905906],\n",
       "       [0.13333333, 0.00270915, 0.10910911],\n",
       "       [0.6       , 0.09839619, 0.07107107],\n",
       "       [0.73333333, 0.10381448, 0.0950951 ],\n",
       "       [0.8       , 0.0704378 , 0.06191592],\n",
       "       [0.8       , 0.        , 0.06906907],\n",
       "       [0.8       , 0.07022107, 0.07107107],\n",
       "       [0.6       , 0.00270915, 0.04904905],\n",
       "       [0.73333333, 0.07022107, 0.03203203],\n",
       "       [0.86666667, 0.06046814, 0.00993794],\n",
       "       [0.86666667, 0.14390984, 0.02098098],\n",
       "       [0.86666667, 0.05830082, 0.00599199],\n",
       "       [0.13333333, 0.10717382, 0.17917918],\n",
       "       [0.66666667, 0.004443  , 0.02302302],\n",
       "       [0.66666667, 0.04432163, 0.11287087],\n",
       "       [0.2       , 0.07889033, 0.10001201],\n",
       "       [0.8       , 0.08452536, 0.03662863],\n",
       "       [0.86666667, 0.0875596 , 0.02302302],\n",
       "       [0.46666667, 0.00682705, 0.05305305],\n",
       "       [0.86666667, 0.00238405, 0.02702703],\n",
       "       [0.46666667, 0.0393368 , 0.08817217],\n",
       "       [0.66666667, 0.19820113, 0.07908108],\n",
       "       [0.        , 0.02123971, 0.25325325],\n",
       "       [0.86666667, 0.0092111 , 0.01101101],\n",
       "       [0.73333333, 0.07889033, 0.15441842],\n",
       "       [0.8       , 0.11345904, 0.08243844],\n",
       "       [0.46666667, 0.00205895, 0.06506507],\n",
       "       [0.66666667, 0.09839619, 0.07146747],\n",
       "       [0.46666667, 0.19744257, 0.0990991 ]])"
      ]
     },
     "execution_count": 55,
     "metadata": {},
     "output_type": "execute_result"
    }
   ],
   "source": [
    "x_train_mmc"
   ]
  },
  {
   "cell_type": "code",
   "execution_count": 57,
   "id": "d1a4ec5a-f156-4041-9218-899d68c71efa",
   "metadata": {},
   "outputs": [],
   "source": [
    "x_train_mmc = pd.DataFrame(x_train_mmc, \n",
    "                    columns = [\"Year\",'Present_Price','Kms_Driven'])\n",
    "x_test_mmc =  pd.DataFrame(x_test_mmc,\n",
    "                    columns = [\"Year\",'Present_Price','Kms_Driven'])\n"
   ]
  },
  {
   "cell_type": "code",
   "execution_count": 58,
   "id": "27ba3a49-46d0-48be-84bd-9d8d3c40b22a",
   "metadata": {},
   "outputs": [
    {
     "data": {
      "text/html": [
       "<div>\n",
       "<style scoped>\n",
       "    .dataframe tbody tr th:only-of-type {\n",
       "        vertical-align: middle;\n",
       "    }\n",
       "\n",
       "    .dataframe tbody tr th {\n",
       "        vertical-align: top;\n",
       "    }\n",
       "\n",
       "    .dataframe thead th {\n",
       "        text-align: right;\n",
       "    }\n",
       "</style>\n",
       "<table border=\"1\" class=\"dataframe\">\n",
       "  <thead>\n",
       "    <tr style=\"text-align: right;\">\n",
       "      <th></th>\n",
       "      <th>Year</th>\n",
       "      <th>Present_Price</th>\n",
       "      <th>Kms_Driven</th>\n",
       "    </tr>\n",
       "  </thead>\n",
       "  <tbody>\n",
       "    <tr>\n",
       "      <th>count</th>\n",
       "      <td>240.00</td>\n",
       "      <td>240.00</td>\n",
       "      <td>240.00</td>\n",
       "    </tr>\n",
       "    <tr>\n",
       "      <th>mean</th>\n",
       "      <td>0.71</td>\n",
       "      <td>0.08</td>\n",
       "      <td>0.07</td>\n",
       "    </tr>\n",
       "    <tr>\n",
       "      <th>std</th>\n",
       "      <td>0.19</td>\n",
       "      <td>0.10</td>\n",
       "      <td>0.08</td>\n",
       "    </tr>\n",
       "    <tr>\n",
       "      <th>min</th>\n",
       "      <td>0.00</td>\n",
       "      <td>0.00</td>\n",
       "      <td>0.00</td>\n",
       "    </tr>\n",
       "    <tr>\n",
       "      <th>25%</th>\n",
       "      <td>0.60</td>\n",
       "      <td>0.01</td>\n",
       "      <td>0.03</td>\n",
       "    </tr>\n",
       "    <tr>\n",
       "      <th>50%</th>\n",
       "      <td>0.80</td>\n",
       "      <td>0.07</td>\n",
       "      <td>0.06</td>\n",
       "    </tr>\n",
       "    <tr>\n",
       "      <th>75%</th>\n",
       "      <td>0.87</td>\n",
       "      <td>0.10</td>\n",
       "      <td>0.09</td>\n",
       "    </tr>\n",
       "    <tr>\n",
       "      <th>max</th>\n",
       "      <td>1.00</td>\n",
       "      <td>1.00</td>\n",
       "      <td>1.00</td>\n",
       "    </tr>\n",
       "  </tbody>\n",
       "</table>\n",
       "</div>"
      ],
      "text/plain": [
       "         Year  Present_Price  Kms_Driven\n",
       "count  240.00         240.00      240.00\n",
       "mean     0.71           0.08        0.07\n",
       "std      0.19           0.10        0.08\n",
       "min      0.00           0.00        0.00\n",
       "25%      0.60           0.01        0.03\n",
       "50%      0.80           0.07        0.06\n",
       "75%      0.87           0.10        0.09\n",
       "max      1.00           1.00        1.00"
      ]
     },
     "execution_count": 58,
     "metadata": {},
     "output_type": "execute_result"
    }
   ],
   "source": [
    "x_train_mmc.describe().round(2)\n"
   ]
  },
  {
   "cell_type": "code",
   "execution_count": 59,
   "id": "2d93c13f-e1f2-4be6-8b13-1adfe85d576b",
   "metadata": {},
   "outputs": [
    {
     "name": "stderr",
     "output_type": "stream",
     "text": [
      "C:\\Users\\monal\\anaconda3\\Lib\\site-packages\\seaborn\\_oldcore.py:1119: FutureWarning: use_inf_as_na option is deprecated and will be removed in a future version. Convert inf values to NaN before operating instead.\n",
      "  with pd.option_context('mode.use_inf_as_na', True):\n",
      "C:\\Users\\monal\\anaconda3\\Lib\\site-packages\\seaborn\\_oldcore.py:1119: FutureWarning: use_inf_as_na option is deprecated and will be removed in a future version. Convert inf values to NaN before operating instead.\n",
      "  with pd.option_context('mode.use_inf_as_na', True):\n",
      "C:\\Users\\monal\\anaconda3\\Lib\\site-packages\\seaborn\\_oldcore.py:1119: FutureWarning: use_inf_as_na option is deprecated and will be removed in a future version. Convert inf values to NaN before operating instead.\n",
      "  with pd.option_context('mode.use_inf_as_na', True):\n"
     ]
    },
    {
     "data": {
      "text/plain": [
       "<seaborn.axisgrid.PairGrid at 0x220256bdd50>"
      ]
     },
     "execution_count": 59,
     "metadata": {},
     "output_type": "execute_result"
    },
    {
     "data": {
      "image/png": "[encoded data removed]",
      "text/plain": [
       "<Figure size 750x750 with 12 Axes>"
      ]
     },
     "metadata": {},
     "output_type": "display_data"
    }
   ],
   "source": [
    "sns.pairplot(x_train)\n"
   ]
  },
  {
   "cell_type": "code",
   "execution_count": 60,
   "id": "9bdbc7d2-852f-44fb-8f44-95b48aa18fec",
   "metadata": {},
   "outputs": [
    {
     "name": "stderr",
     "output_type": "stream",
     "text": [
      "C:\\Users\\monal\\anaconda3\\Lib\\site-packages\\seaborn\\_oldcore.py:1119: FutureWarning: use_inf_as_na option is deprecated and will be removed in a future version. Convert inf values to NaN before operating instead.\n",
      "  with pd.option_context('mode.use_inf_as_na', True):\n",
      "C:\\Users\\monal\\anaconda3\\Lib\\site-packages\\seaborn\\_oldcore.py:1119: FutureWarning: use_inf_as_na option is deprecated and will be removed in a future version. Convert inf values to NaN before operating instead.\n",
      "  with pd.option_context('mode.use_inf_as_na', True):\n",
      "C:\\Users\\monal\\anaconda3\\Lib\\site-packages\\seaborn\\_oldcore.py:1119: FutureWarning: use_inf_as_na option is deprecated and will be removed in a future version. Convert inf values to NaN before operating instead.\n",
      "  with pd.option_context('mode.use_inf_as_na', True):\n"
     ]
    },
    {
     "data": {
      "text/plain": [
       "<seaborn.axisgrid.PairGrid at 0x22025cb30d0>"
      ]
     },
     "execution_count": 60,
     "metadata": {},
     "output_type": "execute_result"
    },
    {
     "data": {
      "image/png": "[encoded data removed]",
      "text/plain": [
       "<Figure size 750x750 with 12 Axes>"
      ]
     },
     "metadata": {},
     "output_type": "display_data"
    }
   ],
   "source": [
    "sns.pairplot(x_train_sc)\n"
   ]
  },
  {
   "cell_type": "code",
   "execution_count": 62,
   "id": "bf8f8f92-cd09-4934-9804-3e7a4597d679",
   "metadata": {},
   "outputs": [
    {
     "name": "stderr",
     "output_type": "stream",
     "text": [
      "C:\\Users\\monal\\anaconda3\\Lib\\site-packages\\seaborn\\_oldcore.py:1119: FutureWarning: use_inf_as_na option is deprecated and will be removed in a future version. Convert inf values to NaN before operating instead.\n",
      "  with pd.option_context('mode.use_inf_as_na', True):\n",
      "C:\\Users\\monal\\anaconda3\\Lib\\site-packages\\seaborn\\_oldcore.py:1119: FutureWarning: use_inf_as_na option is deprecated and will be removed in a future version. Convert inf values to NaN before operating instead.\n",
      "  with pd.option_context('mode.use_inf_as_na', True):\n",
      "C:\\Users\\monal\\anaconda3\\Lib\\site-packages\\seaborn\\_oldcore.py:1119: FutureWarning: use_inf_as_na option is deprecated and will be removed in a future version. Convert inf values to NaN before operating instead.\n",
      "  with pd.option_context('mode.use_inf_as_na', True):\n"
     ]
    },
    {
     "data": {
      "text/plain": [
       "<seaborn.axisgrid.PairGrid at 0x2202569e450>"
      ]
     },
     "execution_count": 62,
     "metadata": {},
     "output_type": "execute_result"
    },
    {
     "data": {
      "image/png": "[encoded data removed]",
      "text/plain": [
       "<Figure size 750x750 with 12 Axes>"
      ]
     },
     "metadata": {},
     "output_type": "display_data"
    }
   ],
   "source": [
    "sns.pairplot(x_train_mmc)\n"
   ]
  },
  {
   "cell_type": "markdown",
   "id": "c2654a6e-2594-4234-bc27-b9955738ed95",
   "metadata": {},
   "source": [
    "# Simple Linear Regression"
   ]
  },
  {
   "cell_type": "code",
   "execution_count": 63,
   "id": "f17dfe0d-41ba-4690-8ab1-044ed257097d",
   "metadata": {},
   "outputs": [
    {
     "data": {
      "text/html": [
       "<div>\n",
       "<style scoped>\n",
       "    .dataframe tbody tr th:only-of-type {\n",
       "        vertical-align: middle;\n",
       "    }\n",
       "\n",
       "    .dataframe tbody tr th {\n",
       "        vertical-align: top;\n",
       "    }\n",
       "\n",
       "    .dataframe thead th {\n",
       "        text-align: right;\n",
       "    }\n",
       "</style>\n",
       "<table border=\"1\" class=\"dataframe\">\n",
       "  <thead>\n",
       "    <tr style=\"text-align: right;\">\n",
       "      <th></th>\n",
       "      <th>Selling_Price</th>\n",
       "      <th>Present_Price</th>\n",
       "    </tr>\n",
       "  </thead>\n",
       "  <tbody>\n",
       "    <tr>\n",
       "      <th>0</th>\n",
       "      <td>3.35</td>\n",
       "      <td>5.59</td>\n",
       "    </tr>\n",
       "    <tr>\n",
       "      <th>1</th>\n",
       "      <td>4.75</td>\n",
       "      <td>9.54</td>\n",
       "    </tr>\n",
       "  </tbody>\n",
       "</table>\n",
       "</div>"
      ],
      "text/plain": [
       "   Selling_Price  Present_Price\n",
       "0           3.35           5.59\n",
       "1           4.75           9.54"
      ]
     },
     "execution_count": 63,
     "metadata": {},
     "output_type": "execute_result"
    }
   ],
   "source": [
    "df3=df[['Selling_Price','Present_Price']]\n",
    "df3.head(2)"
   ]
  },
  {
   "cell_type": "code",
   "execution_count": 70,
   "id": "1a70098d-2bdd-4571-90af-9a56054ab201",
   "metadata": {},
   "outputs": [],
   "source": [
    "x= df3.iloc[:, :-1].values  #we have taken -1 value since we want to remove the last column from the dataset\n",
    "y= df3.iloc[:, 1].values \n",
    "#we have taken 1 value as a parameter, since we want to extract the second column and indexing starts from the zero  "
   ]
  },
  {
   "cell_type": "code",
   "execution_count": 71,
   "id": "a78c4a4c-cc27-4c09-a8a8-520527bd5411",
   "metadata": {},
   "outputs": [],
   "source": [
    "# Splitting the dataset into training and test set. \n",
    "from sklearn.model_selection import train_test_split\n",
    "X_train,X_test,y_train,y_test=train_test_split(X,y,test_size=1/3,random_state=0)"
   ]
  },
  {
   "cell_type": "code",
   "execution_count": 72,
   "id": "143da641-38c0-467e-bc30-b3a13be8cd08",
   "metadata": {},
   "outputs": [
    {
     "data": {
      "text/plain": [
       "(200, 1)"
      ]
     },
     "execution_count": 72,
     "metadata": {},
     "output_type": "execute_result"
    }
   ],
   "source": [
    "X_train.shape\n",
    "\n"
   ]
  },
  {
   "cell_type": "code",
   "execution_count": 73,
   "id": "ce403c7e-c73f-4d17-be2f-4865d83e7e1b",
   "metadata": {},
   "outputs": [
    {
     "data": {
      "text/plain": [
       "(101, 1)"
      ]
     },
     "execution_count": 73,
     "metadata": {},
     "output_type": "execute_result"
    }
   ],
   "source": [
    "X_test.shape\n"
   ]
  },
  {
   "cell_type": "code",
   "execution_count": 74,
   "id": "e7727679-a54f-4d25-aea6-01680b03139b",
   "metadata": {},
   "outputs": [
    {
     "data": {
      "text/plain": [
       "(200,)"
      ]
     },
     "execution_count": 74,
     "metadata": {},
     "output_type": "execute_result"
    }
   ],
   "source": [
    "y_train.shape\n"
   ]
  },
  {
   "cell_type": "code",
   "execution_count": 75,
   "id": "d3200bb3-8b47-41f9-8ab2-659d776a6b48",
   "metadata": {},
   "outputs": [
    {
     "data": {
      "text/plain": [
       "(101,)"
      ]
     },
     "execution_count": 75,
     "metadata": {},
     "output_type": "execute_result"
    }
   ],
   "source": [
    "y_test.shape\n"
   ]
  },
  {
   "cell_type": "code",
   "execution_count": 76,
   "id": "27df9906-0cf4-4ddb-9c20-e78d70ccde1c",
   "metadata": {},
   "outputs": [
    {
     "data": {
      "text/html": [
       "<style>#sk-container-id-4 {color: black;background-color: white;}#sk-container-id-4 pre{padding: 0;}#sk-container-id-4 div.sk-toggleable {background-color: white;}#sk-container-id-4 label.sk-toggleable__label {cursor: pointer;display: block;width: 100%;margin-bottom: 0;padding: 0.3em;box-sizing: border-box;text-align: center;}#sk-container-id-4 label.sk-toggleable__label-arrow:before {content: \"▸\";float: left;margin-right: 0.25em;color: #696969;}#sk-container-id-4 label.sk-toggleable__label-arrow:hover:before {color: black;}#sk-container-id-4 div.sk-estimator:hover label.sk-toggleable__label-arrow:before {color: black;}#sk-container-id-4 div.sk-toggleable__content {max-height: 0;max-width: 0;overflow: hidden;text-align: left;background-color: #f0f8ff;}#sk-container-id-4 div.sk-toggleable__content pre {margin: 0.2em;color: black;border-radius: 0.25em;background-color: #f0f8ff;}#sk-container-id-4 input.sk-toggleable__control:checked~div.sk-toggleable__content {max-height: 200px;max-width: 100%;overflow: auto;}#sk-container-id-4 input.sk-toggleable__control:checked~label.sk-toggleable__label-arrow:before {content: \"▾\";}#sk-container-id-4 div.sk-estimator input.sk-toggleable__control:checked~label.sk-toggleable__label {background-color: #d4ebff;}#sk-container-id-4 div.sk-label input.sk-toggleable__control:checked~label.sk-toggleable__label {background-color: #d4ebff;}#sk-container-id-4 input.sk-hidden--visually {border: 0;clip: rect(1px 1px 1px 1px);clip: rect(1px, 1px, 1px, 1px);height: 1px;margin: -1px;overflow: hidden;padding: 0;position: absolute;width: 1px;}#sk-container-id-4 div.sk-estimator {font-family: monospace;background-color: #f0f8ff;border: 1px dotted black;border-radius: 0.25em;box-sizing: border-box;margin-bottom: 0.5em;}#sk-container-id-4 div.sk-estimator:hover {background-color: #d4ebff;}#sk-container-id-4 div.sk-parallel-item::after {content: \"\";width: 100%;border-bottom: 1px solid gray;flex-grow: 1;}#sk-container-id-4 div.sk-label:hover label.sk-toggleable__label {background-color: #d4ebff;}#sk-container-id-4 div.sk-serial::before {content: \"\";position: absolute;border-left: 1px solid gray;box-sizing: border-box;top: 0;bottom: 0;left: 50%;z-index: 0;}#sk-container-id-4 div.sk-serial {display: flex;flex-direction: column;align-items: center;background-color: white;padding-right: 0.2em;padding-left: 0.2em;position: relative;}#sk-container-id-4 div.sk-item {position: relative;z-index: 1;}#sk-container-id-4 div.sk-parallel {display: flex;align-items: stretch;justify-content: center;background-color: white;position: relative;}#sk-container-id-4 div.sk-item::before, #sk-container-id-4 div.sk-parallel-item::before {content: \"\";position: absolute;border-left: 1px solid gray;box-sizing: border-box;top: 0;bottom: 0;left: 50%;z-index: -1;}#sk-container-id-4 div.sk-parallel-item {display: flex;flex-direction: column;z-index: 1;position: relative;background-color: white;}#sk-container-id-4 div.sk-parallel-item:first-child::after {align-self: flex-end;width: 50%;}#sk-container-id-4 div.sk-parallel-item:last-child::after {align-self: flex-start;width: 50%;}#sk-container-id-4 div.sk-parallel-item:only-child::after {width: 0;}#sk-container-id-4 div.sk-dashed-wrapped {border: 1px dashed gray;margin: 0 0.4em 0.5em 0.4em;box-sizing: border-box;padding-bottom: 0.4em;background-color: white;}#sk-container-id-4 div.sk-label label {font-family: monospace;font-weight: bold;display: inline-block;line-height: 1.2em;}#sk-container-id-4 div.sk-label-container {text-align: center;}#sk-container-id-4 div.sk-container {/* jupyter's `normalize.less` sets `[hidden] { display: none; }` but bootstrap.min.css set `[hidden] { display: none !important; }` so we also need the `!important` here to be able to override the default hidden behavior on the sphinx rendered scikit-learn.org. See: https://github.com/scikit-learn/scikit-learn/issues/21755 */display: inline-block !important;position: relative;}#sk-container-id-4 div.sk-text-repr-fallback {display: none;}</style><div id=\"sk-container-id-4\" class=\"sk-top-container\"><div class=\"sk-text-repr-fallback\"><pre>LinearRegression()</pre><b>In a Jupyter environment, please rerun this cell to show the HTML representation or trust the notebook. <br />On GitHub, the HTML representation is unable to render, please try loading this page with nbviewer.org.</b></div><div class=\"sk-container\" hidden><div class=\"sk-item\"><div class=\"sk-estimator sk-toggleable\"><input class=\"sk-toggleable__control sk-hidden--visually\" id=\"sk-estimator-id-4\" type=\"checkbox\" checked><label for=\"sk-estimator-id-4\" class=\"sk-toggleable__label sk-toggleable__label-arrow\">LinearRegression</label><div class=\"sk-toggleable__content\"><pre>LinearRegression()</pre></div></div></div></div></div>"
      ],
      "text/plain": [
       "LinearRegression()"
      ]
     },
     "execution_count": 76,
     "metadata": {},
     "output_type": "execute_result"
    }
   ],
   "source": [
    "#Fitting the Simple Linear Regression model to the training dataset\n",
    "\n",
    "from sklearn.linear_model import LinearRegression  \n",
    "lr= LinearRegression() \n",
    "lr.fit(X_train, y_train)  "
   ]
  },
  {
   "cell_type": "code",
   "execution_count": 77,
   "id": "c3b1966a-15ba-4f78-99a4-867ab272f9d6",
   "metadata": {},
   "outputs": [],
   "source": [
    "y_pred= lr.predict(X_test) \n",
    "\n",
    "X_pred= lr.predict(X_train)  "
   ]
  },
  {
   "cell_type": "markdown",
   "id": "49378ef7-ee6e-4d38-a2c3-863e24fdab92",
   "metadata": {},
   "source": [
    "# Linear Regression formula ==== y=mx+b\n"
   ]
  },
  {
   "cell_type": "code",
   "execution_count": 78,
   "id": "ec806bdb-1a38-4dcf-a80d-f235857c1e13",
   "metadata": {},
   "outputs": [
    {
     "data": {
      "text/plain": [
       "array([1.66066823])"
      ]
     },
     "execution_count": 78,
     "metadata": {},
     "output_type": "execute_result"
    }
   ],
   "source": [
    "m=lr.coef_\n",
    "m"
   ]
  },
  {
   "cell_type": "code",
   "execution_count": 79,
   "id": "17859d51-5932-41ea-9d26-099ee5a70493",
   "metadata": {},
   "outputs": [
    {
     "data": {
      "text/plain": [
       "0.21218714437381792"
      ]
     },
     "execution_count": 79,
     "metadata": {},
     "output_type": "execute_result"
    }
   ],
   "source": [
    "b=lr.intercept_\n",
    "b"
   ]
  },
  {
   "cell_type": "markdown",
   "id": "a45db724-b005-4ab7-b9e5-c2a4cb7b4379",
   "metadata": {},
   "source": [
    "using formula y=mx+b we can predit salary for the particular year of experience"
   ]
  },
  {
   "cell_type": "code",
   "execution_count": 80,
   "id": "5df0f1f0-f1de-45f1-8f8c-5a7bc1256e5a",
   "metadata": {},
   "outputs": [
    {
     "data": {
      "text/plain": [
       "array([2.70318949])"
      ]
     },
     "execution_count": 80,
     "metadata": {},
     "output_type": "execute_result"
    }
   ],
   "source": [
    "# y = mx + b\n",
    "\n",
    "y1=m * 1.5 + b  \n",
    "y1"
   ]
  },
  {
   "cell_type": "markdown",
   "id": "1720536a-34b2-4bb4-a52b-904299ca4de1",
   "metadata": {},
   "source": [
    "# Calculate Score of Model"
   ]
  },
  {
   "cell_type": "code",
   "execution_count": 81,
   "id": "86c976e9-2b61-481e-82d9-9ba2dbc64326",
   "metadata": {},
   "outputs": [
    {
     "data": {
      "text/plain": [
       "0.7098879061058492"
      ]
     },
     "execution_count": 81,
     "metadata": {},
     "output_type": "execute_result"
    }
   ],
   "source": [
    "lr.score(X_test, y_test)\n"
   ]
  },
  {
   "cell_type": "code",
   "execution_count": 82,
   "id": "16bb1871-d5cc-4bee-8741-2bb5d1d01e8f",
   "metadata": {},
   "outputs": [
    {
     "data": {
      "text/plain": [
       "array([[ 8.25],\n",
       "       [ 0.5 ],\n",
       "       [ 5.25],\n",
       "       [ 9.5 ],\n",
       "       [18.  ],\n",
       "       [ 5.5 ],\n",
       "       [ 3.75],\n",
       "       [ 0.45],\n",
       "       [ 4.5 ],\n",
       "       [ 4.5 ],\n",
       "       [ 2.7 ],\n",
       "       [ 0.72],\n",
       "       [ 5.25],\n",
       "       [ 7.5 ],\n",
       "       [ 7.75],\n",
       "       [19.75],\n",
       "       [ 7.4 ],\n",
       "       [ 4.75],\n",
       "       [ 0.35],\n",
       "       [ 1.7 ],\n",
       "       [ 4.4 ],\n",
       "       [ 5.25],\n",
       "       [ 5.11],\n",
       "       [11.25],\n",
       "       [ 0.2 ],\n",
       "       [ 0.78],\n",
       "       [ 0.38],\n",
       "       [ 0.65],\n",
       "       [ 0.5 ],\n",
       "       [ 3.6 ],\n",
       "       [ 3.25],\n",
       "       [ 7.2 ],\n",
       "       [ 0.6 ],\n",
       "       [ 8.75],\n",
       "       [ 3.  ],\n",
       "       [ 1.15],\n",
       "       [ 6.6 ],\n",
       "       [ 4.75],\n",
       "       [ 0.25],\n",
       "       [ 8.25],\n",
       "       [ 9.25],\n",
       "       [19.99],\n",
       "       [ 5.5 ],\n",
       "       [ 4.75],\n",
       "       [ 5.5 ],\n",
       "       [12.9 ],\n",
       "       [ 0.3 ],\n",
       "       [ 1.05],\n",
       "       [ 5.25],\n",
       "       [ 6.5 ],\n",
       "       [ 7.5 ],\n",
       "       [ 2.9 ],\n",
       "       [ 4.8 ],\n",
       "       [23.5 ],\n",
       "       [ 1.2 ],\n",
       "       [ 1.1 ],\n",
       "       [ 0.65],\n",
       "       [ 2.55],\n",
       "       [ 4.15],\n",
       "       [ 1.35],\n",
       "       [ 3.51],\n",
       "       [ 4.9 ],\n",
       "       [ 2.  ],\n",
       "       [33.  ],\n",
       "       [ 3.75],\n",
       "       [ 5.65],\n",
       "       [ 8.55],\n",
       "       [ 3.8 ],\n",
       "       [ 0.4 ],\n",
       "       [ 2.65],\n",
       "       [ 2.85],\n",
       "       [ 2.65],\n",
       "       [ 0.48],\n",
       "       [ 6.15],\n",
       "       [ 0.31],\n",
       "       [ 6.  ],\n",
       "       [ 0.55],\n",
       "       [ 9.15],\n",
       "       [ 0.35],\n",
       "       [ 2.25],\n",
       "       [ 0.45],\n",
       "       [17.  ],\n",
       "       [ 4.85],\n",
       "       [ 5.75],\n",
       "       [ 6.45],\n",
       "       [ 1.1 ],\n",
       "       [ 5.35],\n",
       "       [ 5.5 ],\n",
       "       [ 0.6 ],\n",
       "       [ 5.3 ],\n",
       "       [ 0.65],\n",
       "       [ 6.  ],\n",
       "       [ 8.99],\n",
       "       [ 1.25],\n",
       "       [ 5.2 ],\n",
       "       [ 0.2 ],\n",
       "       [ 0.5 ],\n",
       "       [ 0.45],\n",
       "       [ 1.45],\n",
       "       [ 2.75],\n",
       "       [ 3.1 ]])"
      ]
     },
     "execution_count": 82,
     "metadata": {},
     "output_type": "execute_result"
    }
   ],
   "source": [
    "X_test"
   ]
  },
  {
   "cell_type": "markdown",
   "id": "2978e95c-6997-421d-92bd-4fe376fc1215",
   "metadata": {},
   "source": [
    "# MULTIPLE LINEAR REGRESSION\n"
   ]
  },
  {
   "cell_type": "code",
   "execution_count": 83,
   "id": "e66c345d-9d52-456e-b7b1-2251d9ed8d3b",
   "metadata": {},
   "outputs": [
    {
     "data": {
      "text/html": [
       "<style>#sk-container-id-5 {color: black;background-color: white;}#sk-container-id-5 pre{padding: 0;}#sk-container-id-5 div.sk-toggleable {background-color: white;}#sk-container-id-5 label.sk-toggleable__label {cursor: pointer;display: block;width: 100%;margin-bottom: 0;padding: 0.3em;box-sizing: border-box;text-align: center;}#sk-container-id-5 label.sk-toggleable__label-arrow:before {content: \"▸\";float: left;margin-right: 0.25em;color: #696969;}#sk-container-id-5 label.sk-toggleable__label-arrow:hover:before {color: black;}#sk-container-id-5 div.sk-estimator:hover label.sk-toggleable__label-arrow:before {color: black;}#sk-container-id-5 div.sk-toggleable__content {max-height: 0;max-width: 0;overflow: hidden;text-align: left;background-color: #f0f8ff;}#sk-container-id-5 div.sk-toggleable__content pre {margin: 0.2em;color: black;border-radius: 0.25em;background-color: #f0f8ff;}#sk-container-id-5 input.sk-toggleable__control:checked~div.sk-toggleable__content {max-height: 200px;max-width: 100%;overflow: auto;}#sk-container-id-5 input.sk-toggleable__control:checked~label.sk-toggleable__label-arrow:before {content: \"▾\";}#sk-container-id-5 div.sk-estimator input.sk-toggleable__control:checked~label.sk-toggleable__label {background-color: #d4ebff;}#sk-container-id-5 div.sk-label input.sk-toggleable__control:checked~label.sk-toggleable__label {background-color: #d4ebff;}#sk-container-id-5 input.sk-hidden--visually {border: 0;clip: rect(1px 1px 1px 1px);clip: rect(1px, 1px, 1px, 1px);height: 1px;margin: -1px;overflow: hidden;padding: 0;position: absolute;width: 1px;}#sk-container-id-5 div.sk-estimator {font-family: monospace;background-color: #f0f8ff;border: 1px dotted black;border-radius: 0.25em;box-sizing: border-box;margin-bottom: 0.5em;}#sk-container-id-5 div.sk-estimator:hover {background-color: #d4ebff;}#sk-container-id-5 div.sk-parallel-item::after {content: \"\";width: 100%;border-bottom: 1px solid gray;flex-grow: 1;}#sk-container-id-5 div.sk-label:hover label.sk-toggleable__label {background-color: #d4ebff;}#sk-container-id-5 div.sk-serial::before {content: \"\";position: absolute;border-left: 1px solid gray;box-sizing: border-box;top: 0;bottom: 0;left: 50%;z-index: 0;}#sk-container-id-5 div.sk-serial {display: flex;flex-direction: column;align-items: center;background-color: white;padding-right: 0.2em;padding-left: 0.2em;position: relative;}#sk-container-id-5 div.sk-item {position: relative;z-index: 1;}#sk-container-id-5 div.sk-parallel {display: flex;align-items: stretch;justify-content: center;background-color: white;position: relative;}#sk-container-id-5 div.sk-item::before, #sk-container-id-5 div.sk-parallel-item::before {content: \"\";position: absolute;border-left: 1px solid gray;box-sizing: border-box;top: 0;bottom: 0;left: 50%;z-index: -1;}#sk-container-id-5 div.sk-parallel-item {display: flex;flex-direction: column;z-index: 1;position: relative;background-color: white;}#sk-container-id-5 div.sk-parallel-item:first-child::after {align-self: flex-end;width: 50%;}#sk-container-id-5 div.sk-parallel-item:last-child::after {align-self: flex-start;width: 50%;}#sk-container-id-5 div.sk-parallel-item:only-child::after {width: 0;}#sk-container-id-5 div.sk-dashed-wrapped {border: 1px dashed gray;margin: 0 0.4em 0.5em 0.4em;box-sizing: border-box;padding-bottom: 0.4em;background-color: white;}#sk-container-id-5 div.sk-label label {font-family: monospace;font-weight: bold;display: inline-block;line-height: 1.2em;}#sk-container-id-5 div.sk-label-container {text-align: center;}#sk-container-id-5 div.sk-container {/* jupyter's `normalize.less` sets `[hidden] { display: none; }` but bootstrap.min.css set `[hidden] { display: none !important; }` so we also need the `!important` here to be able to override the default hidden behavior on the sphinx rendered scikit-learn.org. See: https://github.com/scikit-learn/scikit-learn/issues/21755 */display: inline-block !important;position: relative;}#sk-container-id-5 div.sk-text-repr-fallback {display: none;}</style><div id=\"sk-container-id-5\" class=\"sk-top-container\"><div class=\"sk-text-repr-fallback\"><pre>LinearRegression()</pre><b>In a Jupyter environment, please rerun this cell to show the HTML representation or trust the notebook. <br />On GitHub, the HTML representation is unable to render, please try loading this page with nbviewer.org.</b></div><div class=\"sk-container\" hidden><div class=\"sk-item\"><div class=\"sk-estimator sk-toggleable\"><input class=\"sk-toggleable__control sk-hidden--visually\" id=\"sk-estimator-id-5\" type=\"checkbox\" checked><label for=\"sk-estimator-id-5\" class=\"sk-toggleable__label sk-toggleable__label-arrow\">LinearRegression</label><div class=\"sk-toggleable__content\"><pre>LinearRegression()</pre></div></div></div></div></div>"
      ],
      "text/plain": [
       "LinearRegression()"
      ]
     },
     "execution_count": 83,
     "metadata": {},
     "output_type": "execute_result"
    }
   ],
   "source": [
    "from sklearn.linear_model import LinearRegression\n",
    "lr=LinearRegression()\n",
    "lr.fit(X_train,y_train)"
   ]
  },
  {
   "cell_type": "code",
   "execution_count": 84,
   "id": "1ef33b2a-feb6-4641-a97b-d4e38f5e8217",
   "metadata": {},
   "outputs": [],
   "source": [
    "X_pred= lr.predict(X_train) \n",
    "y_pred= lr.predict(X_test) "
   ]
  },
  {
   "cell_type": "code",
   "execution_count": 85,
   "id": "12d2eb9a-9865-4a91-8950-d685bcb6de31",
   "metadata": {},
   "outputs": [
    {
     "data": {
      "text/plain": [
       "0.7098879061058492"
      ]
     },
     "execution_count": 85,
     "metadata": {},
     "output_type": "execute_result"
    }
   ],
   "source": [
    "lr.score(X_test, y_test)"
   ]
  },
  {
   "cell_type": "code",
   "execution_count": 86,
   "id": "a34dd410-9f84-4512-b338-708acfdef5c2",
   "metadata": {},
   "outputs": [
    {
     "data": {
      "text/plain": [
       "array([1.66066823])"
      ]
     },
     "execution_count": 86,
     "metadata": {},
     "output_type": "execute_result"
    }
   ],
   "source": [
    "# Now first calculate value of m == m will be our slope of regression line\n",
    "m=lr.coef_\n",
    "m"
   ]
  },
  {
   "cell_type": "code",
   "execution_count": 87,
   "id": "6e9735dd-72fe-4caf-9bda-fbd01cae063e",
   "metadata": {},
   "outputs": [
    {
     "data": {
      "text/plain": [
       "0.21218714437381792"
      ]
     },
     "execution_count": 87,
     "metadata": {},
     "output_type": "execute_result"
    }
   ],
   "source": [
    "# Now first calculate value of m == m will be our slope of regression line\n",
    "b=lr.intercept_\n",
    "b"
   ]
  },
  {
   "cell_type": "code",
   "execution_count": 88,
   "id": "163ba5cc-92cc-4c4f-a0b5-e17a2672c46d",
   "metadata": {},
   "outputs": [
    {
     "data": {
      "text/plain": [
       "array([[ 8.25],\n",
       "       [ 0.5 ],\n",
       "       [ 5.25],\n",
       "       [ 9.5 ],\n",
       "       [18.  ],\n",
       "       [ 5.5 ],\n",
       "       [ 3.75],\n",
       "       [ 0.45],\n",
       "       [ 4.5 ],\n",
       "       [ 4.5 ],\n",
       "       [ 2.7 ],\n",
       "       [ 0.72],\n",
       "       [ 5.25],\n",
       "       [ 7.5 ],\n",
       "       [ 7.75],\n",
       "       [19.75],\n",
       "       [ 7.4 ],\n",
       "       [ 4.75],\n",
       "       [ 0.35],\n",
       "       [ 1.7 ],\n",
       "       [ 4.4 ],\n",
       "       [ 5.25],\n",
       "       [ 5.11],\n",
       "       [11.25],\n",
       "       [ 0.2 ],\n",
       "       [ 0.78],\n",
       "       [ 0.38],\n",
       "       [ 0.65],\n",
       "       [ 0.5 ],\n",
       "       [ 3.6 ],\n",
       "       [ 3.25],\n",
       "       [ 7.2 ],\n",
       "       [ 0.6 ],\n",
       "       [ 8.75],\n",
       "       [ 3.  ],\n",
       "       [ 1.15],\n",
       "       [ 6.6 ],\n",
       "       [ 4.75],\n",
       "       [ 0.25],\n",
       "       [ 8.25],\n",
       "       [ 9.25],\n",
       "       [19.99],\n",
       "       [ 5.5 ],\n",
       "       [ 4.75],\n",
       "       [ 5.5 ],\n",
       "       [12.9 ],\n",
       "       [ 0.3 ],\n",
       "       [ 1.05],\n",
       "       [ 5.25],\n",
       "       [ 6.5 ],\n",
       "       [ 7.5 ],\n",
       "       [ 2.9 ],\n",
       "       [ 4.8 ],\n",
       "       [23.5 ],\n",
       "       [ 1.2 ],\n",
       "       [ 1.1 ],\n",
       "       [ 0.65],\n",
       "       [ 2.55],\n",
       "       [ 4.15],\n",
       "       [ 1.35],\n",
       "       [ 3.51],\n",
       "       [ 4.9 ],\n",
       "       [ 2.  ],\n",
       "       [33.  ],\n",
       "       [ 3.75],\n",
       "       [ 5.65],\n",
       "       [ 8.55],\n",
       "       [ 3.8 ],\n",
       "       [ 0.4 ],\n",
       "       [ 2.65],\n",
       "       [ 2.85],\n",
       "       [ 2.65],\n",
       "       [ 0.48],\n",
       "       [ 6.15],\n",
       "       [ 0.31],\n",
       "       [ 6.  ],\n",
       "       [ 0.55],\n",
       "       [ 9.15],\n",
       "       [ 0.35],\n",
       "       [ 2.25],\n",
       "       [ 0.45],\n",
       "       [17.  ],\n",
       "       [ 4.85],\n",
       "       [ 5.75],\n",
       "       [ 6.45],\n",
       "       [ 1.1 ],\n",
       "       [ 5.35],\n",
       "       [ 5.5 ],\n",
       "       [ 0.6 ],\n",
       "       [ 5.3 ],\n",
       "       [ 0.65],\n",
       "       [ 6.  ],\n",
       "       [ 8.99],\n",
       "       [ 1.25],\n",
       "       [ 5.2 ],\n",
       "       [ 0.2 ],\n",
       "       [ 0.5 ],\n",
       "       [ 0.45],\n",
       "       [ 1.45],\n",
       "       [ 2.75],\n",
       "       [ 3.1 ]])"
      ]
     },
     "execution_count": 88,
     "metadata": {},
     "output_type": "execute_result"
    }
   ],
   "source": [
    "X_test"
   ]
  },
  {
   "cell_type": "code",
   "execution_count": null,
   "id": "81205afa-1ac7-4ef1-a4eb-bb5c75089e79",
   "metadata": {},
   "outputs": [],
   "source": [
    "# y = mx + b"
   ]
  },
  {
   "cell_type": "code",
   "execution_count": 89,
   "id": "67e5d807-a474-476d-839e-7181b1872c68",
   "metadata": {},
   "outputs": [
    {
     "data": {
      "text/plain": [
       "array([152768.90226097, 225012.57034496, 419592.8344359 ])"
      ]
     },
     "execution_count": 89,
     "metadata": {},
     "output_type": "execute_result"
    }
   ],
   "source": [
    "y1=m * (91992.3,135495.07,252664.93) + b  \n",
    "y1"
   ]
  },
  {
   "cell_type": "markdown",
   "id": "0cd41a5b-51f5-4e17-8f29-3ef20e660f93",
   "metadata": {},
   "source": [
    "# using polynomial Regression\n"
   ]
  },
  {
   "cell_type": "code",
   "execution_count": 90,
   "id": "3948fc63-36d1-4c20-9e14-bfc4cb1b5595",
   "metadata": {},
   "outputs": [
    {
     "name": "stdout",
     "output_type": "stream",
     "text": [
      "Shape of x  =  (301, 1)\n",
      "Shape of y =  (301,)\n"
     ]
    }
   ],
   "source": [
    "#Extracting Independent and dependent Variable  \n",
    "x= df.iloc[:, 1:2].values  \n",
    "y= df.iloc[:, 2].values  \n",
    "print('Shape of x  = ', x.shape)\n",
    "print('Shape of y = ', y.shape)\n",
    "# in this example we not consider the \"Position\" column\n"
   ]
  },
  {
   "cell_type": "code",
   "execution_count": 92,
   "id": "2343b405-8a87-4701-a74b-b31d6ca44c28",
   "metadata": {},
   "outputs": [
    {
     "name": "stdout",
     "output_type": "stream",
     "text": [
      "Shape of x =  (301,)\n",
      "Shape of y =  (301,)\n"
     ]
    }
   ],
   "source": [
    "x=df['Present_Price']\n",
    "y=df['Selling_Price']\n",
    "print('Shape of x = ', x.shape)\n",
    "print('Shape of y = ', y.shape)\n",
    "# in this example we not consider the \"Position\" column"
   ]
  },
  {
   "cell_type": "code",
   "execution_count": null,
   "id": "d03de965-145c-48af-8cab-f0e0939139ed",
   "metadata": {},
   "outputs": [],
   "source": [
    "y"
   ]
  },
  {
   "cell_type": "code",
   "execution_count": 93,
   "id": "74ab3e7a-222f-4805-9bd2-feef7040c8a6",
   "metadata": {},
   "outputs": [
    {
     "data": {
      "text/plain": [
       "array([[ 8.25],\n",
       "       [ 0.5 ],\n",
       "       [ 5.25],\n",
       "       [ 9.5 ],\n",
       "       [18.  ],\n",
       "       [ 5.5 ],\n",
       "       [ 3.75],\n",
       "       [ 0.45],\n",
       "       [ 4.5 ],\n",
       "       [ 4.5 ],\n",
       "       [ 2.7 ],\n",
       "       [ 0.72],\n",
       "       [ 5.25],\n",
       "       [ 7.5 ],\n",
       "       [ 7.75],\n",
       "       [19.75],\n",
       "       [ 7.4 ],\n",
       "       [ 4.75],\n",
       "       [ 0.35],\n",
       "       [ 1.7 ],\n",
       "       [ 4.4 ],\n",
       "       [ 5.25],\n",
       "       [ 5.11],\n",
       "       [11.25],\n",
       "       [ 0.2 ],\n",
       "       [ 0.78],\n",
       "       [ 0.38],\n",
       "       [ 0.65],\n",
       "       [ 0.5 ],\n",
       "       [ 3.6 ],\n",
       "       [ 3.25],\n",
       "       [ 7.2 ],\n",
       "       [ 0.6 ],\n",
       "       [ 8.75],\n",
       "       [ 3.  ],\n",
       "       [ 1.15],\n",
       "       [ 6.6 ],\n",
       "       [ 4.75],\n",
       "       [ 0.25],\n",
       "       [ 8.25],\n",
       "       [ 9.25],\n",
       "       [19.99],\n",
       "       [ 5.5 ],\n",
       "       [ 4.75],\n",
       "       [ 5.5 ],\n",
       "       [12.9 ],\n",
       "       [ 0.3 ],\n",
       "       [ 1.05],\n",
       "       [ 5.25],\n",
       "       [ 6.5 ],\n",
       "       [ 7.5 ],\n",
       "       [ 2.9 ],\n",
       "       [ 4.8 ],\n",
       "       [23.5 ],\n",
       "       [ 1.2 ],\n",
       "       [ 1.1 ],\n",
       "       [ 0.65],\n",
       "       [ 2.55],\n",
       "       [ 4.15],\n",
       "       [ 1.35],\n",
       "       [ 3.51],\n",
       "       [ 4.9 ],\n",
       "       [ 2.  ],\n",
       "       [33.  ],\n",
       "       [ 3.75],\n",
       "       [ 5.65],\n",
       "       [ 8.55],\n",
       "       [ 3.8 ],\n",
       "       [ 0.4 ],\n",
       "       [ 2.65],\n",
       "       [ 2.85],\n",
       "       [ 2.65],\n",
       "       [ 0.48],\n",
       "       [ 6.15],\n",
       "       [ 0.31],\n",
       "       [ 6.  ],\n",
       "       [ 0.55],\n",
       "       [ 9.15],\n",
       "       [ 0.35],\n",
       "       [ 2.25],\n",
       "       [ 0.45],\n",
       "       [17.  ],\n",
       "       [ 4.85],\n",
       "       [ 5.75],\n",
       "       [ 6.45],\n",
       "       [ 1.1 ],\n",
       "       [ 5.35],\n",
       "       [ 5.5 ],\n",
       "       [ 0.6 ],\n",
       "       [ 5.3 ],\n",
       "       [ 0.65],\n",
       "       [ 6.  ],\n",
       "       [ 8.99],\n",
       "       [ 1.25],\n",
       "       [ 5.2 ],\n",
       "       [ 0.2 ],\n",
       "       [ 0.5 ],\n",
       "       [ 0.45],\n",
       "       [ 1.45],\n",
       "       [ 2.75],\n",
       "       [ 3.1 ]])"
      ]
     },
     "execution_count": 93,
     "metadata": {},
     "output_type": "execute_result"
    }
   ],
   "source": [
    "X_test"
   ]
  },
  {
   "cell_type": "code",
   "execution_count": 94,
   "id": "49eedce5-847a-4440-82a2-d471f55757e8",
   "metadata": {},
   "outputs": [],
   "source": [
    "from sklearn.metrics import mean_absolute_error,mean_squared_error,r2_score"
   ]
  },
  {
   "cell_type": "code",
   "execution_count": 95,
   "id": "705fe932-9469-44f9-8ac7-5a96c770503d",
   "metadata": {},
   "outputs": [],
   "source": [
    "y_pred=lr.predict(X_test)\n"
   ]
  },
  {
   "cell_type": "code",
   "execution_count": 96,
   "id": "3c587647-051f-418c-9ac7-375907918082",
   "metadata": {},
   "outputs": [
    {
     "data": {
      "text/plain": [
       "array([13.91270005,  1.04252126,  8.93069536, 15.98853534, 30.1042153 ,\n",
       "        9.34586241,  6.43969301,  0.95948785,  7.68519418,  7.68519418,\n",
       "        4.69599137,  1.40786827,  8.93069536, 12.66719887, 13.08236593,\n",
       "       33.0103847 , 12.50113205,  8.10036124,  0.79342103,  3.03532314,\n",
       "        7.51912736,  8.93069536,  8.6982018 , 18.89470474,  0.54432079,\n",
       "        1.50750836,  0.84324107,  1.29162149,  1.04252126,  6.19059277,\n",
       "        5.60935889, 12.16899841,  1.20858808, 14.74303416,  5.19419184,\n",
       "        2.12195561, 11.17259747,  8.10036124,  0.6273542 , 13.91270005,\n",
       "       15.57336828, 33.40894507,  9.34586241,  8.10036124,  9.34586241,\n",
       "       21.63480732,  0.71038761,  1.95588879,  8.93069536, 11.00653064,\n",
       "       12.66719887,  5.02812501,  8.18339465, 39.23789056,  2.20498902,\n",
       "        2.0389222 ,  1.29162149,  4.44689113,  7.1039603 ,  2.45408926,\n",
       "        6.04113263,  8.34946147,  3.53352361, 55.01423876,  6.43969301,\n",
       "        9.59496265, 14.41090052,  6.52272642,  0.87645444,  4.61295796,\n",
       "        4.9450916 ,  4.61295796,  1.0093079 , 10.42529676,  0.7269943 ,\n",
       "       10.17619653,  1.12555467, 15.40730145,  0.79342103,  3.94869066,\n",
       "        0.95948785, 28.44354707,  8.26642806,  9.76102947, 10.92349723,\n",
       "        2.0389222 ,  9.09676218,  9.34586241,  1.20858808,  9.01372877,\n",
       "        1.29162149, 10.17619653, 15.14159454,  2.28802243,  8.84766194,\n",
       "        0.54432079,  1.04252126,  0.95948785,  2.62015608,  4.77902478,\n",
       "        5.36025866])"
      ]
     },
     "execution_count": 96,
     "metadata": {},
     "output_type": "execute_result"
    }
   ],
   "source": [
    "y_pred"
   ]
  },
  {
   "cell_type": "markdown",
   "id": "89eb7a97-aa62-4fa9-b6f5-a886c1a250cc",
   "metadata": {},
   "source": [
    "# Mean Absolute Error(MAE)¶"
   ]
  },
  {
   "cell_type": "code",
   "execution_count": 97,
   "id": "6508d8da-74f7-4677-8c1b-c38358bd7f77",
   "metadata": {},
   "outputs": [
    {
     "name": "stdout",
     "output_type": "stream",
     "text": [
      "MAE 2.2800929353210373\n"
     ]
    }
   ],
   "source": [
    "print(\"MAE\",mean_absolute_error(y_test,y_pred))"
   ]
  },
  {
   "cell_type": "markdown",
   "id": "1d71008e-367e-42fb-b7cf-25b9b50f74a8",
   "metadata": {},
   "source": [
    "# Mean squarede Error(MSE)"
   ]
  },
  {
   "cell_type": "code",
   "execution_count": 98,
   "id": "b9c0e7ab-d174-4fe2-8876-da3b6cdfff2b",
   "metadata": {},
   "outputs": [
    {
     "name": "stdout",
     "output_type": "stream",
     "text": [
      "MSE 14.354965263022088\n"
     ]
    }
   ],
   "source": [
    "print(\"MSE\",mean_squared_error(y_test,y_pred))"
   ]
  },
  {
   "cell_type": "markdown",
   "id": "224b1028-5ded-4cfe-a564-b4c992d17315",
   "metadata": {},
   "source": [
    "# R squared"
   ]
  },
  {
   "cell_type": "code",
   "execution_count": 99,
   "id": "c14b4256-e2e7-42bf-ae78-71b141248f82",
   "metadata": {},
   "outputs": [],
   "source": [
    "from sklearn.metrics import r2_score\n"
   ]
  },
  {
   "cell_type": "code",
   "execution_count": 100,
   "id": "c4a2d404-ed43-4413-990f-cbc882462651",
   "metadata": {},
   "outputs": [
    {
     "name": "stdout",
     "output_type": "stream",
     "text": [
      "R_Squared 0.7098879061058492\n"
     ]
    }
   ],
   "source": [
    "print(\"R_Squared\",r2_score(y_test,y_pred))\n"
   ]
  },
  {
   "cell_type": "markdown",
   "id": "9132359e-ffd3-4e28-bfed-3a687c26c445",
   "metadata": {},
   "source": [
    "# Predict the Price of Car Price--Ridge and Lasso Regression\n"
   ]
  },
  {
   "cell_type": "code",
   "execution_count": 101,
   "id": "f2b2d394-9d93-4cbb-bb8e-c409dca99b75",
   "metadata": {},
   "outputs": [
    {
     "data": {
      "text/html": [
       "<div>\n",
       "<style scoped>\n",
       "    .dataframe tbody tr th:only-of-type {\n",
       "        vertical-align: middle;\n",
       "    }\n",
       "\n",
       "    .dataframe tbody tr th {\n",
       "        vertical-align: top;\n",
       "    }\n",
       "\n",
       "    .dataframe thead th {\n",
       "        text-align: right;\n",
       "    }\n",
       "</style>\n",
       "<table border=\"1\" class=\"dataframe\">\n",
       "  <thead>\n",
       "    <tr style=\"text-align: right;\">\n",
       "      <th></th>\n",
       "      <th>Year</th>\n",
       "      <th>Selling_Price</th>\n",
       "      <th>Present_Price</th>\n",
       "      <th>Kms_Driven</th>\n",
       "      <th>Fuel_Type</th>\n",
       "      <th>Seller_Type</th>\n",
       "      <th>Transmission</th>\n",
       "      <th>Owner</th>\n",
       "    </tr>\n",
       "  </thead>\n",
       "  <tbody>\n",
       "    <tr>\n",
       "      <th>0</th>\n",
       "      <td>2014</td>\n",
       "      <td>3.35</td>\n",
       "      <td>5.59</td>\n",
       "      <td>27000</td>\n",
       "      <td>0</td>\n",
       "      <td>0</td>\n",
       "      <td>0</td>\n",
       "      <td>0</td>\n",
       "    </tr>\n",
       "    <tr>\n",
       "      <th>1</th>\n",
       "      <td>2013</td>\n",
       "      <td>4.75</td>\n",
       "      <td>9.54</td>\n",
       "      <td>43000</td>\n",
       "      <td>1</td>\n",
       "      <td>0</td>\n",
       "      <td>0</td>\n",
       "      <td>0</td>\n",
       "    </tr>\n",
       "    <tr>\n",
       "      <th>2</th>\n",
       "      <td>2017</td>\n",
       "      <td>7.25</td>\n",
       "      <td>9.85</td>\n",
       "      <td>6900</td>\n",
       "      <td>0</td>\n",
       "      <td>0</td>\n",
       "      <td>0</td>\n",
       "      <td>0</td>\n",
       "    </tr>\n",
       "    <tr>\n",
       "      <th>3</th>\n",
       "      <td>2011</td>\n",
       "      <td>2.85</td>\n",
       "      <td>4.15</td>\n",
       "      <td>5200</td>\n",
       "      <td>0</td>\n",
       "      <td>0</td>\n",
       "      <td>0</td>\n",
       "      <td>0</td>\n",
       "    </tr>\n",
       "    <tr>\n",
       "      <th>4</th>\n",
       "      <td>2014</td>\n",
       "      <td>4.60</td>\n",
       "      <td>6.87</td>\n",
       "      <td>42450</td>\n",
       "      <td>1</td>\n",
       "      <td>0</td>\n",
       "      <td>0</td>\n",
       "      <td>0</td>\n",
       "    </tr>\n",
       "    <tr>\n",
       "      <th>...</th>\n",
       "      <td>...</td>\n",
       "      <td>...</td>\n",
       "      <td>...</td>\n",
       "      <td>...</td>\n",
       "      <td>...</td>\n",
       "      <td>...</td>\n",
       "      <td>...</td>\n",
       "      <td>...</td>\n",
       "    </tr>\n",
       "    <tr>\n",
       "      <th>296</th>\n",
       "      <td>2016</td>\n",
       "      <td>9.50</td>\n",
       "      <td>11.60</td>\n",
       "      <td>33988</td>\n",
       "      <td>1</td>\n",
       "      <td>0</td>\n",
       "      <td>0</td>\n",
       "      <td>0</td>\n",
       "    </tr>\n",
       "    <tr>\n",
       "      <th>297</th>\n",
       "      <td>2015</td>\n",
       "      <td>4.00</td>\n",
       "      <td>5.90</td>\n",
       "      <td>60000</td>\n",
       "      <td>0</td>\n",
       "      <td>0</td>\n",
       "      <td>0</td>\n",
       "      <td>0</td>\n",
       "    </tr>\n",
       "    <tr>\n",
       "      <th>298</th>\n",
       "      <td>2009</td>\n",
       "      <td>3.35</td>\n",
       "      <td>11.00</td>\n",
       "      <td>87934</td>\n",
       "      <td>0</td>\n",
       "      <td>0</td>\n",
       "      <td>0</td>\n",
       "      <td>0</td>\n",
       "    </tr>\n",
       "    <tr>\n",
       "      <th>299</th>\n",
       "      <td>2017</td>\n",
       "      <td>11.50</td>\n",
       "      <td>12.50</td>\n",
       "      <td>9000</td>\n",
       "      <td>1</td>\n",
       "      <td>0</td>\n",
       "      <td>0</td>\n",
       "      <td>0</td>\n",
       "    </tr>\n",
       "    <tr>\n",
       "      <th>300</th>\n",
       "      <td>2016</td>\n",
       "      <td>5.30</td>\n",
       "      <td>5.90</td>\n",
       "      <td>5464</td>\n",
       "      <td>0</td>\n",
       "      <td>0</td>\n",
       "      <td>0</td>\n",
       "      <td>0</td>\n",
       "    </tr>\n",
       "  </tbody>\n",
       "</table>\n",
       "<p>301 rows × 8 columns</p>\n",
       "</div>"
      ],
      "text/plain": [
       "     Year  Selling_Price  Present_Price  Kms_Driven  Fuel_Type  Seller_Type  \\\n",
       "0    2014           3.35           5.59       27000          0            0   \n",
       "1    2013           4.75           9.54       43000          1            0   \n",
       "2    2017           7.25           9.85        6900          0            0   \n",
       "3    2011           2.85           4.15        5200          0            0   \n",
       "4    2014           4.60           6.87       42450          1            0   \n",
       "..    ...            ...            ...         ...        ...          ...   \n",
       "296  2016           9.50          11.60       33988          1            0   \n",
       "297  2015           4.00           5.90       60000          0            0   \n",
       "298  2009           3.35          11.00       87934          0            0   \n",
       "299  2017          11.50          12.50        9000          1            0   \n",
       "300  2016           5.30           5.90        5464          0            0   \n",
       "\n",
       "     Transmission  Owner  \n",
       "0               0      0  \n",
       "1               0      0  \n",
       "2               0      0  \n",
       "3               0      0  \n",
       "4               0      0  \n",
       "..            ...    ...  \n",
       "296             0      0  \n",
       "297             0      0  \n",
       "298             0      0  \n",
       "299             0      0  \n",
       "300             0      0  \n",
       "\n",
       "[301 rows x 8 columns]"
      ]
     },
     "execution_count": 101,
     "metadata": {},
     "output_type": "execute_result"
    }
   ],
   "source": [
    "df1"
   ]
  },
  {
   "cell_type": "code",
   "execution_count": 102,
   "id": "6762d71c-2ef2-4adf-a3cb-48c66236b7d9",
   "metadata": {},
   "outputs": [
    {
     "data": {
      "text/plain": [
       "(301, 8)"
      ]
     },
     "execution_count": 102,
     "metadata": {},
     "output_type": "execute_result"
    }
   ],
   "source": [
    "df1.shape"
   ]
  },
  {
   "cell_type": "markdown",
   "id": "3568169b-1d5c-4aaa-b414-565daaf3a366",
   "metadata": {},
   "source": [
    "# Implementing Ridge and Lasso Regression"
   ]
  },
  {
   "cell_type": "code",
   "execution_count": 103,
   "id": "ec51df7a-913c-4e10-8491-f8bdf0ec2864",
   "metadata": {},
   "outputs": [],
   "source": [
    "from sklearn.linear_model import Ridge, Lasso"
   ]
  },
  {
   "cell_type": "code",
   "execution_count": 104,
   "id": "032cd1ec-6319-4ab4-974c-e38db7be3570",
   "metadata": {},
   "outputs": [
    {
     "data": {
      "text/plain": [
       "0.7100637458679052"
      ]
     },
     "execution_count": 104,
     "metadata": {},
     "output_type": "execute_result"
    }
   ],
   "source": [
    "rd = Ridge()\n",
    "\n",
    "rd.fit(X_train,y_train)\n",
    "\n",
    "rd.score(X_test, y_test)\n"
   ]
  },
  {
   "cell_type": "code",
   "execution_count": 105,
   "id": "07e1bb3d-de4e-4fce-bcaa-4c2fe1e385a7",
   "metadata": {},
   "outputs": [
    {
     "data": {
      "text/plain": [
       "0.7102393830049953"
      ]
     },
     "execution_count": 105,
     "metadata": {},
     "output_type": "execute_result"
    }
   ],
   "source": [
    "rd2 = Ridge(alpha = 2)\n",
    "# if you increase alpha value accuracy will increase \n",
    "\n",
    "rd2.fit(X_train,y_train)\n",
    "\n",
    "rd2.score(X_test, y_test)"
   ]
  },
  {
   "cell_type": "code",
   "execution_count": 106,
   "id": "968e92c2-f3fe-4b15-986e-2b1b42fd1294",
   "metadata": {},
   "outputs": [
    {
     "data": {
      "text/plain": [
       "0.7484648237787841"
      ]
     },
     "execution_count": 106,
     "metadata": {},
     "output_type": "execute_result"
    }
   ],
   "source": [
    "ls2 = Lasso(alpha=2)\n",
    "\n",
    "ls2.fit(X_train,y_train)\n",
    "\n",
    "ls2.score(X_test, y_test)\n"
   ]
  },
  {
   "cell_type": "code",
   "execution_count": 107,
   "id": "ad525fe8-b978-4587-bbf1-b9d095b07f9f",
   "metadata": {},
   "outputs": [
    {
     "data": {
      "text/plain": [
       "0.826742914281848"
      ]
     },
     "execution_count": 107,
     "metadata": {},
     "output_type": "execute_result"
    }
   ],
   "source": [
    "ls3 = Lasso(alpha=10)\n",
    "\n",
    "ls3.fit(X_train,y_train)\n",
    "\n",
    "ls3.score(X_test, y_test)"
   ]
  },
  {
   "cell_type": "markdown",
   "id": "9efe4602-ab0c-45f9-9569-37a738e5ba79",
   "metadata": {},
   "source": [
    "# K Nearest Neighbor Regression - ML Model Training\n"
   ]
  },
  {
   "cell_type": "code",
   "execution_count": 108,
   "id": "d54f3d08-94de-4af4-aba4-36840aa4affe",
   "metadata": {},
   "outputs": [],
   "source": [
    "from sklearn.neighbors import KNeighborsRegressor"
   ]
  },
  {
   "cell_type": "code",
   "execution_count": 109,
   "id": "cd35afa9-1c4e-4a66-ba72-282e05686bef",
   "metadata": {},
   "outputs": [
    {
     "data": {
      "text/html": [
       "<style>#sk-container-id-6 {color: black;background-color: white;}#sk-container-id-6 pre{padding: 0;}#sk-container-id-6 div.sk-toggleable {background-color: white;}#sk-container-id-6 label.sk-toggleable__label {cursor: pointer;display: block;width: 100%;margin-bottom: 0;padding: 0.3em;box-sizing: border-box;text-align: center;}#sk-container-id-6 label.sk-toggleable__label-arrow:before {content: \"▸\";float: left;margin-right: 0.25em;color: #696969;}#sk-container-id-6 label.sk-toggleable__label-arrow:hover:before {color: black;}#sk-container-id-6 div.sk-estimator:hover label.sk-toggleable__label-arrow:before {color: black;}#sk-container-id-6 div.sk-toggleable__content {max-height: 0;max-width: 0;overflow: hidden;text-align: left;background-color: #f0f8ff;}#sk-container-id-6 div.sk-toggleable__content pre {margin: 0.2em;color: black;border-radius: 0.25em;background-color: #f0f8ff;}#sk-container-id-6 input.sk-toggleable__control:checked~div.sk-toggleable__content {max-height: 200px;max-width: 100%;overflow: auto;}#sk-container-id-6 input.sk-toggleable__control:checked~label.sk-toggleable__label-arrow:before {content: \"▾\";}#sk-container-id-6 div.sk-estimator input.sk-toggleable__control:checked~label.sk-toggleable__label {background-color: #d4ebff;}#sk-container-id-6 div.sk-label input.sk-toggleable__control:checked~label.sk-toggleable__label {background-color: #d4ebff;}#sk-container-id-6 input.sk-hidden--visually {border: 0;clip: rect(1px 1px 1px 1px);clip: rect(1px, 1px, 1px, 1px);height: 1px;margin: -1px;overflow: hidden;padding: 0;position: absolute;width: 1px;}#sk-container-id-6 div.sk-estimator {font-family: monospace;background-color: #f0f8ff;border: 1px dotted black;border-radius: 0.25em;box-sizing: border-box;margin-bottom: 0.5em;}#sk-container-id-6 div.sk-estimator:hover {background-color: #d4ebff;}#sk-container-id-6 div.sk-parallel-item::after {content: \"\";width: 100%;border-bottom: 1px solid gray;flex-grow: 1;}#sk-container-id-6 div.sk-label:hover label.sk-toggleable__label {background-color: #d4ebff;}#sk-container-id-6 div.sk-serial::before {content: \"\";position: absolute;border-left: 1px solid gray;box-sizing: border-box;top: 0;bottom: 0;left: 50%;z-index: 0;}#sk-container-id-6 div.sk-serial {display: flex;flex-direction: column;align-items: center;background-color: white;padding-right: 0.2em;padding-left: 0.2em;position: relative;}#sk-container-id-6 div.sk-item {position: relative;z-index: 1;}#sk-container-id-6 div.sk-parallel {display: flex;align-items: stretch;justify-content: center;background-color: white;position: relative;}#sk-container-id-6 div.sk-item::before, #sk-container-id-6 div.sk-parallel-item::before {content: \"\";position: absolute;border-left: 1px solid gray;box-sizing: border-box;top: 0;bottom: 0;left: 50%;z-index: -1;}#sk-container-id-6 div.sk-parallel-item {display: flex;flex-direction: column;z-index: 1;position: relative;background-color: white;}#sk-container-id-6 div.sk-parallel-item:first-child::after {align-self: flex-end;width: 50%;}#sk-container-id-6 div.sk-parallel-item:last-child::after {align-self: flex-start;width: 50%;}#sk-container-id-6 div.sk-parallel-item:only-child::after {width: 0;}#sk-container-id-6 div.sk-dashed-wrapped {border: 1px dashed gray;margin: 0 0.4em 0.5em 0.4em;box-sizing: border-box;padding-bottom: 0.4em;background-color: white;}#sk-container-id-6 div.sk-label label {font-family: monospace;font-weight: bold;display: inline-block;line-height: 1.2em;}#sk-container-id-6 div.sk-label-container {text-align: center;}#sk-container-id-6 div.sk-container {/* jupyter's `normalize.less` sets `[hidden] { display: none; }` but bootstrap.min.css set `[hidden] { display: none !important; }` so we also need the `!important` here to be able to override the default hidden behavior on the sphinx rendered scikit-learn.org. See: https://github.com/scikit-learn/scikit-learn/issues/21755 */display: inline-block !important;position: relative;}#sk-container-id-6 div.sk-text-repr-fallback {display: none;}</style><div id=\"sk-container-id-6\" class=\"sk-top-container\"><div class=\"sk-text-repr-fallback\"><pre>KNeighborsRegressor(n_neighbors=3)</pre><b>In a Jupyter environment, please rerun this cell to show the HTML representation or trust the notebook. <br />On GitHub, the HTML representation is unable to render, please try loading this page with nbviewer.org.</b></div><div class=\"sk-container\" hidden><div class=\"sk-item\"><div class=\"sk-estimator sk-toggleable\"><input class=\"sk-toggleable__control sk-hidden--visually\" id=\"sk-estimator-id-6\" type=\"checkbox\" checked><label for=\"sk-estimator-id-6\" class=\"sk-toggleable__label sk-toggleable__label-arrow\">KNeighborsRegressor</label><div class=\"sk-toggleable__content\"><pre>KNeighborsRegressor(n_neighbors=3)</pre></div></div></div></div></div>"
      ],
      "text/plain": [
       "KNeighborsRegressor(n_neighbors=3)"
      ]
     },
     "execution_count": 109,
     "metadata": {},
     "output_type": "execute_result"
    }
   ],
   "source": [
    "regressor = KNeighborsRegressor(n_neighbors=3) \n",
    "# Default value=5\n",
    "regressor.fit(X_train, y_train)"
   ]
  },
  {
   "cell_type": "code",
   "execution_count": 110,
   "id": "a13a4e65-af9b-41ea-be68-0942ae52b540",
   "metadata": {},
   "outputs": [
    {
     "data": {
      "text/plain": [
       "0.7021457449052254"
      ]
     },
     "execution_count": 110,
     "metadata": {},
     "output_type": "execute_result"
    }
   ],
   "source": [
    "regressor.score(X_test, y_test)\n"
   ]
  },
  {
   "cell_type": "markdown",
   "id": "bdb94c67-567c-4773-aa87-00a244146d0b",
   "metadata": {},
   "source": [
    "# Changing Value of K now see difference\n"
   ]
  },
  {
   "cell_type": "code",
   "execution_count": 112,
   "id": "6680ee15-b3ed-4067-a9ce-f7934d1d709b",
   "metadata": {},
   "outputs": [
    {
     "data": {
      "text/html": [
       "<style>#sk-container-id-7 {color: black;background-color: white;}#sk-container-id-7 pre{padding: 0;}#sk-container-id-7 div.sk-toggleable {background-color: white;}#sk-container-id-7 label.sk-toggleable__label {cursor: pointer;display: block;width: 100%;margin-bottom: 0;padding: 0.3em;box-sizing: border-box;text-align: center;}#sk-container-id-7 label.sk-toggleable__label-arrow:before {content: \"▸\";float: left;margin-right: 0.25em;color: #696969;}#sk-container-id-7 label.sk-toggleable__label-arrow:hover:before {color: black;}#sk-container-id-7 div.sk-estimator:hover label.sk-toggleable__label-arrow:before {color: black;}#sk-container-id-7 div.sk-toggleable__content {max-height: 0;max-width: 0;overflow: hidden;text-align: left;background-color: #f0f8ff;}#sk-container-id-7 div.sk-toggleable__content pre {margin: 0.2em;color: black;border-radius: 0.25em;background-color: #f0f8ff;}#sk-container-id-7 input.sk-toggleable__control:checked~div.sk-toggleable__content {max-height: 200px;max-width: 100%;overflow: auto;}#sk-container-id-7 input.sk-toggleable__control:checked~label.sk-toggleable__label-arrow:before {content: \"▾\";}#sk-container-id-7 div.sk-estimator input.sk-toggleable__control:checked~label.sk-toggleable__label {background-color: #d4ebff;}#sk-container-id-7 div.sk-label input.sk-toggleable__control:checked~label.sk-toggleable__label {background-color: #d4ebff;}#sk-container-id-7 input.sk-hidden--visually {border: 0;clip: rect(1px 1px 1px 1px);clip: rect(1px, 1px, 1px, 1px);height: 1px;margin: -1px;overflow: hidden;padding: 0;position: absolute;width: 1px;}#sk-container-id-7 div.sk-estimator {font-family: monospace;background-color: #f0f8ff;border: 1px dotted black;border-radius: 0.25em;box-sizing: border-box;margin-bottom: 0.5em;}#sk-container-id-7 div.sk-estimator:hover {background-color: #d4ebff;}#sk-container-id-7 div.sk-parallel-item::after {content: \"\";width: 100%;border-bottom: 1px solid gray;flex-grow: 1;}#sk-container-id-7 div.sk-label:hover label.sk-toggleable__label {background-color: #d4ebff;}#sk-container-id-7 div.sk-serial::before {content: \"\";position: absolute;border-left: 1px solid gray;box-sizing: border-box;top: 0;bottom: 0;left: 50%;z-index: 0;}#sk-container-id-7 div.sk-serial {display: flex;flex-direction: column;align-items: center;background-color: white;padding-right: 0.2em;padding-left: 0.2em;position: relative;}#sk-container-id-7 div.sk-item {position: relative;z-index: 1;}#sk-container-id-7 div.sk-parallel {display: flex;align-items: stretch;justify-content: center;background-color: white;position: relative;}#sk-container-id-7 div.sk-item::before, #sk-container-id-7 div.sk-parallel-item::before {content: \"\";position: absolute;border-left: 1px solid gray;box-sizing: border-box;top: 0;bottom: 0;left: 50%;z-index: -1;}#sk-container-id-7 div.sk-parallel-item {display: flex;flex-direction: column;z-index: 1;position: relative;background-color: white;}#sk-container-id-7 div.sk-parallel-item:first-child::after {align-self: flex-end;width: 50%;}#sk-container-id-7 div.sk-parallel-item:last-child::after {align-self: flex-start;width: 50%;}#sk-container-id-7 div.sk-parallel-item:only-child::after {width: 0;}#sk-container-id-7 div.sk-dashed-wrapped {border: 1px dashed gray;margin: 0 0.4em 0.5em 0.4em;box-sizing: border-box;padding-bottom: 0.4em;background-color: white;}#sk-container-id-7 div.sk-label label {font-family: monospace;font-weight: bold;display: inline-block;line-height: 1.2em;}#sk-container-id-7 div.sk-label-container {text-align: center;}#sk-container-id-7 div.sk-container {/* jupyter's `normalize.less` sets `[hidden] { display: none; }` but bootstrap.min.css set `[hidden] { display: none !important; }` so we also need the `!important` here to be able to override the default hidden behavior on the sphinx rendered scikit-learn.org. See: https://github.com/scikit-learn/scikit-learn/issues/21755 */display: inline-block !important;position: relative;}#sk-container-id-7 div.sk-text-repr-fallback {display: none;}</style><div id=\"sk-container-id-7\" class=\"sk-top-container\"><div class=\"sk-text-repr-fallback\"><pre>KNeighborsRegressor(n_neighbors=8)</pre><b>In a Jupyter environment, please rerun this cell to show the HTML representation or trust the notebook. <br />On GitHub, the HTML representation is unable to render, please try loading this page with nbviewer.org.</b></div><div class=\"sk-container\" hidden><div class=\"sk-item\"><div class=\"sk-estimator sk-toggleable\"><input class=\"sk-toggleable__control sk-hidden--visually\" id=\"sk-estimator-id-7\" type=\"checkbox\" checked><label for=\"sk-estimator-id-7\" class=\"sk-toggleable__label sk-toggleable__label-arrow\">KNeighborsRegressor</label><div class=\"sk-toggleable__content\"><pre>KNeighborsRegressor(n_neighbors=8)</pre></div></div></div></div></div>"
      ],
      "text/plain": [
       "KNeighborsRegressor(n_neighbors=8)"
      ]
     },
     "execution_count": 112,
     "metadata": {},
     "output_type": "execute_result"
    }
   ],
   "source": [
    "regressor = KNeighborsRegressor(n_neighbors=8)\n",
    "regressor.fit(X_train, y_train)\n"
   ]
  },
  {
   "cell_type": "code",
   "execution_count": 113,
   "id": "25278f74-2aad-49c6-be8f-657c56577a62",
   "metadata": {},
   "outputs": [
    {
     "data": {
      "text/plain": [
       "0.8370843447042604"
      ]
     },
     "execution_count": 113,
     "metadata": {},
     "output_type": "execute_result"
    }
   ],
   "source": [
    "regressor.score(X_test, y_test)\n"
   ]
  },
  {
   "cell_type": "markdown",
   "id": "82ea9777-4643-40d0-a406-eb3d047fc2de",
   "metadata": {},
   "source": [
    "# Logistic Regression"
   ]
  },
  {
   "cell_type": "code",
   "execution_count": 114,
   "id": "c22d1bf7-55e4-414d-94f4-3cd192949635",
   "metadata": {},
   "outputs": [
    {
     "data": {
      "text/plain": [
       "<matplotlib.collections.PathCollection at 0x22028256510>"
      ]
     },
     "execution_count": 114,
     "metadata": {},
     "output_type": "execute_result"
    },
    {
     "data": {
      "image/png": "[encoded data removed]",
      "text/plain": [
       "<Figure size 640x480 with 1 Axes>"
      ]
     },
     "metadata": {},
     "output_type": "display_data"
    }
   ],
   "source": [
    "plt.scatter(df.Selling_Price,df.Present_Price,marker='*',color='red')\n"
   ]
  },
  {
   "cell_type": "code",
   "execution_count": 115,
   "id": "34b3a9fc-61eb-4b36-ad54-98ee1a6c2f4e",
   "metadata": {},
   "outputs": [],
   "source": [
    "x= df.iloc[:, [2,3]].values  \n",
    "# in x we take \"Age\" & \"EstimatedSalary\" \n",
    "y= df.iloc[:, 4].values  "
   ]
  },
  {
   "cell_type": "code",
   "execution_count": 117,
   "id": "3212f588-5ae8-4f4f-b1e3-9429c2a5e0e9",
   "metadata": {},
   "outputs": [
    {
     "name": "stdout",
     "output_type": "stream",
     "text": [
      " X_train shape (225, 1)\n",
      " y_train shape (225,)\n",
      " X_test shape (76, 1)\n",
      " y_test shape (76,)\n"
     ]
    }
   ],
   "source": [
    "# Splitting the dataset into training and test set. \n",
    "from sklearn.model_selection import train_test_split  \n",
    "X_train, X_test, y_train, y_test= train_test_split(X, y, test_size= 0.25, random_state=0)\n",
    "print(\" X_train shape\",X_train.shape)\n",
    "print(\" y_train shape\",y_train.shape)\n",
    "print(\" X_test shape\",X_test.shape)\n",
    "print(\" y_test shape\",y_test.shape)\n"
   ]
  },
  {
   "cell_type": "code",
   "execution_count": 118,
   "id": "027ef07e-143e-4e9b-b6e9-1427f8f19060",
   "metadata": {},
   "outputs": [
    {
     "data": {
      "text/plain": [
       "array([[ 0.55],\n",
       "       [ 9.15],\n",
       "       [ 0.35],\n",
       "       [ 2.25],\n",
       "       [ 0.45],\n",
       "       [17.  ],\n",
       "       [ 4.85],\n",
       "       [ 5.75],\n",
       "       [ 6.45],\n",
       "       [ 1.1 ],\n",
       "       [ 5.35],\n",
       "       [ 5.5 ],\n",
       "       [ 0.6 ],\n",
       "       [ 5.3 ],\n",
       "       [ 0.65],\n",
       "       [ 6.  ],\n",
       "       [ 8.99],\n",
       "       [ 1.25],\n",
       "       [ 5.2 ],\n",
       "       [ 0.2 ],\n",
       "       [ 0.5 ],\n",
       "       [ 0.45],\n",
       "       [ 1.45],\n",
       "       [ 2.75],\n",
       "       [ 3.1 ],\n",
       "       [ 3.25],\n",
       "       [ 0.42],\n",
       "       [ 5.4 ],\n",
       "       [ 0.95],\n",
       "       [ 0.9 ],\n",
       "       [ 4.5 ],\n",
       "       [ 3.  ],\n",
       "       [ 5.95],\n",
       "       [ 3.1 ],\n",
       "       [10.11],\n",
       "       [ 3.15],\n",
       "       [ 0.48],\n",
       "       [ 0.45],\n",
       "       [ 6.  ],\n",
       "       [12.5 ],\n",
       "       [ 0.65],\n",
       "       [ 7.9 ],\n",
       "       [ 6.95],\n",
       "       [ 0.48],\n",
       "       [ 2.1 ],\n",
       "       [ 1.2 ],\n",
       "       [ 4.9 ],\n",
       "       [ 7.45],\n",
       "       [ 0.4 ],\n",
       "       [ 7.25],\n",
       "       [ 4.5 ],\n",
       "       [ 3.95],\n",
       "       [ 1.2 ],\n",
       "       [ 5.3 ],\n",
       "       [ 3.1 ],\n",
       "       [ 4.6 ],\n",
       "       [20.75],\n",
       "       [ 0.42],\n",
       "       [ 4.5 ],\n",
       "       [ 9.25],\n",
       "       [ 0.6 ],\n",
       "       [ 0.1 ],\n",
       "       [ 0.5 ],\n",
       "       [ 5.25],\n",
       "       [ 5.85],\n",
       "       [ 0.25],\n",
       "       [ 6.1 ],\n",
       "       [ 1.25],\n",
       "       [ 0.15],\n",
       "       [ 2.85],\n",
       "       [ 0.45],\n",
       "       [ 0.9 ],\n",
       "       [ 2.9 ],\n",
       "       [ 3.1 ],\n",
       "       [ 1.5 ],\n",
       "       [ 6.  ],\n",
       "       [ 0.25],\n",
       "       [ 2.65],\n",
       "       [10.25],\n",
       "       [ 3.9 ],\n",
       "       [ 8.35],\n",
       "       [14.73],\n",
       "       [23.  ],\n",
       "       [ 7.25],\n",
       "       [11.25],\n",
       "       [ 1.35],\n",
       "       [ 0.3 ],\n",
       "       [35.  ],\n",
       "       [ 2.85],\n",
       "       [ 0.2 ],\n",
       "       [ 4.1 ],\n",
       "       [ 2.55],\n",
       "       [ 2.25],\n",
       "       [ 0.48],\n",
       "       [14.9 ],\n",
       "       [ 2.9 ],\n",
       "       [ 9.1 ],\n",
       "       [ 1.  ],\n",
       "       [ 4.1 ],\n",
       "       [18.75],\n",
       "       [ 0.2 ],\n",
       "       [ 4.95],\n",
       "       [ 0.75],\n",
       "       [ 3.25],\n",
       "       [ 6.7 ],\n",
       "       [ 5.5 ],\n",
       "       [ 1.15],\n",
       "       [ 0.6 ],\n",
       "       [ 0.12],\n",
       "       [ 3.5 ],\n",
       "       [ 0.51],\n",
       "       [ 1.15],\n",
       "       [ 5.25],\n",
       "       [ 7.05],\n",
       "       [ 4.5 ],\n",
       "       [23.  ],\n",
       "       [ 5.75],\n",
       "       [ 0.45],\n",
       "       [ 4.65],\n",
       "       [ 0.35],\n",
       "       [ 1.15],\n",
       "       [ 3.35],\n",
       "       [ 4.  ],\n",
       "       [ 8.65],\n",
       "       [ 5.85],\n",
       "       [ 4.  ],\n",
       "       [ 4.  ],\n",
       "       [ 5.4 ],\n",
       "       [14.25],\n",
       "       [ 7.75],\n",
       "       [ 5.8 ],\n",
       "       [ 2.5 ],\n",
       "       [ 3.35],\n",
       "       [ 0.6 ],\n",
       "       [ 5.15],\n",
       "       [ 2.5 ],\n",
       "       [ 4.  ],\n",
       "       [ 0.52],\n",
       "       [ 0.6 ],\n",
       "       [ 5.25],\n",
       "       [ 0.3 ],\n",
       "       [ 1.75],\n",
       "       [ 2.75],\n",
       "       [ 0.75],\n",
       "       [ 4.8 ],\n",
       "       [11.5 ],\n",
       "       [ 0.17],\n",
       "       [ 6.75],\n",
       "       [ 4.35],\n",
       "       [ 2.95],\n",
       "       [ 3.49],\n",
       "       [ 0.4 ],\n",
       "       [ 1.05],\n",
       "       [ 0.6 ],\n",
       "       [ 8.5 ],\n",
       "       [10.9 ],\n",
       "       [ 0.6 ],\n",
       "       [ 8.4 ],\n",
       "       [11.25],\n",
       "       [23.  ],\n",
       "       [ 3.5 ],\n",
       "       [ 6.85],\n",
       "       [ 1.05],\n",
       "       [ 1.65],\n",
       "       [ 2.95],\n",
       "       [ 4.75],\n",
       "       [ 0.4 ],\n",
       "       [ 9.25],\n",
       "       [ 4.75],\n",
       "       [ 4.75],\n",
       "       [ 1.05],\n",
       "       [ 3.65],\n",
       "       [ 0.25],\n",
       "       [ 1.95],\n",
       "       [ 1.35],\n",
       "       [ 0.75],\n",
       "       [14.5 ],\n",
       "       [ 7.75],\n",
       "       [ 4.  ],\n",
       "       [11.45],\n",
       "       [ 3.  ],\n",
       "       [16.  ],\n",
       "       [ 3.9 ],\n",
       "       [ 0.8 ],\n",
       "       [ 1.95],\n",
       "       [ 0.27],\n",
       "       [ 0.45],\n",
       "       [ 0.5 ],\n",
       "       [ 5.95],\n",
       "       [ 4.4 ],\n",
       "       [ 2.35],\n",
       "       [ 4.95],\n",
       "       [ 0.75],\n",
       "       [ 0.25],\n",
       "       [ 6.25],\n",
       "       [ 7.5 ],\n",
       "       [ 0.55],\n",
       "       [ 6.4 ],\n",
       "       [ 0.35],\n",
       "       [ 9.65],\n",
       "       [ 0.16],\n",
       "       [ 6.25],\n",
       "       [ 1.11],\n",
       "       [ 6.5 ],\n",
       "       [ 7.45],\n",
       "       [ 3.  ],\n",
       "       [ 0.45],\n",
       "       [ 8.4 ],\n",
       "       [ 0.38],\n",
       "       [ 4.5 ],\n",
       "       [ 2.25],\n",
       "       [ 0.2 ],\n",
       "       [ 3.45],\n",
       "       [ 3.95],\n",
       "       [ 5.9 ],\n",
       "       [ 4.4 ],\n",
       "       [ 9.7 ],\n",
       "       [11.75],\n",
       "       [ 7.45],\n",
       "       [ 0.18],\n",
       "       [ 5.  ],\n",
       "       [ 0.2 ],\n",
       "       [ 1.1 ],\n",
       "       [ 1.05],\n",
       "       [ 0.4 ]])"
      ]
     },
     "execution_count": 118,
     "metadata": {},
     "output_type": "execute_result"
    }
   ],
   "source": [
    "X_train"
   ]
  },
  {
   "cell_type": "markdown",
   "id": "21039a6f-a1f7-4749-97e6-ee447de68e10",
   "metadata": {},
   "source": [
    "# Feature scaling"
   ]
  },
  {
   "cell_type": "code",
   "execution_count": 125,
   "id": "185665dd-3715-4dc6-91ed-5d31b94b5a63",
   "metadata": {},
   "outputs": [
    {
     "name": "stdout",
     "output_type": "stream",
     "text": [
      "[[-0.80535129]\n",
      " [ 0.96960087]\n",
      " [-0.84662925]\n",
      " [-0.45448865]\n",
      " [-0.82599027]\n",
      " [ 2.58976068]\n",
      " [ 0.08212479]\n",
      " [ 0.2678756 ]\n",
      " [ 0.41234845]\n",
      " [-0.69183691]\n",
      " [ 0.18531968]\n",
      " [ 0.21627815]\n",
      " [-0.7950318 ]\n",
      " [ 0.17500019]\n",
      " [-0.78471231]\n",
      " [ 0.31947304]\n",
      " [ 0.9365785 ]\n",
      " [-0.66087844]\n",
      " [ 0.15436121]\n",
      " [-0.87758771]\n",
      " [-0.81567078]\n",
      " [-0.82599027]\n",
      " [-0.61960048]\n",
      " [-0.35129376]\n",
      " [-0.27905734]\n",
      " [-0.24809887]\n",
      " [-0.83218196]\n",
      " [ 0.19563917]\n",
      " [-0.72279537]\n",
      " [-0.73311486]\n",
      " [ 0.00988836]\n",
      " [-0.29969631]\n",
      " [ 0.30915355]\n",
      " [-0.27905734]\n",
      " [ 1.16773506]\n",
      " [-0.26873785]\n",
      " [-0.81979857]\n",
      " [-0.82599027]\n",
      " [ 0.31947304]\n",
      " [ 1.66100665]\n",
      " [-0.78471231]\n",
      " [ 0.71161363]\n",
      " [ 0.51554334]\n",
      " [-0.81979857]\n",
      " [-0.48544712]\n",
      " [-0.67119793]\n",
      " [ 0.09244428]\n",
      " [ 0.61873823]\n",
      " [-0.83630976]\n",
      " [ 0.57746027]\n",
      " [ 0.00988836]\n",
      " [-0.10362602]\n",
      " [-0.67119793]\n",
      " [ 0.17500019]\n",
      " [-0.27905734]\n",
      " [ 0.03052734]\n",
      " [ 3.36372238]\n",
      " [-0.83218196]\n",
      " [ 0.00988836]\n",
      " [ 0.99023984]\n",
      " [-0.7950318 ]\n",
      " [-0.89822669]\n",
      " [-0.81567078]\n",
      " [ 0.1646807 ]\n",
      " [ 0.28851457]\n",
      " [-0.86726822]\n",
      " [ 0.34011202]\n",
      " [-0.66087844]\n",
      " [-0.8879072 ]\n",
      " [-0.33065478]\n",
      " [-0.82599027]\n",
      " [-0.73311486]\n",
      " [-0.32033529]\n",
      " [-0.27905734]\n",
      " [-0.60928099]\n",
      " [ 0.31947304]\n",
      " [-0.86726822]\n",
      " [-0.37193274]\n",
      " [ 1.19662963]\n",
      " [-0.11394551]\n",
      " [ 0.80448904]\n",
      " [ 2.12125587]\n",
      " [ 3.82809939]\n",
      " [ 0.57746027]\n",
      " [ 1.40301942]\n",
      " [-0.64023946]\n",
      " [-0.85694873]\n",
      " [ 6.30477682]\n",
      " [-0.33065478]\n",
      " [-0.87758771]\n",
      " [-0.07266755]\n",
      " [-0.39257172]\n",
      " [-0.45448865]\n",
      " [-0.81979857]\n",
      " [ 2.15634213]\n",
      " [-0.32033529]\n",
      " [ 0.95928138]\n",
      " [-0.71247589]\n",
      " [-0.07266755]\n",
      " [ 2.95094281]\n",
      " [-0.87758771]\n",
      " [ 0.10276377]\n",
      " [-0.76407333]\n",
      " [-0.24809887]\n",
      " [ 0.46394589]\n",
      " [ 0.21627815]\n",
      " [-0.68151742]\n",
      " [-0.7950318 ]\n",
      " [-0.8940989 ]\n",
      " [-0.19650142]\n",
      " [-0.81360688]\n",
      " [-0.68151742]\n",
      " [ 0.1646807 ]\n",
      " [ 0.53618232]\n",
      " [ 0.00988836]\n",
      " [ 3.82809939]\n",
      " [ 0.2678756 ]\n",
      " [-0.82599027]\n",
      " [ 0.04084683]\n",
      " [-0.84662925]\n",
      " [-0.68151742]\n",
      " [-0.22745989]\n",
      " [-0.09330653]\n",
      " [ 0.86640597]\n",
      " [ 0.28851457]\n",
      " [-0.09330653]\n",
      " [-0.09330653]\n",
      " [ 0.19563917]\n",
      " [ 2.02218877]\n",
      " [ 0.68065517]\n",
      " [ 0.27819509]\n",
      " [-0.40289121]\n",
      " [-0.22745989]\n",
      " [-0.7950318 ]\n",
      " [ 0.14404172]\n",
      " [-0.40289121]\n",
      " [-0.09330653]\n",
      " [-0.81154298]\n",
      " [-0.7950318 ]\n",
      " [ 0.1646807 ]\n",
      " [-0.85694873]\n",
      " [-0.55768355]\n",
      " [-0.35129376]\n",
      " [-0.76407333]\n",
      " [ 0.0718053 ]\n",
      " [ 1.45461686]\n",
      " [-0.88377941]\n",
      " [ 0.47426538]\n",
      " [-0.0210701 ]\n",
      " [-0.3100158 ]\n",
      " [-0.19856532]\n",
      " [-0.83630976]\n",
      " [-0.7021564 ]\n",
      " [-0.7950318 ]\n",
      " [ 0.83544751]\n",
      " [ 1.33078299]\n",
      " [-0.7950318 ]\n",
      " [ 0.81480853]\n",
      " [ 1.40301942]\n",
      " [ 3.82809939]\n",
      " [-0.19650142]\n",
      " [ 0.49490436]\n",
      " [-0.7021564 ]\n",
      " [-0.57832252]\n",
      " [-0.3100158 ]\n",
      " [ 0.06148581]\n",
      " [-0.83630976]\n",
      " [ 0.99023984]\n",
      " [ 0.06148581]\n",
      " [ 0.06148581]\n",
      " [-0.7021564 ]\n",
      " [-0.16554295]\n",
      " [-0.86726822]\n",
      " [-0.51640559]\n",
      " [-0.64023946]\n",
      " [-0.76407333]\n",
      " [ 2.07378622]\n",
      " [ 0.68065517]\n",
      " [-0.09330653]\n",
      " [ 1.44429737]\n",
      " [-0.29969631]\n",
      " [ 2.3833709 ]\n",
      " [-0.11394551]\n",
      " [-0.75375384]\n",
      " [-0.51640559]\n",
      " [-0.86314043]\n",
      " [-0.82599027]\n",
      " [-0.81567078]\n",
      " [ 0.30915355]\n",
      " [-0.01075061]\n",
      " [-0.43384967]\n",
      " [ 0.10276377]\n",
      " [-0.76407333]\n",
      " [-0.86726822]\n",
      " [ 0.37107049]\n",
      " [ 0.62905772]\n",
      " [-0.80535129]\n",
      " [ 0.40202896]\n",
      " [-0.84662925]\n",
      " [ 1.07279576]\n",
      " [-0.8858433 ]\n",
      " [ 0.37107049]\n",
      " [-0.68977301]\n",
      " [ 0.42266793]\n",
      " [ 0.61873823]\n",
      " [-0.29969631]\n",
      " [-0.82599027]\n",
      " [ 0.81480853]\n",
      " [-0.84043755]\n",
      " [ 0.00988836]\n",
      " [-0.45448865]\n",
      " [-0.87758771]\n",
      " [-0.20682091]\n",
      " [-0.10362602]\n",
      " [ 0.29883406]\n",
      " [-0.01075061]\n",
      " [ 1.08311525]\n",
      " [ 1.50621431]\n",
      " [ 0.61873823]\n",
      " [-0.88171551]\n",
      " [ 0.11308326]\n",
      " [-0.87758771]\n",
      " [-0.69183691]\n",
      " [-0.7021564 ]\n",
      " [-0.83630976]]\n",
      "[[ 0.78385006]\n",
      " [-0.81567078]\n",
      " [ 0.1646807 ]\n",
      " [ 1.04183729]\n",
      " [ 2.79615047]\n",
      " [ 0.21627815]\n",
      " [-0.14490398]\n",
      " [-0.82599027]\n",
      " [ 0.00988836]\n",
      " [ 0.00988836]\n",
      " [-0.36161325]\n",
      " [-0.77026503]\n",
      " [ 0.1646807 ]\n",
      " [ 0.62905772]\n",
      " [ 0.68065517]\n",
      " [ 3.15733259]\n",
      " [ 0.60841874]\n",
      " [ 0.06148581]\n",
      " [-0.84662925]\n",
      " [-0.56800304]\n",
      " [-0.01075061]\n",
      " [ 0.1646807 ]\n",
      " [ 0.13578613]\n",
      " [ 1.40301942]\n",
      " [-0.87758771]\n",
      " [-0.75788164]\n",
      " [-0.84043755]\n",
      " [-0.78471231]\n",
      " [-0.81567078]\n",
      " [-0.17586244]\n",
      " [-0.24809887]\n",
      " [ 0.56714078]\n",
      " [-0.7950318 ]\n",
      " [ 0.88704495]\n",
      " [-0.29969631]\n",
      " [-0.68151742]\n",
      " [ 0.44330691]\n",
      " [ 0.06148581]\n",
      " [-0.86726822]\n",
      " [ 0.78385006]\n",
      " [ 0.99023984]\n",
      " [ 3.20686614]\n",
      " [ 0.21627815]\n",
      " [ 0.06148581]\n",
      " [ 0.21627815]\n",
      " [ 1.74356256]\n",
      " [-0.85694873]\n",
      " [-0.7021564 ]\n",
      " [ 0.1646807 ]\n",
      " [ 0.42266793]\n",
      " [ 0.62905772]\n",
      " [-0.32033529]\n",
      " [ 0.0718053 ]\n",
      " [ 3.93129429]\n",
      " [-0.67119793]\n",
      " [-0.69183691]\n",
      " [-0.78471231]\n",
      " [-0.39257172]\n",
      " [-0.06234806]\n",
      " [-0.64023946]\n",
      " [-0.19443752]\n",
      " [ 0.09244428]\n",
      " [-0.5060861 ]\n",
      " [ 5.89199725]\n",
      " [-0.14490398]\n",
      " [ 0.24723662]\n",
      " [ 0.845767  ]\n",
      " [-0.13458449]\n",
      " [-0.83630976]\n",
      " [-0.37193274]\n",
      " [-0.33065478]\n",
      " [-0.37193274]\n",
      " [-0.81979857]\n",
      " [ 0.35043151]\n",
      " [-0.85488484]\n",
      " [ 0.31947304]]\n"
     ]
    }
   ],
   "source": [
    "from sklearn.preprocessing import StandardScaler    \n",
    "st_x= StandardScaler()  \n",
    "X_train= st_x.fit_transform(X_train)\n",
    "X_test= st_x.transform(X_test) \n",
    "print(X_train)\n",
    "print(X_test)\n"
   ]
  },
  {
   "cell_type": "markdown",
   "id": "708ac481-c358-4c56-80e0-a564854c8f29",
   "metadata": {},
   "source": [
    "# Fitting Logistic Regression to the Training set:\n"
   ]
  },
  {
   "cell_type": "code",
   "execution_count": 127,
   "id": "f92c0791-4b4b-4c40-8ade-4422a830dcec",
   "metadata": {},
   "outputs": [
    {
     "data": {
      "text/html": [
       "<style>#sk-container-id-8 {color: black;background-color: white;}#sk-container-id-8 pre{padding: 0;}#sk-container-id-8 div.sk-toggleable {background-color: white;}#sk-container-id-8 label.sk-toggleable__label {cursor: pointer;display: block;width: 100%;margin-bottom: 0;padding: 0.3em;box-sizing: border-box;text-align: center;}#sk-container-id-8 label.sk-toggleable__label-arrow:before {content: \"▸\";float: left;margin-right: 0.25em;color: #696969;}#sk-container-id-8 label.sk-toggleable__label-arrow:hover:before {color: black;}#sk-container-id-8 div.sk-estimator:hover label.sk-toggleable__label-arrow:before {color: black;}#sk-container-id-8 div.sk-toggleable__content {max-height: 0;max-width: 0;overflow: hidden;text-align: left;background-color: #f0f8ff;}#sk-container-id-8 div.sk-toggleable__content pre {margin: 0.2em;color: black;border-radius: 0.25em;background-color: #f0f8ff;}#sk-container-id-8 input.sk-toggleable__control:checked~div.sk-toggleable__content {max-height: 200px;max-width: 100%;overflow: auto;}#sk-container-id-8 input.sk-toggleable__control:checked~label.sk-toggleable__label-arrow:before {content: \"▾\";}#sk-container-id-8 div.sk-estimator input.sk-toggleable__control:checked~label.sk-toggleable__label {background-color: #d4ebff;}#sk-container-id-8 div.sk-label input.sk-toggleable__control:checked~label.sk-toggleable__label {background-color: #d4ebff;}#sk-container-id-8 input.sk-hidden--visually {border: 0;clip: rect(1px 1px 1px 1px);clip: rect(1px, 1px, 1px, 1px);height: 1px;margin: -1px;overflow: hidden;padding: 0;position: absolute;width: 1px;}#sk-container-id-8 div.sk-estimator {font-family: monospace;background-color: #f0f8ff;border: 1px dotted black;border-radius: 0.25em;box-sizing: border-box;margin-bottom: 0.5em;}#sk-container-id-8 div.sk-estimator:hover {background-color: #d4ebff;}#sk-container-id-8 div.sk-parallel-item::after {content: \"\";width: 100%;border-bottom: 1px solid gray;flex-grow: 1;}#sk-container-id-8 div.sk-label:hover label.sk-toggleable__label {background-color: #d4ebff;}#sk-container-id-8 div.sk-serial::before {content: \"\";position: absolute;border-left: 1px solid gray;box-sizing: border-box;top: 0;bottom: 0;left: 50%;z-index: 0;}#sk-container-id-8 div.sk-serial {display: flex;flex-direction: column;align-items: center;background-color: white;padding-right: 0.2em;padding-left: 0.2em;position: relative;}#sk-container-id-8 div.sk-item {position: relative;z-index: 1;}#sk-container-id-8 div.sk-parallel {display: flex;align-items: stretch;justify-content: center;background-color: white;position: relative;}#sk-container-id-8 div.sk-item::before, #sk-container-id-8 div.sk-parallel-item::before {content: \"\";position: absolute;border-left: 1px solid gray;box-sizing: border-box;top: 0;bottom: 0;left: 50%;z-index: -1;}#sk-container-id-8 div.sk-parallel-item {display: flex;flex-direction: column;z-index: 1;position: relative;background-color: white;}#sk-container-id-8 div.sk-parallel-item:first-child::after {align-self: flex-end;width: 50%;}#sk-container-id-8 div.sk-parallel-item:last-child::after {align-self: flex-start;width: 50%;}#sk-container-id-8 div.sk-parallel-item:only-child::after {width: 0;}#sk-container-id-8 div.sk-dashed-wrapped {border: 1px dashed gray;margin: 0 0.4em 0.5em 0.4em;box-sizing: border-box;padding-bottom: 0.4em;background-color: white;}#sk-container-id-8 div.sk-label label {font-family: monospace;font-weight: bold;display: inline-block;line-height: 1.2em;}#sk-container-id-8 div.sk-label-container {text-align: center;}#sk-container-id-8 div.sk-container {/* jupyter's `normalize.less` sets `[hidden] { display: none; }` but bootstrap.min.css set `[hidden] { display: none !important; }` so we also need the `!important` here to be able to override the default hidden behavior on the sphinx rendered scikit-learn.org. See: https://github.com/scikit-learn/scikit-learn/issues/21755 */display: inline-block !important;position: relative;}#sk-container-id-8 div.sk-text-repr-fallback {display: none;}</style><div id=\"sk-container-id-8\" class=\"sk-top-container\"><div class=\"sk-text-repr-fallback\"><pre>LogisticRegression(random_state=0)</pre><b>In a Jupyter environment, please rerun this cell to show the HTML representation or trust the notebook. <br />On GitHub, the HTML representation is unable to render, please try loading this page with nbviewer.org.</b></div><div class=\"sk-container\" hidden><div class=\"sk-item\"><div class=\"sk-estimator sk-toggleable\"><input class=\"sk-toggleable__control sk-hidden--visually\" id=\"sk-estimator-id-8\" type=\"checkbox\" checked><label for=\"sk-estimator-id-8\" class=\"sk-toggleable__label sk-toggleable__label-arrow\">LogisticRegression</label><div class=\"sk-toggleable__content\"><pre>LogisticRegression(random_state=0)</pre></div></div></div></div></div>"
      ],
      "text/plain": [
       "LogisticRegression(random_state=0)"
      ]
     },
     "execution_count": 127,
     "metadata": {},
     "output_type": "execute_result"
    }
   ],
   "source": [
    "#Fitting Logistic Regression to the Training set:\n",
    "#Fitting Logistic Regression to the training set  \n",
    "from sklearn.linear_model import LogisticRegression  \n",
    "classifier= LogisticRegression(random_state=0)  \n",
    "classifier.fit(X_train, y_train)  \n"
   ]
  },
  {
   "cell_type": "markdown",
   "id": "b3558c8a-e314-4e05-b905-23be69861214",
   "metadata": {},
   "source": [
    "# Predicting the Test Result"
   ]
  },
  {
   "cell_type": "code",
   "execution_count": 128,
   "id": "462a85a0-65d7-46f9-a4ec-77c19e2c503e",
   "metadata": {},
   "outputs": [
    {
     "data": {
      "text/plain": [
       "0.02631578947368421"
      ]
     },
     "execution_count": 128,
     "metadata": {},
     "output_type": "execute_result"
    }
   ],
   "source": [
    "classifier.score(X_test,y_test)\n"
   ]
  },
  {
   "cell_type": "markdown",
   "id": "54ec8c75-30d4-4828-a015-e86836d6f837",
   "metadata": {},
   "source": [
    "# K-Means Clustering Algorithm"
   ]
  },
  {
   "cell_type": "code",
   "execution_count": 136,
   "id": "6d0575f5-b837-4a3b-ac1a-979ca4323fae",
   "metadata": {},
   "outputs": [],
   "source": [
    "from sklearn.cluster import KMeans"
   ]
  },
  {
   "cell_type": "code",
   "execution_count": 137,
   "id": "d71d4760-53ca-4b3a-8d75-ea472b3373af",
   "metadata": {},
   "outputs": [
    {
     "name": "stderr",
     "output_type": "stream",
     "text": [
      "C:\\Users\\monal\\anaconda3\\Lib\\site-packages\\sklearn\\cluster\\_kmeans.py:870: FutureWarning: The default value of `n_init` will change from 10 to 'auto' in 1.4. Set the value of `n_init` explicitly to suppress the warning\n",
      "  warnings.warn(\n",
      "C:\\Users\\monal\\anaconda3\\Lib\\site-packages\\sklearn\\cluster\\_kmeans.py:1382: UserWarning: KMeans is known to have a memory leak on Windows with MKL, when there are less chunks than available threads. You can avoid it by setting the environment variable OMP_NUM_THREADS=2.\n",
      "  warnings.warn(\n",
      "C:\\Users\\monal\\anaconda3\\Lib\\site-packages\\sklearn\\cluster\\_kmeans.py:870: FutureWarning: The default value of `n_init` will change from 10 to 'auto' in 1.4. Set the value of `n_init` explicitly to suppress the warning\n",
      "  warnings.warn(\n",
      "C:\\Users\\monal\\anaconda3\\Lib\\site-packages\\sklearn\\cluster\\_kmeans.py:1382: UserWarning: KMeans is known to have a memory leak on Windows with MKL, when there are less chunks than available threads. You can avoid it by setting the environment variable OMP_NUM_THREADS=2.\n",
      "  warnings.warn(\n",
      "C:\\Users\\monal\\anaconda3\\Lib\\site-packages\\sklearn\\cluster\\_kmeans.py:870: FutureWarning: The default value of `n_init` will change from 10 to 'auto' in 1.4. Set the value of `n_init` explicitly to suppress the warning\n",
      "  warnings.warn(\n",
      "C:\\Users\\monal\\anaconda3\\Lib\\site-packages\\sklearn\\cluster\\_kmeans.py:1382: UserWarning: KMeans is known to have a memory leak on Windows with MKL, when there are less chunks than available threads. You can avoid it by setting the environment variable OMP_NUM_THREADS=2.\n",
      "  warnings.warn(\n",
      "C:\\Users\\monal\\anaconda3\\Lib\\site-packages\\sklearn\\cluster\\_kmeans.py:870: FutureWarning: The default value of `n_init` will change from 10 to 'auto' in 1.4. Set the value of `n_init` explicitly to suppress the warning\n",
      "  warnings.warn(\n",
      "C:\\Users\\monal\\anaconda3\\Lib\\site-packages\\sklearn\\cluster\\_kmeans.py:1382: UserWarning: KMeans is known to have a memory leak on Windows with MKL, when there are less chunks than available threads. You can avoid it by setting the environment variable OMP_NUM_THREADS=2.\n",
      "  warnings.warn(\n",
      "C:\\Users\\monal\\anaconda3\\Lib\\site-packages\\sklearn\\cluster\\_kmeans.py:870: FutureWarning: The default value of `n_init` will change from 10 to 'auto' in 1.4. Set the value of `n_init` explicitly to suppress the warning\n",
      "  warnings.warn(\n",
      "C:\\Users\\monal\\anaconda3\\Lib\\site-packages\\sklearn\\cluster\\_kmeans.py:1382: UserWarning: KMeans is known to have a memory leak on Windows with MKL, when there are less chunks than available threads. You can avoid it by setting the environment variable OMP_NUM_THREADS=2.\n",
      "  warnings.warn(\n",
      "C:\\Users\\monal\\anaconda3\\Lib\\site-packages\\sklearn\\cluster\\_kmeans.py:870: FutureWarning: The default value of `n_init` will change from 10 to 'auto' in 1.4. Set the value of `n_init` explicitly to suppress the warning\n",
      "  warnings.warn(\n",
      "C:\\Users\\monal\\anaconda3\\Lib\\site-packages\\sklearn\\cluster\\_kmeans.py:1382: UserWarning: KMeans is known to have a memory leak on Windows with MKL, when there are less chunks than available threads. You can avoid it by setting the environment variable OMP_NUM_THREADS=2.\n",
      "  warnings.warn(\n",
      "C:\\Users\\monal\\anaconda3\\Lib\\site-packages\\sklearn\\cluster\\_kmeans.py:870: FutureWarning: The default value of `n_init` will change from 10 to 'auto' in 1.4. Set the value of `n_init` explicitly to suppress the warning\n",
      "  warnings.warn(\n",
      "C:\\Users\\monal\\anaconda3\\Lib\\site-packages\\sklearn\\cluster\\_kmeans.py:1382: UserWarning: KMeans is known to have a memory leak on Windows with MKL, when there are less chunks than available threads. You can avoid it by setting the environment variable OMP_NUM_THREADS=2.\n",
      "  warnings.warn(\n",
      "C:\\Users\\monal\\anaconda3\\Lib\\site-packages\\sklearn\\cluster\\_kmeans.py:870: FutureWarning: The default value of `n_init` will change from 10 to 'auto' in 1.4. Set the value of `n_init` explicitly to suppress the warning\n",
      "  warnings.warn(\n",
      "C:\\Users\\monal\\anaconda3\\Lib\\site-packages\\sklearn\\cluster\\_kmeans.py:1382: UserWarning: KMeans is known to have a memory leak on Windows with MKL, when there are less chunks than available threads. You can avoid it by setting the environment variable OMP_NUM_THREADS=2.\n",
      "  warnings.warn(\n",
      "C:\\Users\\monal\\anaconda3\\Lib\\site-packages\\sklearn\\cluster\\_kmeans.py:870: FutureWarning: The default value of `n_init` will change from 10 to 'auto' in 1.4. Set the value of `n_init` explicitly to suppress the warning\n",
      "  warnings.warn(\n",
      "C:\\Users\\monal\\anaconda3\\Lib\\site-packages\\sklearn\\cluster\\_kmeans.py:1382: UserWarning: KMeans is known to have a memory leak on Windows with MKL, when there are less chunks than available threads. You can avoid it by setting the environment variable OMP_NUM_THREADS=2.\n",
      "  warnings.warn(\n",
      "C:\\Users\\monal\\anaconda3\\Lib\\site-packages\\sklearn\\cluster\\_kmeans.py:870: FutureWarning: The default value of `n_init` will change from 10 to 'auto' in 1.4. Set the value of `n_init` explicitly to suppress the warning\n",
      "  warnings.warn(\n",
      "C:\\Users\\monal\\anaconda3\\Lib\\site-packages\\sklearn\\cluster\\_kmeans.py:1382: UserWarning: KMeans is known to have a memory leak on Windows with MKL, when there are less chunks than available threads. You can avoid it by setting the environment variable OMP_NUM_THREADS=2.\n",
      "  warnings.warn(\n"
     ]
    }
   ],
   "source": [
    "wcss=[]\n",
    "for i in range(1,11):\n",
    "    km=KMeans(n_clusters=i)\n",
    "    km.fit_predict(df2)\n",
    "    wcss.append(km.inertia_)"
   ]
  },
  {
   "cell_type": "code",
   "execution_count": 138,
   "id": "7bd91578-1d8c-41e9-b6c1-174ff0f7df80",
   "metadata": {},
   "outputs": [
    {
     "data": {
      "text/plain": [
       "[453656946396.1662,\n",
       " 238524329963.81055,\n",
       " 110929381130.08223,\n",
       " 51266347961.06799,\n",
       " 27571684163.249226,\n",
       " 19162793270.629467,\n",
       " 12573433535.879257,\n",
       " 7894004229.132539,\n",
       " 5775084536.081428,\n",
       " 4296299739.907684]"
      ]
     },
     "execution_count": 138,
     "metadata": {},
     "output_type": "execute_result"
    }
   ],
   "source": [
    "wcss"
   ]
  },
  {
   "cell_type": "code",
   "execution_count": 139,
   "id": "b1843118-22e3-49fd-a127-493f295991fe",
   "metadata": {},
   "outputs": [
    {
     "data": {
      "text/plain": [
       "[<matplotlib.lines.Line2D at 0x220282a26d0>]"
      ]
     },
     "execution_count": 139,
     "metadata": {},
     "output_type": "execute_result"
    },
    {
     "data": {
      "image/png": "[encoded data removed]",
      "text/plain": [
       "<Figure size 640x480 with 1 Axes>"
      ]
     },
     "metadata": {},
     "output_type": "display_data"
    }
   ],
   "source": [
    "plt.plot(range(1,11),wcss)"
   ]
  },
  {
   "cell_type": "code",
   "execution_count": 140,
   "id": "dadcabe7-fd78-446c-9aa2-e10e4a368688",
   "metadata": {},
   "outputs": [
    {
     "name": "stderr",
     "output_type": "stream",
     "text": [
      "C:\\Users\\monal\\anaconda3\\Lib\\site-packages\\sklearn\\cluster\\_kmeans.py:870: FutureWarning: The default value of `n_init` will change from 10 to 'auto' in 1.4. Set the value of `n_init` explicitly to suppress the warning\n",
      "  warnings.warn(\n",
      "C:\\Users\\monal\\anaconda3\\Lib\\site-packages\\sklearn\\cluster\\_kmeans.py:1382: UserWarning: KMeans is known to have a memory leak on Windows with MKL, when there are less chunks than available threads. You can avoid it by setting the environment variable OMP_NUM_THREADS=2.\n",
      "  warnings.warn(\n"
     ]
    }
   ],
   "source": [
    "X = df2.iloc[:,:].values  \n",
    "# it just an numpy array which has all rows and columns with their values\n",
    "km = KMeans(n_clusters=4)\n",
    "y_means = km.fit_predict(X) \n",
    "# fit_predict will train our module & it also define the cluster values\n",
    "# We pass X in fit_predit(X)==== it means all the rows and coloumns with their values "
   ]
  },
  {
   "cell_type": "code",
   "execution_count": 141,
   "id": "06ec9c22-c242-468b-97d6-423edaf5d3d6",
   "metadata": {},
   "outputs": [
    {
     "data": {
      "text/plain": [
       "array([2, 0, 2, 2, 0, 2, 2, 2, 2, 0, 2, 0, 2, 2, 0, 0, 0, 0, 0, 0, 2, 2,\n",
       "       0, 0, 0, 2, 0, 2, 0, 0, 0, 0, 0, 0, 0, 0, 0, 3, 2, 0, 2, 0, 0, 0,\n",
       "       0, 2, 0, 0, 2, 0, 3, 0, 2, 3, 0, 0, 0, 0, 0, 0, 0, 0, 0, 0, 2, 0,\n",
       "       2, 0, 0, 2, 0, 0, 0, 0, 0, 0, 0, 3, 0, 0, 2, 0, 2, 0, 3, 3, 0, 0,\n",
       "       0, 0, 0, 0, 0, 0, 0, 0, 2, 2, 0, 0, 2, 2, 2, 2, 2, 2, 2, 2, 2, 2,\n",
       "       2, 2, 2, 0, 2, 2, 2, 2, 2, 2, 2, 2, 2, 0, 2, 0, 2, 2, 2, 2, 2, 2,\n",
       "       2, 2, 2, 2, 2, 2, 2, 2, 2, 2, 2, 2, 2, 2, 2, 0, 0, 2, 2, 2, 2, 0,\n",
       "       2, 2, 2, 2, 2, 2, 2, 2, 2, 2, 2, 2, 2, 0, 2, 2, 2, 2, 2, 2, 0, 0,\n",
       "       2, 2, 2, 3, 0, 0, 2, 2, 2, 2, 2, 2, 2, 0, 0, 2, 0, 2, 0, 0, 1, 2,\n",
       "       0, 0, 0, 0, 2, 0, 2, 2, 2, 0, 2, 2, 0, 0, 2, 2, 2, 0, 2, 2, 0, 0,\n",
       "       0, 2, 0, 0, 0, 2, 2, 0, 0, 0, 0, 2, 2, 0, 2, 2, 2, 0, 0, 2, 2, 0,\n",
       "       0, 2, 0, 0, 0, 0, 2, 2, 0, 0, 2, 0, 0, 0, 0, 0, 2, 0, 2, 2, 0, 2,\n",
       "       0, 2, 0, 2, 2, 2, 0, 0, 2, 0, 2, 2, 2, 2, 2, 0, 2, 0, 0, 2, 2, 2,\n",
       "       2, 0, 0, 2, 2, 2, 2, 0, 2, 0, 0, 0, 0, 2, 2])"
      ]
     },
     "execution_count": 141,
     "metadata": {},
     "output_type": "execute_result"
    }
   ],
   "source": [
    "y_means"
   ]
  },
  {
   "cell_type": "code",
   "execution_count": 142,
   "id": "eb43c58e-db2f-47f4-9495-c2ee59524bfd",
   "metadata": {},
   "outputs": [
    {
     "data": {
      "text/plain": [
       "array([0., 1., 1., 0., 1., 0., 0.])"
      ]
     },
     "execution_count": 142,
     "metadata": {},
     "output_type": "execute_result"
    }
   ],
   "source": [
    "X[y_means==3,1]"
   ]
  },
  {
   "cell_type": "code",
   "execution_count": 143,
   "id": "cb727726-4d2c-4284-82a0-57f1561d5c0a",
   "metadata": {},
   "outputs": [
    {
     "data": {
      "text/plain": [
       "array([2003., 2012., 2013., 2004., 2005., 2006., 2010.])"
      ]
     },
     "execution_count": 143,
     "metadata": {},
     "output_type": "execute_result"
    }
   ],
   "source": [
    "X[y_means==3,0]"
   ]
  },
  {
   "cell_type": "code",
   "execution_count": 144,
   "id": "56e5ebf3-1b33-44cd-a421-07162c07e39e",
   "metadata": {},
   "outputs": [
    {
     "data": {
      "text/plain": [
       "<matplotlib.collections.PathCollection at 0x220290e7890>"
      ]
     },
     "execution_count": 144,
     "metadata": {},
     "output_type": "execute_result"
    },
    {
     "data": {
      "image/png": "[encoded data removed]",
      "text/plain": [
       "<Figure size 640x480 with 1 Axes>"
      ]
     },
     "metadata": {},
     "output_type": "display_data"
    }
   ],
   "source": [
    "plt.scatter(X[y_means==0,0],X[y_means==0,1],color='blue')\n",
    "plt.scatter(X[y_means==1,0],X[y_means==1,1],color='red')\n",
    "plt.scatter(X[y_means==2,0],X[y_means==2,1],color='green')\n",
    "plt.scatter(X[y_means==3,0],X[y_means==3,1],color='yellow')"
   ]
  },
  {
   "cell_type": "code",
   "execution_count": null,
   "id": "c6a8484f-15b5-4a67-9db6-b1e6458b3486",
   "metadata": {},
   "outputs": [],
   "source": []
  }
 ],
 "metadata": {
  "kernelspec": {
   "display_name": "Python 3 (ipykernel)",
   "language": "python",
   "name": "python3"
  },
  "language_info": {
   "codemirror_mode": {
    "name": "ipython",
    "version": 3
   },
   "file_extension": ".py",
   "mimetype": "text/x-python",
   "name": "python",
   "nbconvert_exporter": "python",
   "pygments_lexer": "ipython3",
   "version": "3.11.7"
  }
 },
 "nbformat": 4,
 "nbformat_minor": 5
}
